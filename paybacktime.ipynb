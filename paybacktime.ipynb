{
 "cells": [
  {
   "cell_type": "code",
   "execution_count": 81,
   "metadata": {},
   "outputs": [],
   "source": [
    "import pandas as pd\n",
    "pd.set_option('display.max_columns', None)\n",
    "import numpy as np\n",
    "import matplotlib as plt\n",
    "from vnstock import *\n",
    "\n",
    "from typing import Literal\n",
    "from datetime import datetime,timedelta"
   ]
  },
  {
   "cell_type": "markdown",
   "metadata": {},
   "source": [
    "Theo payback time. Để định giá một cổ phiếu thì cần các chỉ số tài chính sau có mức tăng trưởng trên 10%\n",
    "- Lợi nhuận sau thuế\n",
    "- EPS: earningPerShare\n",
    "- PE < 10: priceToEarning\n",
    "- BVPS: bookValuePerShare\n",
    "- ROE: roe\n",
    "- Cash hoạt động kinh doanh > 0\n",
    "- Tổng Nợ < 3 Sum (Lợi nhuận 3 năm)"
   ]
  },
  {
   "cell_type": "code",
   "execution_count": 140,
   "metadata": {},
   "outputs": [],
   "source": [
    "class PayBackTime:\n",
    "    def __init__(self, symbol: str = 'GEX',\n",
    "                 report_range: Literal['yearly', 'quarterly'] = 'yearly',\n",
    "                 is_all: bool = True,\n",
    "                 window_size:int = 10,):\n",
    "\n",
    "        self.window_size = window_size\n",
    "        self.symbol = symbol\n",
    "        self.report_range = report_range\n",
    "        self.is_all = is_all\n",
    "        self.sticker_price, self.MOS_price = None,None\n",
    "\n",
    "        # Initialize indicator_df, income_df, and balance_df using class variables\n",
    "        self.indicator_df = financial_ratio(symbol=self.symbol, report_range=self.report_range, is_all=self.is_all).T.reset_index() \n",
    "        self.income_df = financial_flow(symbol=self.symbol, report_type='incomestatement', report_range=self.report_range).reset_index()\n",
    "        self.balance_df = financial_flow(symbol=self.symbol, report_type='balancesheet', report_range=self.report_range).reset_index()\n",
    "        self.interest_cols = ['roe', 'earningPerShare', 'bookValuePerShare', 'revenue', 'grossProfit', 'capital']\n",
    "\n",
    "    def calculate_interest_rate(self, df, column_name: str, report:bool = False):\n",
    "        # Consider the first 10 rows using iloc\n",
    "        selected_rows = df.head(self.window_size)\n",
    "        \n",
    "        # Calculate interest using the formula: (current_value - initial_value) / initial_value * 100\n",
    "        initial_value = selected_rows[column_name].iloc[-1]\n",
    "        current_value = selected_rows[column_name].iloc[0]\n",
    "        # interest = ((current_value - initial_value) / initial_value) * 100\n",
    "        time_length = selected_rows[column_name].count()\n",
    "        interest =  ((current_value / initial_value) ** (1 / time_length) - 1) * 100\n",
    "        \n",
    "        if report: \n",
    "            if interest > 10:\n",
    "                status = 'Good'\n",
    "            elif interest < 0:\n",
    "                status = 'Really Bad'\n",
    "            else:\n",
    "                status = 'Bad'\n",
    "            \n",
    "            # Print the result\n",
    "            print(f'The {column_name}: {interest:.2f}% through {time_length} {self.report_range}: {status}')\n",
    "            \n",
    "        return interest\n",
    "    \n",
    "    def estimate_mean_interest(self, col_list: list, report:bool = False):\n",
    "        mean_interest = []\n",
    "        for col in col_list:\n",
    "            interest = self.calculate_interest_rate(self.get_dataframe_by_column(col), column_name=col, report = report)\n",
    "            mean_interest.append(interest)\n",
    "        mean_interest = np.mean(mean_interest)\n",
    "        return mean_interest\n",
    "    \n",
    "    def get_dataframe_by_column(self, column_name: str):\n",
    "        \"\"\"\n",
    "        Get the DataFrame that contains the specified column.\n",
    "        \"\"\"\n",
    "        dataframes = [self.indicator_df, self.income_df, self.balance_df]\n",
    "        for df in dataframes:\n",
    "            if column_name in df.columns:\n",
    "                return df\n",
    "        return None\n",
    "    \n",
    "    def check_debt(self):\n",
    "        debt_col = 'debt'\n",
    "        profit_col = 'grossProfit'\n",
    "        debt = self.balance_df[debt_col].iloc[0]\n",
    "        profit = self.income_df[profit_col].iloc[:2].sum()\n",
    "        \n",
    "        print(f'Debt: {debt} - Profit: {profit}')\n",
    "        \n",
    "        if debt > profit:\n",
    "            print('Debt is more than profit.')\n",
    "        elif debt < profit:\n",
    "            print('Profit is more than debt.')\n",
    "        else:\n",
    "            print('Debt and profit are equal.')\n",
    "\n",
    "    def get_current_eps(self):\n",
    "        indicator_df_temp = financial_ratio(symbol=self.symbol, report_range='quarterly', is_all=False).T.reset_index().head(1) \n",
    "        return indicator_df_temp['earningPerShare'].iloc[0]\n",
    "    \n",
    "    def get_future_pe(self):\n",
    "        return self.indicator_df['priceToEarning'].mean()\n",
    "\n",
    "    def get_current_price(self):\n",
    "        current_date = datetime.now().strftime('%Y-%m-%d')\n",
    "        start_date = (datetime.strptime(current_date, \"%Y-%m-%d\") - timedelta(days=3)).strftime('%Y-%m-%d')\n",
    "\n",
    "        print(f'Current date: {current_date}') \n",
    "        df =  stock_historical_data(symbol=self.symbol, \n",
    "                            start_date=start_date, \n",
    "                            end_date=current_date, resolution='1D', type='stock', beautify=False)\n",
    "        current_price = df.close.iloc[0]\n",
    "        return current_price\n",
    "\n",
    "\n",
    "    def calculate_price(self, current_eps=None, future_pe=None, future_growth_rate=None,\n",
    "                        MARR: int = 15, NoY: int = 10, MOS: int = 50):\n",
    "        if current_eps is None:\n",
    "            current_eps = self.get_current_eps()\n",
    "        if future_pe is None:\n",
    "            future_pe = self.get_future_pe()\n",
    "        if future_growth_rate is None:\n",
    "            future_growth_rate = self.estimate_mean_interest(col_list=self.interest_cols, report=False)\n",
    "\n",
    "        # Convert the percentage rates to decimals\n",
    "        MARR /= 100\n",
    "        MOS /= 100\n",
    "        future_growth_rate /= 100\n",
    "\n",
    "        # Calculate the future EPS using the compound annual growth rate formula\n",
    "        future_eps = current_eps * (1 + future_growth_rate) ** NoY\n",
    "        # Calculate the future price using the future PE and future EPS\n",
    "        future_price = future_pe * future_eps\n",
    "        # Calculate the present value using the discounted cash flow formula\n",
    "        self.sticker_price = future_price / (1 + MARR) ** NoY\n",
    "        self.MOS_price = self.sticker_price*MOS\n",
    "        return self.sticker_price, self.MOS_price\n",
    "\n",
    "    \n",
    "    def get_report(self):\n",
    "        # Print the result\n",
    "        print(f\"\\nCurrent EPS: {self.get_current_eps()}\")\n",
    "        print(f\"Future PE: {self.get_future_pe():.2f}\")\n",
    "        print(f\"Future Growth Rate: {self.estimate_mean_interest(col_list=self.interest_cols, report=True):.2f}%\")\n",
    "        print(\"-------------------------\")\n",
    "        if self.sticker_price is None:\n",
    "            self.sticker_price, self.MOS_price = self.calculate_price()\n",
    "        print(f\"{self.symbol} - Sticker price: {self.sticker_price/1000:.2f} - MOS price: {(self.MOS_price)/1000:.2f} (nghìn VND)\")\n",
    "        print(f'Current price: {self.get_current_price()}')\n"
   ]
  },
  {
   "cell_type": "code",
   "execution_count": 141,
   "metadata": {},
   "outputs": [],
   "source": [
    "pbt_generator = PayBackTime(symbol='DCM', report_range='yearly', window_size=10)"
   ]
  },
  {
   "cell_type": "code",
   "execution_count": 142,
   "metadata": {},
   "outputs": [
    {
     "name": "stdout",
     "output_type": "stream",
     "text": [
      "Debt: 3561 - Profit: 8484\n",
      "Profit is more than debt.\n"
     ]
    }
   ],
   "source": [
    "pbt_generator.check_debt()"
   ]
  },
  {
   "cell_type": "code",
   "execution_count": 143,
   "metadata": {},
   "outputs": [],
   "source": [
    "# pbt_generator.calculate_price()"
   ]
  },
  {
   "cell_type": "code",
   "execution_count": 144,
   "metadata": {},
   "outputs": [
    {
     "name": "stdout",
     "output_type": "stream",
     "text": [
      "\n",
      "Current EPS: 3050\n",
      "Future PE: 7.05\n",
      "The roe: 11.35% through 9 yearly: Good\n",
      "The earningPerShare: 20.29% through 9 yearly: Good\n",
      "The bookValuePerShare: 7.48% through 9 yearly: Bad\n",
      "The revenue: 9.78% through 10 yearly: Bad\n",
      "The grossProfit: 16.89% through 10 yearly: Good\n",
      "The capital: 5.17% through 10 yearly: Bad\n",
      "Future Growth Rate: 11.83%\n",
      "-------------------------\n",
      "DCM - Sticker price: 16.25 - MOS price: 8.13 (nghìn VND)\n",
      "Current date: 2023-11-05\n",
      "Current price: 29.85\n"
     ]
    }
   ],
   "source": [
    "pbt_generator.get_report()"
   ]
  }
 ],
 "metadata": {
  "kernelspec": {
   "display_name": "stock4fun",
   "language": "python",
   "name": "python3"
  },
  "language_info": {
   "codemirror_mode": {
    "name": "ipython",
    "version": 3
   },
   "file_extension": ".py",
   "mimetype": "text/x-python",
   "name": "python",
   "nbconvert_exporter": "python",
   "pygments_lexer": "ipython3",
   "version": "3.10.6"
  }
 },
 "nbformat": 4,
 "nbformat_minor": 2
}
