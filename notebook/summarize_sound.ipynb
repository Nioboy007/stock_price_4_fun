{
 "cells": [
  {
   "cell_type": "code",
   "execution_count": 1,
   "metadata": {},
   "outputs": [
    {
     "name": "stdout",
     "output_type": "stream",
     "text": [
      "/root/code_Bao/stock_price_4_fun/notebook\n"
     ]
    }
   ],
   "source": [
    "import os\n",
    "try:\n",
    "    print(file_path)\n",
    "except:\n",
    "    file_path = os.path.abspath('')\n",
    "    os.chdir(os.path.dirname(file_path))\n",
    "    print(file_path)"
   ]
  },
  {
   "cell_type": "code",
   "execution_count": 2,
   "metadata": {},
   "outputs": [],
   "source": [
    "import requests\n",
    "import re\n",
    "import time\n",
    "import random\n",
    "import urllib3\n",
    "\n",
    "urllib3.disable_warnings()"
   ]
  },
  {
   "cell_type": "code",
   "execution_count": 3,
   "metadata": {},
   "outputs": [],
   "source": [
    "from src.summarize_text import *"
   ]
  },
  {
   "cell_type": "code",
   "execution_count": 4,
   "metadata": {},
   "outputs": [
    {
     "name": "stdout",
     "output_type": "stream",
     "text": [
      "Device cuda:0\n"
     ]
    }
   ],
   "source": [
    "speech_to_text = SpeechSummaryProcessor(audio_path='data/audio_ogg.ogg')\n",
    "text = speech_to_text.generate_speech_to_text()"
   ]
  },
  {
   "cell_type": "code",
   "execution_count": 5,
   "metadata": {},
   "outputs": [
    {
     "data": {
      "text/plain": [
       "\"1: I'll go back to the map later\\n\\n2: At nine o'clock I go to bed to write my essay and at ten o'clock I go to bed\\n\""
      ]
     },
     "execution_count": 5,
     "metadata": {},
     "output_type": "execute_result"
    }
   ],
   "source": [
    "text"
   ]
  },
  {
   "cell_type": "code",
   "execution_count": 6,
   "metadata": {},
   "outputs": [],
   "source": [
    "symbol = 'SSI'"
   ]
  },
  {
   "cell_type": "code",
   "execution_count": 7,
   "metadata": {},
   "outputs": [],
   "source": [
    "news_scraper = NewsScraper()\n",
    "news_list = news_scraper.search_stock_news(symbol=symbol, date_format='year')\n",
    "news = news_scraper.take_text_from_link(news_url=news_list[0])"
   ]
  },
  {
   "cell_type": "code",
   "execution_count": 13,
   "metadata": {},
   "outputs": [
    {
     "data": {
      "text/plain": [
       "'Cụ thể, lợi nhuận trước thuế hoàn thành kế hoạch được giao (cụ thể tăng 10,2% so với năm 2022); Chỉ số ROAA và ROAE duy trì ở mức cao, tương ứng là 1,78% và 21,68%.\\n\\nTrước đó, ngân hàng này ghi nhận mức lãi hợp nhất trước thuế 37.368 tỷ đồng trong năm 2022. Như vậy, lợi nhuận hợp nhất trước thuế của Vietcombank năm 2023 ước đạt khoảng 41.200 tỷ đồng.\\n\\nVới kết quả trên, Vietcombank đã xác lập kỷ lục mới về lợi nhuận trong ngành ngân hàng và nhiều khả năng sẽ tiếp tục duy trì khoảng cách lớn với các nhà băng trong nhóm Big4 như BIDV, VietinBank và Agribank.\\n\\nKết thúc năm 2023, huy động vốn thị trường I của ngân hàng đạt xấp xỉ 1,41 triệu tỷ đồng, tăng 12,1% so với năm 2022. Dư nợ tín dụng đạt 1,27 triệu tỷ đồng, tăng 10,6% so với cuối năm 2022.\\n\\nChất lượng nợ được kiểm soát theo mục tiêu với tỷ lệ nợ nhóm 2 là gần 0,42%, tỷ lệ nợ xấu ở mức 0,97%. Dư quỹ dự phòng rủi ro theo Thông tư 11 là 34.338 tỷ đồng, tỷ lệ dự phòng bao nợ xấu TT11 đạt mức 185%.\\n\\nDự báo về triển vọng kinh tế năm 2024, ông Nguyễn Thanh Tùng – Tổng Giám đốc Vietcombank cho biết, triển vọng kinh tế thế giới 2024 được dự báo \"hạ cánh mềm\" bởi các rủi ro giảm tốc vẫn lấn át động lực tăng trưởng. Doanh nghiệp còn quan ngại mở rộng sản xuất kinh doanh do rủi ro lãi suất còn hiện hữu và căng thẳng địa chính tiếp tục xói mòn thương mại quốc tế. Hàng rào bảo hộ hạn chế xuất nhập khẩu các mặt hàng thiết yếu cũng làm méo mó thương mại quốc tế. Dự báo của các tổ chức thế giới về tăng trưởng kinh tế của các nước lớn đều giảm tốc so với 2023. Tuy nhiên, bức tranh kinh tế thế giới nửa sau năm 2024 sẽ lạc quan hơn do nhu cầu tiêu dùng, đầu tư, việc làm kỳ vọng tăng trưởng sẽ là động lực kéo tăng trưởng kinh tế thế giới tốt hơn.\\n\\nTriển vọng kinh tế Việt Nam năm 2024 sẽ lạc quan hơn triển vọng kinh tế thế giới nhờ nỗ lực điều hành kịp thời của Chính phủ tiếp tục phát huy tác dụng. Tăng trưởng kinh tế đặt mục tiêu ở mức 6% - 6,5% có thể thực hiện được nhờ các trụ đầu tư công, khu vực FDI, các dự án trọng điểm quốc gia, và sức mua tăng trong năm 2024. Kim ngạch xuất nhập khẩu kỳ vọng tăng trưởng trở lại nhờ các khu vực FDI, nông nghiệp,… Sản xuất công nghiệp phục hồi từ việc đẩy mạnh triển khai các dự án lớn trọng điểm quốc gia, phục hồi của khu vực FDI,…\\n\\nTrong khi thế giới mới đi vào pha kết thúc chu kỳ thắt chặt chính sách tiền tệ, NHNN tiếp tục duy trì chính sách lãi suất ở mức thấp nhằm hỗ trợ phục hồi sản xuất kinh doanh. Chính sách tỷ giá được điều chỉnh linh hoạt thích ứng nhằm đảm bảo ổn định lạm phát theo mục tiêu. Mục tiêu tăng trưởng tín dụng 2024 ở mức 15% sẽ tạo điều kiện để hỗ trợ tăng trưởng kinh tế.\\n\\nBám sát nhiệm vụ trọng tâm của Chính phủ năm 2024 và NHNN về việc tổ chức thực hiện các nhiệm vụ của ngành ngân hàng, kết nối với mục tiêu chiến lược phát triển VCB đến năm 2025, tầm nhìn 2030 và quán triệt phương châm hành động: \"Chuyển đổi, Hiệu quả, Bền vững\", quan điểm chỉ đạo điều hành \"Trách nhiệm – Quyết liệt – Sáng tạo\" triển khai thành công các mục tiêu kinh doanh.\\n\\nNăm 2024, Vietcombank đặt mục tiêu tổng tài sản tăng tối thiểu 8%; huy động vốn thị trường một tăng trưởng phù hợp với tăng trưởng tín dụng với việc kiểm soát tỷ lệ cho vay/huy động (theo Thông tư 22); tín dụng tăng tối thiểu 12% và trong hạn mức được giao với tỷ lệ nợ xấu kiểm soát dưới 1,5%; Lợi nhuận trước thuế tăng tối thiểu 10%.'"
      ]
     },
     "execution_count": 13,
     "metadata": {},
     "output_type": "execute_result"
    }
   ],
   "source": [
    "news"
   ]
  },
  {
   "cell_type": "code",
   "execution_count": 10,
   "metadata": {},
   "outputs": [
    {
     "name": "stderr",
     "output_type": "stream",
     "text": [
      "Your max_length is set to 230, but your input_length is only 3. Since this is a summarization task, where outputs shorter than the input are typically wanted, you might consider decreasing max_length manually, e.g. summarizer('...', max_length=1)\n"
     ]
    }
   ],
   "source": [
    "new_summarizer = NewsSummarizer()\n",
    "sum_text = new_summarizer.summary_news(news= news)"
   ]
  },
  {
   "cell_type": "code",
   "execution_count": 11,
   "metadata": {},
   "outputs": [
    {
     "name": "stdout",
     "output_type": "stream",
     "text": [
      ": . \n",
      ":: ! \n",
      "!! \n",
      ".. .! \n",
      "? \n",
      "!. \n",
      "& ! \n",
      "# !\n",
      "\n"
     ]
    }
   ],
   "source": [
    "print(sum_text)"
   ]
  },
  {
   "cell_type": "code",
   "execution_count": 11,
   "metadata": {},
   "outputs": [],
   "source": [
    "watch_list=['GEX', 'VIX', 'HHV', 'BSR', 'SHS', 'PDR', 'CTR', 'HAH', 'VNINDEX', 'VND']"
   ]
  },
  {
   "cell_type": "code",
   "execution_count": 12,
   "metadata": {},
   "outputs": [],
   "source": [
    "news_db = StockNewsDatabase()\n",
    "# news_db.update_stock_news(watch_list)"
   ]
  },
  {
   "cell_type": "code",
   "execution_count": 13,
   "metadata": {},
   "outputs": [
    {
     "data": {
      "text/plain": [
       "('Cổ phiếu GMD của Gemadept là một trong những cổ phiếu tăng mạnh nhất sàn HoSE khi đóng cửa tăng toàn bộ lên 73.000 đồng. \\nCác cổ phiếu cảng biển, logistics khác cũng giao dịch sôi động như HAH tăng gần 4%. \\nChứng khoán cũng mở cửa phiên đầu tuần trong trạng thái tích cực.\\n\\nMSN là cổ phiếu duy nhất tăng trên 5%, MWG tăng thêm 0,7%, FRT và DGW đều đóng cửa trong sắc xanh. \\nỞ nhóm bất động sản, màu xanh cũng chiếm ưu thế.\\n',\n",
       " 'https://vnexpress.net/co-phieu-van-tai-bien-noi-song-4693192.html')"
      ]
     },
     "execution_count": 13,
     "metadata": {},
     "output_type": "execute_result"
    }
   ],
   "source": [
    "news_db.extract_text_for_stock(stock_symbol='HAH')"
   ]
  },
  {
   "cell_type": "code",
   "execution_count": 14,
   "metadata": {},
   "outputs": [
    {
     "data": {
      "text/plain": [
       "['HAH', 'VIX']"
      ]
     },
     "execution_count": 14,
     "metadata": {},
     "output_type": "execute_result"
    }
   ],
   "source": [
    "news_db.get_all_stocks()"
   ]
  },
  {
   "cell_type": "code",
   "execution_count": 15,
   "metadata": {},
   "outputs": [],
   "source": [
    "# news_db.update_stock_news(watch_list)"
   ]
  }
 ],
 "metadata": {
  "kernelspec": {
   "display_name": "venv",
   "language": "python",
   "name": "python3"
  },
  "language_info": {
   "codemirror_mode": {
    "name": "ipython",
    "version": 3
   },
   "file_extension": ".py",
   "mimetype": "text/x-python",
   "name": "python",
   "nbconvert_exporter": "python",
   "pygments_lexer": "ipython3",
   "version": "3.10.12"
  }
 },
 "nbformat": 4,
 "nbformat_minor": 2
}
