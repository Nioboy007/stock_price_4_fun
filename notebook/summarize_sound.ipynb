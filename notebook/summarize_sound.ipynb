{
 "cells": [
  {
   "cell_type": "code",
   "execution_count": 1,
   "metadata": {},
   "outputs": [
    {
     "name": "stdout",
     "output_type": "stream",
     "text": [
      "/root/code_Bao/stock_price_4_fun/notebook\n"
     ]
    }
   ],
   "source": [
    "import os\n",
    "try:\n",
    "    print(file_path)\n",
    "except:\n",
    "    file_path = os.path.abspath('')\n",
    "    os.chdir(os.path.dirname(file_path))\n",
    "    print(file_path)"
   ]
  },
  {
   "cell_type": "code",
   "execution_count": 2,
   "metadata": {},
   "outputs": [],
   "source": [
    "import requests\n",
    "import re\n",
    "import time\n",
    "import random\n",
    "import urllib3\n",
    "\n",
    "urllib3.disable_warnings()"
   ]
  },
  {
   "cell_type": "code",
   "execution_count": 3,
   "metadata": {},
   "outputs": [],
   "source": [
    "from src.summarize_text import *"
   ]
  },
  {
   "cell_type": "code",
   "execution_count": 4,
   "metadata": {},
   "outputs": [
    {
     "name": "stdout",
     "output_type": "stream",
     "text": [
      "Device cuda:0\n"
     ]
    }
   ],
   "source": [
    "speech_to_text = SpeechSummaryProcessor(audio_path='data/audio_ogg.ogg')\n",
    "text = speech_to_text.generate_speech_to_text()"
   ]
  },
  {
   "cell_type": "code",
   "execution_count": 5,
   "metadata": {},
   "outputs": [
    {
     "data": {
      "text/plain": [
       "\"1: I'll be back at 8 o'clock to pack my things\\n\\n2: At 9 o'clock I go to Vich Essay and at 10 o'clock I go to bed\\n\""
      ]
     },
     "execution_count": 5,
     "metadata": {},
     "output_type": "execute_result"
    }
   ],
   "source": [
    "text"
   ]
  },
  {
   "cell_type": "code",
   "execution_count": 6,
   "metadata": {},
   "outputs": [],
   "source": [
    "symbol = 'SSI'"
   ]
  },
  {
   "cell_type": "code",
   "execution_count": 7,
   "metadata": {},
   "outputs": [],
   "source": [
    "news_scraper = NewsScraper()\n",
    "news_list = news_scraper.search_stock_news(symbol=symbol, date_format='year')\n",
    "news = news_scraper.take_text_from_link(news_url=news_list[0])"
   ]
  },
  {
   "cell_type": "code",
   "execution_count": 8,
   "metadata": {},
   "outputs": [],
   "source": [
    "new_summarizer = NewsSummarizer()\n",
    "sum_text = new_summarizer.summary_news(news= news)"
   ]
  },
  {
   "cell_type": "code",
   "execution_count": 9,
   "metadata": {},
   "outputs": [
    {
     "data": {
      "text/plain": [
       "'   Ngân hàng Nhà nước quay trở lại phát hành tín phiếu trên kênh thị trường mở. \\nKhối lượng phát hành lần đầu đạt 10.000 tỷ đồng trong 3 phiên đầu tiên. \\nTrên thực tế, việc phát hành tín phiếu cũng có thể coi là tích cực, thay vì việc Ngân hàng Nhà nước lựa chọn bán ngoại tệ.\\n\\n    Năm 2022, nguyên nhân chính đến từ việc tăng trưởng tín dụng vượt trần từ giữa năm. \\nTăng trưởng tín dụng tính đến ngày 15/9 chỉ ở mức 5,5% so với đầu năm. \\nNgân hàng Nhà nước chọn phát hành tín phiếu là phương án bắt đầu từ năm 2023.\\n'"
      ]
     },
     "execution_count": 9,
     "metadata": {},
     "output_type": "execute_result"
    }
   ],
   "source": [
    "sum_text"
   ]
  },
  {
   "cell_type": "code",
   "execution_count": 10,
   "metadata": {},
   "outputs": [],
   "source": [
    "watch_list=['GEX', 'VIX', 'HHV', 'BSR', 'SHS', 'PDR', 'CTR', 'HAH', 'VNINDEX', 'VND']"
   ]
  },
  {
   "cell_type": "code",
   "execution_count": 11,
   "metadata": {},
   "outputs": [
    {
     "name": "stderr",
     "output_type": "stream",
     "text": [
      "Your max_length is set to 230, but your input_length is only 141. Since this is a summarization task, where outputs shorter than the input are typically wanted, you might consider decreasing max_length manually, e.g. summarizer('...', max_length=70)\n",
      "Your max_length is set to 230, but your input_length is only 147. Since this is a summarization task, where outputs shorter than the input are typically wanted, you might consider decreasing max_length manually, e.g. summarizer('...', max_length=73)\n",
      "Your max_length is set to 230, but your input_length is only 144. Since this is a summarization task, where outputs shorter than the input are typically wanted, you might consider decreasing max_length manually, e.g. summarizer('...', max_length=72)\n",
      "Your max_length is set to 230, but your input_length is only 200. Since this is a summarization task, where outputs shorter than the input are typically wanted, you might consider decreasing max_length manually, e.g. summarizer('...', max_length=100)\n"
     ]
    }
   ],
   "source": [
    "final = summary_stock_news(watch_list)"
   ]
  },
  {
   "cell_type": "code",
   "execution_count": 12,
   "metadata": {},
   "outputs": [
    {
     "name": "stdout",
     "output_type": "stream",
     "text": [
      "Đây là bản tóm tắt tin tức hôm nay dựa trên watch list của bạn:\n",
      "\n",
      " -- Stock: BSR \n",
      "    Công ty Cổ phần Báo cáo Đánh giá Việt Nam công bố bảng xếp hạng “VNR500 – Top 500 doanh nghiệp lớn nhất Việt Nam năm 2023” BSR xếp thứ 4 sau Samsung Việt Nam, Tập đoàn Dầu khí Việt Nam và Tập đoàn Xăng dầu Việt Nam. \n",
      "Từ vị trí thứ 5 đến thứ 10 là các doanh nghiệp: Viettel, Agribank, Tập đoàn Công nghiệp Than Khoáng sản Việt Nam, Tập đoàn Hòa Phát, Ngân hàng TMCP Phát triển Việt Nam (BIDV), Tập đoàn VinGroup...\n",
      "\n",
      "    Tổng doanh thu hơn 1,53 triệu tỷ đồng. \n",
      "Ước tính đến hết tháng 11/2023, công ty sẽ sản xuất khoảng 6,7 triệu tấn sản phẩm. \n",
      "Bảng xếp hạng VNR500 được xây dựng dựa trên kết quả nghiên cứu và đánh giá độc lập của Vietnam Report.\n",
      " \n",
      " Link: https://vnexpress.net/bsr-dung-thu-4-trong-top-500-doanh-nghiep-lon-nhat-viet-nam-4668141.html \n",
      "--------------\n",
      "\n",
      " -- Stock: HAH \n",
      "    Bà Trần Thị Thơm - Kiểm soát viên Công ty Cổ phần Vận tải và Xếp dỡ Hải An. \n",
      "Cô đặt nhầm lệnh thành HAH. \n",
      "Cô nói: “Đây là lần đầu tiên tôi mắc phải sai lầm này”.\n",
      "\n",
      "    Thời điểm bà Thơm bán 5.000 cổ phiếu diễn ra trước giai đoạn cổ phiếu HAH giảm giá nghiêm trọng. \n",
      "Kể từ đó, mã này đã giảm xuống quanh mức 30.000 đồng/chiếc vào thời điểm cuối tháng, tức chỉ bằng khoảng 1/3 giá thị trường.\n",
      " \n",
      " Link: https://vnexpress.net/mot-sep-hah-ban-chui-co-phieu-vi-mat-kem-4682401.html \n",
      "--------------\n",
      "\n"
     ]
    }
   ],
   "source": [
    "print(final)"
   ]
  }
 ],
 "metadata": {
  "kernelspec": {
   "display_name": "venv",
   "language": "python",
   "name": "python3"
  },
  "language_info": {
   "codemirror_mode": {
    "name": "ipython",
    "version": 3
   },
   "file_extension": ".py",
   "mimetype": "text/x-python",
   "name": "python",
   "nbconvert_exporter": "python",
   "pygments_lexer": "ipython3",
   "version": "3.10.12"
  }
 },
 "nbformat": 4,
 "nbformat_minor": 2
}
