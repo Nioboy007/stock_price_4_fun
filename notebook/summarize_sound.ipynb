{
 "cells": [
  {
   "cell_type": "code",
   "execution_count": 1,
   "metadata": {},
   "outputs": [
    {
     "name": "stdout",
     "output_type": "stream",
     "text": [
      "/root/code_Bao/stock_price_4_fun/notebook\n"
     ]
    }
   ],
   "source": [
    "import os\n",
    "try:\n",
    "    print(file_path)\n",
    "except:\n",
    "    file_path = os.path.abspath('')\n",
    "    os.chdir(os.path.dirname(file_path))\n",
    "    print(file_path)"
   ]
  },
  {
   "cell_type": "code",
   "execution_count": 2,
   "metadata": {},
   "outputs": [
    {
     "name": "stdout",
     "output_type": "stream",
     "text": [
      "Selected device: cuda\n"
     ]
    }
   ],
   "source": [
    "import requests\n",
    "import re\n",
    "import time\n",
    "import random\n",
    "import urllib3\n",
    "\n",
    "urllib3.disable_warnings()\n",
    "from src.summarize_text import *\n"
   ]
  },
  {
   "cell_type": "code",
   "execution_count": 3,
   "metadata": {},
   "outputs": [
    {
     "name": "stdout",
     "output_type": "stream",
     "text": [
      "Selected device: cuda\n"
     ]
    }
   ],
   "source": [
    "speech_to_text = SpeechSummaryProcessor(audio_path='data/audio_ogg.ogg')\n",
    "text = speech_to_text.generate_speech_to_text()"
   ]
  },
  {
   "cell_type": "code",
   "execution_count": 4,
   "metadata": {},
   "outputs": [
    {
     "data": {
      "text/plain": [
       "\"1: I'll be home later at 8 o'clock to pack my clothes\\n\\n2: At 9 o'clock I go to bed to write my essay and at 10 o'clock I go to bed\\n\""
      ]
     },
     "execution_count": 4,
     "metadata": {},
     "output_type": "execute_result"
    }
   ],
   "source": [
    "text"
   ]
  },
  {
   "cell_type": "code",
   "execution_count": 5,
   "metadata": {},
   "outputs": [],
   "source": [
    "symbol = 'SSI'"
   ]
  },
  {
   "cell_type": "code",
   "execution_count": 6,
   "metadata": {},
   "outputs": [],
   "source": [
    "\n",
    "\n",
    "class NewsScraper:\n",
    "    '''\n",
    "    Scape News from https://vnexpress.net/ \n",
    "    How to run selenium on linux\n",
    "    https://cloudbytes.dev/snippets/run-selenium-and-chrome-on-wsl2#:~:text=With%20Selenium%20libraries%2C%20Python%20can,using%20Python%20and%20Selenium%20webdriver.\n",
    "    \n",
    "    '''\n",
    "    def __init__(self):\n",
    "        pass\n",
    "\n",
    "    def search_stock_news(self, symbol:str = \"SSI\",\n",
    "                          date_format:Literal['day', 'week', 'month', 'year']='day')-> list : \n",
    "        symbol = symbol.upper()\n",
    "        url = f\"https://timkiem.vnexpress.net/?search_f=&q={symbol}&date_format={date_format}&\"\n",
    "\n",
    "        # Send a GET request to the webpage\n",
    "        response = requests.get(url)\n",
    "        # Check if the request was successful (status code 200)\n",
    "        attemp = 0\n",
    "        max_attemps = 3\n",
    "        news_urls = []\n",
    "\n",
    "        while attemp <= max_attemps:\n",
    "            try:\n",
    "                soup = BeautifulSoup(response.text, 'html.parser')\n",
    "                # Assuming the news articles are wrapped in <article> elements\n",
    "                articles = soup.find_all('article', class_='item-news-common')\n",
    "                # Iterate through each article and extract the URL\n",
    "                for article in articles:\n",
    "                    url = article.get('data-url')\n",
    "                    if url:\n",
    "                        news_urls.append(url)\n",
    "\n",
    "                break\n",
    "                \n",
    "            except Exception as e:\n",
    "                print(f\"An error occurred: {str(e)}\")\n",
    "                print(\"Resetting the Scraper in 10 seconds...\")\n",
    "                time.sleep(10)  \n",
    "                attemp += 1\n",
    "                if attemp > max_attemps:\n",
    "                    print(\"Max attempts reached. Exiting.\")\n",
    "                    break\n",
    "\n",
    "        return news_urls\n",
    "\n",
    "    def search_top_news_cafef(self)-> list:\n",
    "\n",
    "        url = 'https://cafef.vn/'\n",
    "        # Send a GET request to the webpage\n",
    "        response = requests.get(url)\n",
    "        # Check if the request was successful (status code 200)\n",
    "        attemp = 0\n",
    "        max_attemps = 3\n",
    "        news_urls = []\n",
    "\n",
    "        while attemp <= max_attemps:\n",
    "            try:\n",
    "                soup = BeautifulSoup(response.text, 'html.parser')\n",
    "\n",
    "                # Find top news elements\n",
    "                top_news_elements = soup.find_all('div', class_='top_noibat')\n",
    "                top_news = top_news_elements[0] if top_news_elements else None\n",
    "\n",
    "                top_news_links = top_news.find_all('a')\n",
    "                # Extract and print the links\n",
    "                for link in top_news_links:\n",
    "                    news_link = link.get('href')\n",
    "                    news_link = f'{url}{news_link}'\n",
    "                    news_urls.append(news_link)\n",
    "\n",
    "                    # Convert set to list\n",
    "                    news_urls = list(set(news_urls))\n",
    "                break\n",
    "                \n",
    "            except Exception as e:\n",
    "                print(f\"An error occurred: {str(e)}\")\n",
    "                print(\"Resetting the Scraper in 10 seconds...\")\n",
    "                time.sleep(10)  \n",
    "                attemp += 1\n",
    "                if attemp > max_attemps:\n",
    "                    print(\"Max attempts reached. Exiting.\")\n",
    "                    break\n",
    "\n",
    "        return news_urls\n",
    "    \n",
    "    def search_top_news_vnexpress(self)-> list:\n",
    "\n",
    "        url = 'https://vnexpress.net/kinh-doanh'\n",
    "        # Send a GET request to the webpage\n",
    "        response = requests.get(url)\n",
    "        # Check if the request was successful (status code 200)\n",
    "        attemp = 0\n",
    "        max_attemps = 3\n",
    "        news_urls = []\n",
    "\n",
    "        while attemp <= max_attemps:\n",
    "            try:\n",
    "                # Parse the HTML content\n",
    "                soup = BeautifulSoup(response.text, 'html.parser')\n",
    "\n",
    "                # Find news elements\n",
    "                news_elements = soup.find_all('h3', class_='title_news')\n",
    "                news_elements.append(soup.find('section', class_='section_topstory_folder'))\n",
    "\n",
    "                # Extract and return the URLs\n",
    "                news_urls = [element.find('a').get('href') for element in news_elements if element.find('a')]\n",
    "                break\n",
    "                \n",
    "            except Exception as e:\n",
    "                print(f\"An error occurred: {str(e)}\")\n",
    "                print(\"Resetting the Scraper in 10 seconds...\")\n",
    "                time.sleep(10)  \n",
    "                attemp += 1\n",
    "                if attemp > max_attemps:\n",
    "                    print(\"Max attempts reached. Exiting.\")\n",
    "                    break\n",
    "\n",
    "        return news_urls\n",
    "    \n",
    "    def search_top_news(self)-> list:\n",
    "        news_urls = self.search_top_news_cafef()\n",
    "        news_urls.extend(self.search_top_news_vnexpress())\n",
    "        return news_urls\n",
    "    \n",
    "    def take_text_from_link(self, news_url:str) -> str :\n",
    "        news_url = [news_url]\n",
    "        loader = NewsURLLoader(urls=news_url, \n",
    "                            post_processors=[clean_extra_whitespace],)\n",
    "        news_text = loader.load()\n",
    "        news_text = news_text[0].page_content\n",
    "        return  news_text"
   ]
  },
  {
   "cell_type": "code",
   "execution_count": 7,
   "metadata": {},
   "outputs": [],
   "source": [
    "news_scraper = NewsScraper()\n",
    "# news_list = news_scraper.search_stock_news(symbol=symbol, date_format='year')\n",
    "news_list = news_scraper.search_top_news()\n",
    "news = news_scraper.take_text_from_link(news_url=news_list[0])"
   ]
  },
  {
   "cell_type": "code",
   "execution_count": 8,
   "metadata": {},
   "outputs": [
    {
     "data": {
      "text/plain": [
       "'Nhà đầu tư chứng khoán tại Việt Nam đang có một khoảng thời gian tươi đẹp khi thị trường liên tục đi lên thời gian gần đây. Sau hơn 2 tháng, VN-Index tăng hơn 12% qua đó leo lên mức cao nhất kể từ giữa tháng 10 năm ngoái. Mặc dù không quá bùng nổ nhưng diễn biến khởi sắc này cũng gợi nhớ phần nào đến giai đoạn tuyệt vời cách đây 2 năm.\\n\\nĐúng vào ngày này (6/1) năm 2022, thị trường chứng khoán Việt Nam ghi dấu một cột mốc quan trọng khi VN-Index lập đỉnh lịch sử 1.528,57 điểm. Đến nay, đây vẫn là mức cao nhất mà chỉ số này từng chạm đến. Vốn hóa HoSE thời điểm đó đạt xấp xỉ 6 triệu tỷ, giá trị toàn sàn chứng khoán lên đến gần 8 triệu tỷ đồng.\\n\\nThành tích “vô tiền khoáng hậu” trên là kết quả của một con sóng thần với động lực chính là sự đổ bộ ồ ạt của các nhà đầu tư mới trong môi trường tiền rẻ. Sau gần 2 năm kể từ đáy Covid (cuối tháng 3/2020), VN-Index đã tăng hơn 120%. Có không ít “ổ gà” trên đường lên đỉnh lịch sử nhưng nhìn chung xu hướng tăng vẫn xuyên suốt giai đoạn đó.\\n\\nSau khoảng 3 tháng neo giá gần vùng đỉnh, VN-Index có thêm một lần nữa nhích nhẹ lên trên 1.500 điểm vào đầu tháng 4/2022 trước khi giông bão ập đến thị trường chứng khoán. Hoạt động chốt lời, chính sách tiền tệ đảo chiều, siết chặt quản lý thị trường trái phiếu doanh nghiệp, thanh lọc thị trường chứng khoán,… tạo ra những áp lực đè nặng lên tâm lý nhà đầu tư.\\n\\nTừ đỉnh cao, VN-Index rơi chóng vánh xuống đáy 3 năm chỉ sau chưa đầy 7 tháng. Dòng tiền bắt đáy, đặc biệt từ khối ngoại “ồ ạt” đổ vào đã kéo thị trường hồi phục vào cuối năm ngoái. Xu hướng này nhìn chung vẫn tiếp diễn sau đó nhưng chưa đủ để đưa VN-Index trở lại thời kỳ đỉnh cao. Mức cao nhất mà chỉ số đạt được trong hơn một năm trở lại đây còn chưa đến 1.250 điểm.\\n\\nTrở lại 1.500 điểm chỉ là vấn đề thời gian?\\n\\nMặc dù còn rất xa đỉnh lịch sử nhưng khả năng VN-Index vượt 1.500 điểm trong tương lai không phải là không thể xảy ra với nhiều triển vọng được đánh giá lạc quan. Vấn đề có lẽ chỉ là thời gian.\\n\\nTrong một báo cáo hồi tháng 10/2023 (thời điểm VN-Index đang ở mức điểm tương đương hiện tại), Pyn Elite Fund cho biết tỷ lệ P/S (giá trên doanh thu) chỉ ra rằng chứng khoán Việt Nam được định giá tương đối thấp so với đầu năm 2022. Quỹ ngoại nhận định thị trường có tiềm năng trở lại mức định giá P/S trên 2 tương đương VN-Index ở vùng đỉnh 1.500 điểm trên trong 12 tháng tới. Trước đó, quỹ thậm chí còn nhận định VN-Index có thể đạt mốc 2.500 điểm vào năm 2025-2026.\\n\\nÔng Petri Deryng, người quản lý Pyn Elite Fund cho rằng con số doanh thu của các công ty niêm yết tại Việt Nam sẽ đạt kỷ lục vào năm 2024, mức tăng trưởng hơn 20%. Hiện, thị trường chứng khoán đang chưa phản ánh tốc độ tăng trưởng lợi nhuận của doanh nghiệp và câu chuyện giảm lãi suất.\\n\\nKhông lạc quan như Pyn Elite Fund nhưng đa số các CTCK cũng đánh giá thị trường chứng khoán sẽ có nhiều gam màu sáng trong năm 2024. Hầu hết đều dự báo VN-Index có thể tiếp tục bứt phá mạnh về mặt điểm số, thậm chí có đơn vị dự báo chỉ số có thể cán mốc 1.460 điểm trong năm 2024. Động lực của thị trường năm 2024 được các CTCK nhìn nhận đến từ kỳ vọng Fed đảo chiều chính sách, tình hình vĩ mô trong nước ổn định và khả năng tăng trưởng doanh nghiệp tích cực.\\n\\nKhông đưa ra dự báo cụ thể về VN-Index nhưng Dragon Capital cũng đánh giá lãi suất có thể giảm thêm sẽ tác động tích cực đến thị trường chứng khoán năm 2024. Quỹ ngoại này cho biết những cuộc gặp và trao đổi với các doanh nghiệp trong giai đoạn cuối năm đã cho thấy sự đồng thuận cao rằng nền kinh tế Việt Nam đang phục hồi từ vùng đáy của nửa đầu năm 2023.\\n\\nTheo Dragon Capital, mặc dù kỳ vọng về lợi nhuận và biên lợi nhuận còn chưa rõ ràng nhưng năm 2024 dường như sẽ chứng kiến sự phục hồi trong doanh số bán hàng qua đó giúp tác động tích cực đến dòng tiền của các công ty thuộc phạm vi nghiên cứu của quỹ.\\n\\nNgoài những yếu tố trên, triển vọng nâng hạng ngày càng rõ ràng sau những nỗ lực của cơ quan quản lý và các thành viên tham gia thị trường, cũng sẽ góp phần hỗ trợ thị trường chứng khoán thời gian tới. Theo nhận định của nhiều tổ chức, hàng tỷ USD vốn ngoại sẽ đổ vào chứng khoán Việt Nam nếu thị trường được nâng hạng từ cận biên lên mới nổi.'"
      ]
     },
     "execution_count": 8,
     "metadata": {},
     "output_type": "execute_result"
    }
   ],
   "source": [
    "news"
   ]
  },
  {
   "cell_type": "code",
   "execution_count": 9,
   "metadata": {},
   "outputs": [
    {
     "name": "stderr",
     "output_type": "stream",
     "text": [
      "Your max_length is set to 230, but your input_length is only 66. Since this is a summarization task, where outputs shorter than the input are typically wanted, you might consider decreasing max_length manually, e.g. summarizer('...', max_length=33)\n"
     ]
    }
   ],
   "source": [
    "new_summarizer = NewsSummarizer()\n",
    "sum_text = new_summarizer.summary_news(news= news)"
   ]
  },
  {
   "cell_type": "code",
   "execution_count": 10,
   "metadata": {},
   "outputs": [
    {
     "name": "stdout",
     "output_type": "stream",
     "text": [
      "Sau hơn 2 tháng, VN-Index tăng hơn 12%, qua đó leo lên mức cao nhất kể từ giữa tháng 10 năm ngoái. \n",
      "Mức cao nhất mà chỉ số đạt được trong hơn một năm là dưới 1.250 điểm. \n",
      "Sự đi lên này phần nào gợi nhớ lại khoảng thời gian tuyệt vời cách đây 2 năm.\n",
      "\n",
      "Các quỹ ngoại cho rằng thị trường có tiềm năng quay trở lại mức định giá P/S trên 2, tương đương VN-Index ở đỉnh 1.500 điểm trong 12 tháng tới. \n",
      "Con số doanh thu của các công ty niêm yết tại Việt Nam sẽ đạt kỷ lục vào năm 2024, tốc độ tăng trưởng hơn 20%\n",
      "\n",
      "Hàng tỷ USD vốn ngoại sẽ đổ vào chứng khoán Việt Nam nếu thị trường được nâng hạng từ cận biên lên mới nổi . \n",
      "nếu được nâng hạng sẽ góp phần hỗ trợ thị trường chứng khoán trong thời gian tới.\n",
      "\n"
     ]
    }
   ],
   "source": [
    "print(sum_text)"
   ]
  },
  {
   "cell_type": "code",
   "execution_count": 11,
   "metadata": {},
   "outputs": [],
   "source": [
    "watch_list=['GEX', 'VIX', 'HHV', 'BSR', 'SHS', 'PDR', 'CTR', 'HAH', 'VNINDEX', 'VND']"
   ]
  },
  {
   "cell_type": "code",
   "execution_count": 22,
   "metadata": {},
   "outputs": [],
   "source": [
    "news_db = StockNewsDatabase()\n",
    "# news_db.update_stock_news(watch_list)"
   ]
  },
  {
   "cell_type": "code",
   "execution_count": 13,
   "metadata": {},
   "outputs": [],
   "source": [
    "# news_db.update_news(watch_list=watch_list)"
   ]
  },
  {
   "cell_type": "code",
   "execution_count": 14,
   "metadata": {},
   "outputs": [
    {
     "data": {
      "text/plain": [
       "('Cổ phiếu GMD của Gemadept là một trong những cổ phiếu tăng mạnh nhất sàn HoSE khi đóng cửa tăng toàn bộ lên 73.000 đồng. \\nCác cổ phiếu cảng biển, logistics khác cũng giao dịch sôi động như HAH tăng gần 4%. \\nChứng khoán cũng mở cửa phiên đầu tiên trong trạng thái tích cực.\\n\\nỞ nhóm ngân hàng, sắc xanh cũng chiếm ưu thế. \\nVPB, BID, CTG tăng gần 2%, VIB, HDB, TCB, STB tăng trên 1%. \\nNhóm bán lẻ và hàng tiêu dùng cũng nhận được sự quan tâm.\\n',\n",
       " 'https://vnexpress.net/co-phieu-van-tai-bien-noi-song-4693192.html')"
      ]
     },
     "execution_count": 14,
     "metadata": {},
     "output_type": "execute_result"
    }
   ],
   "source": [
    "news_db.extract_text_for_stock(stock_symbol='HAH')"
   ]
  },
  {
   "cell_type": "code",
   "execution_count": 15,
   "metadata": {},
   "outputs": [
    {
     "data": {
      "text/plain": [
       "['HAH', 'VIX']"
      ]
     },
     "execution_count": 15,
     "metadata": {},
     "output_type": "execute_result"
    }
   ],
   "source": [
    "news_db.get_all_stocks()"
   ]
  },
  {
   "cell_type": "code",
   "execution_count": 23,
   "metadata": {},
   "outputs": [
    {
     "data": {
      "text/plain": [
       "'Sau hơn 2 tháng, VN-Index tăng hơn 12%, qua đó leo lên mức cao nhất kể từ giữa tháng 10 năm ngoái. \\nMức cao nhất mà chỉ số đạt được trong hơn một năm là dưới 1.250 điểm. \\nSự đi lên này phần nào gợi nhớ lại khoảng thời gian tuyệt vời cách đây 2 năm.\\n\\nCác quỹ ngoại cho rằng thị trường có tiềm năng quay trở lại mức định giá P/S trên 2, tương đương VN-Index ở đỉnh 1.500 điểm trong 12 tháng tới. \\nCon số doanh thu của các công ty niêm yết tại Việt Nam sẽ đạt kỷ lục vào năm 2024, tốc độ tăng trưởng hơn 20%\\n\\nHàng tỷ USD vốn ngoại sẽ đổ vào chứng khoán Việt Nam nếu thị trường được nâng hạng từ cận biên lên mới nổi . \\nnếu được nâng hạng sẽ góp phần hỗ trợ thị trường chứng khoán trong thời gian tới.\\n\\nhttps://cafef.vn//ngay-nay-2-nam-truoc-vn-index-lap-dinh-lich-su-152857-diem-188240105233819823.chn\\n----------\\nSố liệu từ Hiệp hội môi giới bất động sản Việt Nam cho thấy, năm 2022, nguồn cung nhà ở ra thị trường sẽ đạt khoảng 43.500 căn hộ, tương đương 90% tổng số sản phẩm chào bán năm 2021. \\nTrong 6 tháng đầu năm 2023, nguồn cung mới tại Hà Nội giảm 91% và tại TP.HCM giảm 89%. \\nTừ năm 2018 đến nay, nguồn cung căn hộ mới giảm trung bình 14%/năm. \\nThị trường bất động sản đang thiếu nguồn cung trầm trọng\\n\\nChỉ riêng năm 2021, giá nhà trung bình sẽ tăng trưởng hai con số, thậm chí gấp nhiều lần so với cùng kỳ. \\nTừ mức giá trung bình 100 triệu đồng/m2 năm 2018, mức giá hiện tại của phân khúc thấp tầng khu Đông Hà Nội là khoảng 214 triệu đồng. \\nNăm 2018, giá trị trung bình biệt thự, nhà liền kề ở Hà Nội đã tăng hàng chục lần. \\nĐể tháo gỡ “nút thắt” về nguồn cung hiện nay, ông Nguyễn Văn Định đề xuất\\n\\nCơ quan có thẩm quyền cần sử dụng hiệu quả các công cụ để lập, điều chỉnh quy hoạch, kế hoạch sử dụng đất. \\nCần xóa bỏ quy hoạch “treo” và xây dựng hành lang pháp lý riêng cho việc mua bán đất tại khu vực quy hoạch. \\nPhối hợp với Ngân hàng Nhà nước, các bộ, ngành, địa phương tháo gỡ vướng mắc về cơ chế, chính sách, pháp luật cho Dự án.\\n\\nhttps://cafef.vn//thi-truong-bat-dong-san-khat-nguon-cung-gia-nha-tang-lien-tuc-du-bao-kho-giam-188240106065023587.chn\\n----------\\nSở Giao dịch chứng khoán TP.HCM (HoSE) vừa công bố danh sách 10 công ty chứng khoán có thị phần lớn nhất về giao dịch môi giới chứng khoán, chứng chỉ quỹ và chứng quyền có bảo đảm. \\nQuý cuối năm 2023 chứng kiến \\u200b\\u200bnhiều xáo trộn ở các top đầu, nổi bật là sự tăng tốc của TCBS từ 6,8% quý trước lên 7,55%. \\nNgược lại, thị phần của VNDirect tiếp tục sụt giảm quý thứ 2 liên tiếp, xuống còn 6,64%. \\nỞ top sau, FPTS thay thế VCBS thành\\n\\nhttps://cafef.vn//thi-phan-moi-gioi-hose-quy-4-2023-tcbs-vuot-vndirect-hsc-day-mbs-ra-khoi-top-5-188240105183615455.chn\\n----------\\nTừ tháng 12/2023, lãi suất cho vay mua nhà tại HSBC sẽ giảm 1%/năm xuống chỉ còn 6,5%/năm. \\nVietcombank cũng hạ lãi suất xuống 6,7%/năm. \\nMức lãi suất cho vay tháng 1/2024 cao nhất thị trường thuộc về Ngân hàng TMCP Việt Nam Thịnh Vượng - VPBank.\\n\\nNhóm Big 4 thuộc về Agribank với 7%/năm, thấp nhất thuộc về VietinBank với 6,4%/năm. \\nSau 1 năm lãi suất tiền gửi “lao dốc”, lãi suất cho vay mua nhà cũng giảm sâu. \\nTuy nhiên, một số đơn vị không còn áp dụng mức giá siêu ưu đãi nữa.\\n\\nhttps://cafef.vn//ngan-hang-nao-cho-vay-mua-nha-uu-dai-nhat-thang-1-2024-188240106141134908.chn\\n----------\\nÔng Phạm Nhật Vượng sẽ đảm nhận vị trí Tổng Giám đốc VinFast. \\nBà Lê Thị Thu Thủy cũng sẽ đảm nhận vai trò Tổng Giám đốc. \\nCông ty cũng thông báo bổ nhiệm ông David Mansfield làm Giám đốc Tài chính.\\n\\nÔng Phạm Nhật Vượng là Chủ tịch Tập đoàn VinFast, công ty mẹ của VinFast. \\nBà Lê Thị Thu Thủy, hiện đang chuyển sang giữ chức vụ Chủ tịch Hội đồng quản trị. \\nBà gia nhập Tập đoàn VinGroup vào năm 2008 với vai trò Giám đốc Tài chính.\\n\\nhttps://cafef.vn//ong-pham-nhat-vuong-lam-tgd-vinfast-188240106100255167.chn\\n----------\\n'"
      ]
     },
     "execution_count": 23,
     "metadata": {},
     "output_type": "execute_result"
    }
   ],
   "source": [
    "news_db.get_top_news()"
   ]
  }
 ],
 "metadata": {
  "kernelspec": {
   "display_name": "venv",
   "language": "python",
   "name": "python3"
  },
  "language_info": {
   "codemirror_mode": {
    "name": "ipython",
    "version": 3
   },
   "file_extension": ".py",
   "mimetype": "text/x-python",
   "name": "python",
   "nbconvert_exporter": "python",
   "pygments_lexer": "ipython3",
   "version": "3.10.12"
  }
 },
 "nbformat": 4,
 "nbformat_minor": 2
}
