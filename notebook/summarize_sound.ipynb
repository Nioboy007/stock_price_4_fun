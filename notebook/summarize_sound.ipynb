{
 "cells": [
  {
   "cell_type": "code",
   "execution_count": 9,
   "metadata": {},
   "outputs": [
    {
     "name": "stdout",
     "output_type": "stream",
     "text": [
      "/root/code_Bao/stock_price_4_fun/notebook\n"
     ]
    }
   ],
   "source": [
    "import os\n",
    "try:\n",
    "    print(file_path)\n",
    "except:\n",
    "    file_path = os.path.abspath('')\n",
    "    os.chdir(os.path.dirname(file_path))\n",
    "    print(file_path)"
   ]
  },
  {
   "cell_type": "code",
   "execution_count": 10,
   "metadata": {},
   "outputs": [
    {
     "data": {
      "application/vnd.jupyter.widget-view+json": {
       "model_id": "44c064a1c81f421cb4226eb24531052b",
       "version_major": 2,
       "version_minor": 0
      },
      "text/plain": [
       "Fetching 1 files:   0%|          | 0/1 [00:00<?, ?it/s]"
      ]
     },
     "metadata": {},
     "output_type": "display_data"
    },
    {
     "data": {
      "application/vnd.jupyter.widget-view+json": {
       "model_id": "989ddec730d64560a0a80c1172426ad6",
       "version_major": 2,
       "version_minor": 0
      },
      "text/plain": [
       "Fetching 1 files:   0%|          | 0/1 [00:00<?, ?it/s]"
      ]
     },
     "metadata": {},
     "output_type": "display_data"
    },
    {
     "name": "stdout",
     "output_type": "stream",
     "text": [
      "Selected device: cuda\n"
     ]
    }
   ],
   "source": [
    "import requests\n",
    "import re\n",
    "import time\n",
    "import random\n",
    "import urllib3\n",
    "\n",
    "urllib3.disable_warnings()\n",
    "from src.summarize_text import *\n"
   ]
  },
  {
   "cell_type": "code",
   "execution_count": 3,
   "metadata": {},
   "outputs": [
    {
     "name": "stdout",
     "output_type": "stream",
     "text": [
      "Selected device: cuda\n"
     ]
    }
   ],
   "source": [
    "speech_to_text = SpeechSummaryProcessor(audio_path='data/audio_ogg.ogg')\n",
    "text = speech_to_text.generate_speech_to_text()"
   ]
  },
  {
   "cell_type": "code",
   "execution_count": 4,
   "metadata": {},
   "outputs": [
    {
     "data": {
      "text/plain": [
       "\"I'll be back at 8 o'clock later\\n \\nAt 9 o'clock I go to bed to write my essay and at 10 o'clock I go to bed\\n\""
      ]
     },
     "execution_count": 4,
     "metadata": {},
     "output_type": "execute_result"
    }
   ],
   "source": [
    "text"
   ]
  },
  {
   "cell_type": "code",
   "execution_count": 5,
   "metadata": {},
   "outputs": [],
   "source": [
    "symbol = 'SSI'"
   ]
  },
  {
   "cell_type": "code",
   "execution_count": 6,
   "metadata": {},
   "outputs": [],
   "source": [
    "news_scraper = NewsScraper()\n",
    "# news_list = news_scraper.search_stock_news(symbol=symbol, date_format='year')\n",
    "news_list = news_scraper.search_top_news()\n",
    "news = news_scraper.take_text_from_link(news_url=news_list[0])"
   ]
  },
  {
   "cell_type": "code",
   "execution_count": 7,
   "metadata": {},
   "outputs": [
    {
     "data": {
      "text/plain": [
       "'Theo báo cáo của JLL Việt Nam, trong quý cuối năm, phân khúc nhà liền thổ tại TPHCM ghi nhận 37 căn mở bán chính thức từ Sen Vàng Town, một dự án tại Bình Chánh đã được tiền mở bán từ năm 2022. Tổng nguồn cung mới trong năm đạt 180 căn và chạm mức thấp kỷ lục trong 10 năm qua. Nguyên nhân chủ yếu đến từ việc các chủ đầu tư trì hoãn giới thiệu dự án giữa thời điểm thị trường suy yếu và một phần do sự chậm trễ về thủ tục pháp lý hoặc tiến độ xây dựng đối với các dự án đã được tiền mở bán, chưa thỏa điều kiện ký hợp đồng mua bán.\\n\\nThị trường nhà liền thổ tiếp tục ghi nhận số lượng giao dịch hạn chế với 58 căn bán trong quý IV/2023, giảm 74,8% so với cùng kỳ năm trước. Tỷ lệ hấp thụ trong quý có cải thiện nhưng vẫn ở mức thấp là 15,1%, đồng thời tỷ lệ hấp thụ trong năm chỉ đạt 30,9% (giảm 60 điểm phần trăm theo năm). Tình hình giao dịch trầm lắng đến từ sự hạn chế về nguồn cung mới, tâm lý thận trọng của người mua kéo dài, và hàng tồn đắt đỏ (trên 1 triệu USD/căn).\\n\\nGiá sơ cấp trung bình của thị trường nhà liền thổ ổn định ở mức 15.245 USD/m2, tăng 1,8% theo quý. Các dự án tiếp tục duy trì những chính sách hấp dẫn như cam kết thuê đối với shophouse, cung cấp các gói hoàn thiện nội thất và quà tặng giá trị cao. Ở thị trường thứ cấp, một số căn đã được bán với lợi nhuận kỳ vọng thấp hơn so với trước đây nhằm thúc đẩy giao dịch, dẫn đến giá bán thứ cấp trong quý IV/2023 tăng trưởng khiêm tốn, ở mức 0,9% theo quý và 4,8% theo năm.\\n\\nTheo báo cáo của DKRA, lượng tiêu thụ mới nhà phố/ biệt thự ở TPHCM ở mức rất thấp, ghi nhận mức giảm 92% so với năm trước. Dù chịu áp lực của các loại chi phí đầu vào, tuy nhiên mặt bằng giá sơ cấp ghi nhận mức giảm trung bình 6% - 10% so với lần mở bán trước đó. Cùng với đó là hàng loạt chính sách được các chủ ầu tư áp dụng như: Chiết khấu, khuyến mãi, hỗ trợ lãi suất, kéo dài thời gian thanh toán,... nhằm kích cầu thị trường.\\n\\nMặt bằng giá thứ cấp ghi nhận mức giảm trung bình 8% - 10% so với thời điểm đầu năm 2023, thanh khoản thị trường thứ cấp vẫn ở mức khiêm tốn, giao dịch phát sinh chủ yếu ở nhóm dự án đảm bảo tiến độ thi công, mặt bằng giá hợp lý, pháp lý rõ ràng và được phát triển bởi các chủ đầu tư có uy tín trên thị trường.\\n\\nDự báo về phân khúc này trong năm 2024, DKRA cho rằng, sức cầu chung của thị trường có thể khởi sắc vào gần cuối năm, nhóm sản phẩm đã hoàn thiện pháp lý, dự án hoàn thiện hạ tầng, được phát triển bởi các chủ đầu tư có tiềm lực tài chính nhận được nhiều sự quan tâm của khách hàng.\\n\\n\"Mặt bằng giá sơ cấp không có nhiều biến động so với năm 2023, các chính sách kích cầu thị trường tiếp tục được các chủ đầu tư áp dụng. Thanh khoản và mặt bằng giá thứ cấp tiếp tục đà giảm của năm 2023, mức giảm tập trung chủ yếu ở nhóm khách hàng có sử dụng vốn vay, các dự án gặp vướng mắc về pháp lý\", đơn vị này dự báo.\\n\\nTrước đó, thông tin từ Bộ Xây dựng cũng cho thấy, loại hình nhà liền thổ tại các thị trường lớn như Hà Nội, TPHCM đã ghi nhận mức giảm giá từ 10-20% trong năm 2023 với nhiều thông tin cắt lỗ. Nguyên nhân của việc giá bán giảm mạnh được chỉ ra là do loại hình này có tính đầu tư cao, bị đẩy giá trong giai đoạn thị trường tăng nhiệt với các nhà đầu tư sử dụng đòn bẩy tài chính. Do đó trong giai đoạn khó khăn, nhiều nhà đầu tư phải chấp nhận cắt lỗ và khiến thị trường ghi nhận mức giảm giá đáng kể.\\n\\n\\n\\n'"
      ]
     },
     "execution_count": 7,
     "metadata": {},
     "output_type": "execute_result"
    }
   ],
   "source": [
    "news"
   ]
  },
  {
   "cell_type": "code",
   "execution_count": 8,
   "metadata": {},
   "outputs": [],
   "source": [
    "new_summarizer = NewsSummarizer()\n",
    "sum_text = new_summarizer.summary_news(news= news)"
   ]
  },
  {
   "cell_type": "code",
   "execution_count": 9,
   "metadata": {},
   "outputs": [
    {
     "name": "stdout",
     "output_type": "stream",
     "text": [
      "Trong quý cuối năm, phân khúc nhà phố tại TP.HCM ghi nhận 37 căn chính thức ra mắt từ thị trấn Sen Vàng. \n",
      "Tổng nguồn cung mới năm nay đạt 180 căn và chạm mức thấp kỷ lục trong 10 năm qua. \n",
      "Nguyên nhân chủ yếu đến từ việc chủ đầu tư trì hoãn giới thiệu dự án trong bối cảnh thị trường yếu kém.\n",
      "\n",
      "Mặt bằng giá thứ cấp ghi nhận mức giảm trung bình từ 8% - 10% so với đầu năm 2023. \n",
      "Xây dựng, giá cả hợp lý, pháp lý rõ ràng và giao dịch diễn ra chủ yếu ở các nhóm dự án đảm bảo tiến độ. \n",
      "DKRA cho rằng nhu cầu chung của thị trường có thể cải thiện vào thời điểm gần cuối năm, nhóm sản phẩm đã hoàn tất tính pháp lý.\n",
      "\n"
     ]
    }
   ],
   "source": [
    "print(sum_text)"
   ]
  },
  {
   "cell_type": "code",
   "execution_count": 10,
   "metadata": {},
   "outputs": [],
   "source": [
    "watch_list=['GEX', 'VIX', 'HHV', 'BSR', 'SHS', 'PDR', 'CTR', 'HAH', 'VNINDEX', 'VND']"
   ]
  },
  {
   "cell_type": "code",
   "execution_count": 11,
   "metadata": {},
   "outputs": [],
   "source": [
    "news_db = StockNewsDatabase()\n",
    "# news_db.update_stock_news(watch_list)"
   ]
  },
  {
   "cell_type": "code",
   "execution_count": 12,
   "metadata": {},
   "outputs": [],
   "source": [
    "# news_db.update_news(watch_list=watch_list)"
   ]
  },
  {
   "cell_type": "code",
   "execution_count": 13,
   "metadata": {},
   "outputs": [
    {
     "data": {
      "text/plain": [
       "('Cổ phiếu GMD của Gemadept là một trong những cổ phiếu tăng mạnh nhất sàn HoSE khi đóng cửa tăng toàn bộ lên 73.000 đồng. \\nCác cổ phiếu cảng biển, logistics khác cũng giao dịch sôi động như HAH tăng gần 4%. \\nChứng khoán cũng mở cửa phiên đầu tiên trong trạng thái tích cực.\\n\\nỞ nhóm ngân hàng, sắc xanh cũng chiếm ưu thế. \\nVPB, BID, CTG tăng gần 2%, VIB, HDB, TCB, STB tăng trên 1%. \\nNhóm bán lẻ và hàng tiêu dùng cũng nhận được sự quan tâm.\\n',\n",
       " 'https://vnexpress.net/co-phieu-van-tai-bien-noi-song-4693192.html')"
      ]
     },
     "execution_count": 13,
     "metadata": {},
     "output_type": "execute_result"
    }
   ],
   "source": [
    "news_db.extract_text_for_stock(stock_symbol='HAH')"
   ]
  },
  {
   "cell_type": "code",
   "execution_count": 14,
   "metadata": {},
   "outputs": [
    {
     "data": {
      "text/plain": [
       "['HAH', 'VIX']"
      ]
     },
     "execution_count": 14,
     "metadata": {},
     "output_type": "execute_result"
    }
   ],
   "source": [
    "news_db.get_all_stocks()"
   ]
  },
  {
   "cell_type": "code",
   "execution_count": 15,
   "metadata": {},
   "outputs": [
    {
     "data": {
      "text/plain": [
       "'Sau hơn 2 tháng, VN-Index tăng hơn 12%, qua đó leo lên mức cao nhất kể từ giữa tháng 10 năm ngoái. \\nMức cao nhất mà chỉ số đạt được trong hơn một năm là dưới 1.250 điểm. \\nSự đi lên này phần nào gợi nhớ lại khoảng thời gian tuyệt vời cách đây 2 năm.\\n\\nCác quỹ ngoại cho rằng thị trường có tiềm năng quay trở lại mức định giá P/S trên 2, tương đương VN-Index ở đỉnh 1.500 điểm trong 12 tháng tới. \\nCon số doanh thu của các công ty niêm yết tại Việt Nam sẽ đạt kỷ lục vào năm 2024, tốc độ tăng trưởng hơn 20%\\n\\nHàng tỷ USD vốn ngoại sẽ đổ vào chứng khoán Việt Nam nếu thị trường được nâng hạng từ cận biên lên mới nổi . \\nnếu được nâng hạng sẽ góp phần hỗ trợ thị trường chứng khoán trong thời gian tới.\\n\\nhttps://cafef.vn//ngay-nay-2-nam-truoc-vn-index-lap-dinh-lich-su-152857-diem-188240105233819823.chn\\n----------\\nSố liệu từ Hiệp hội môi giới bất động sản Việt Nam cho thấy, năm 2022, nguồn cung nhà ở ra thị trường sẽ đạt khoảng 43.500 căn hộ, tương đương 90% tổng số sản phẩm chào bán năm 2021. \\nTrong 6 tháng đầu năm 2023, nguồn cung mới tại Hà Nội giảm 91% và tại TP.HCM giảm 89%. \\nTừ năm 2018 đến nay, nguồn cung căn hộ mới giảm trung bình 14%/năm. \\nThị trường bất động sản đang thiếu nguồn cung trầm trọng\\n\\nChỉ riêng năm 2021, giá nhà trung bình sẽ tăng trưởng hai con số, thậm chí gấp nhiều lần so với cùng kỳ. \\nTừ mức giá trung bình 100 triệu đồng/m2 năm 2018, mức giá hiện tại của phân khúc thấp tầng khu Đông Hà Nội là khoảng 214 triệu đồng. \\nNăm 2018, giá trị trung bình biệt thự, nhà liền kề ở Hà Nội đã tăng hàng chục lần. \\nĐể tháo gỡ “nút thắt” về nguồn cung hiện nay, ông Nguyễn Văn Định đề xuất\\n\\nCơ quan có thẩm quyền cần sử dụng hiệu quả các công cụ để lập, điều chỉnh quy hoạch, kế hoạch sử dụng đất. \\nCần xóa bỏ quy hoạch “treo” và xây dựng hành lang pháp lý riêng cho việc mua bán đất tại khu vực quy hoạch. \\nPhối hợp với Ngân hàng Nhà nước, các bộ, ngành, địa phương tháo gỡ vướng mắc về cơ chế, chính sách, pháp luật cho Dự án.\\n\\nhttps://cafef.vn//thi-truong-bat-dong-san-khat-nguon-cung-gia-nha-tang-lien-tuc-du-bao-kho-giam-188240106065023587.chn\\n----------\\nSở Giao dịch chứng khoán TP.HCM (HoSE) vừa công bố danh sách 10 công ty chứng khoán có thị phần lớn nhất về giao dịch môi giới chứng khoán, chứng chỉ quỹ và chứng quyền có bảo đảm. \\nQuý cuối năm 2023 chứng kiến \\u200b\\u200bnhiều xáo trộn ở các top đầu, nổi bật là sự tăng tốc của TCBS từ 6,8% quý trước lên 7,55%. \\nNgược lại, thị phần của VNDirect tiếp tục sụt giảm quý thứ 2 liên tiếp, xuống còn 6,64%. \\nỞ top sau, FPTS thay thế VCBS thành\\n\\nhttps://cafef.vn//thi-phan-moi-gioi-hose-quy-4-2023-tcbs-vuot-vndirect-hsc-day-mbs-ra-khoi-top-5-188240105183615455.chn\\n----------\\nTừ tháng 12/2023, lãi suất cho vay mua nhà tại HSBC sẽ giảm 1%/năm xuống chỉ còn 6,5%/năm. \\nVietcombank cũng hạ lãi suất xuống 6,7%/năm. \\nMức lãi suất cho vay tháng 1/2024 cao nhất thị trường thuộc về Ngân hàng TMCP Việt Nam Thịnh Vượng - VPBank.\\n\\nNhóm Big 4 thuộc về Agribank với 7%/năm, thấp nhất thuộc về VietinBank với 6,4%/năm. \\nSau 1 năm lãi suất tiền gửi “lao dốc”, lãi suất cho vay mua nhà cũng giảm sâu. \\nTuy nhiên, một số đơn vị không còn áp dụng mức giá siêu ưu đãi nữa.\\n\\nhttps://cafef.vn//ngan-hang-nao-cho-vay-mua-nha-uu-dai-nhat-thang-1-2024-188240106141134908.chn\\n----------\\nÔng Phạm Nhật Vượng sẽ đảm nhận vị trí Tổng Giám đốc VinFast. \\nBà Lê Thị Thu Thủy cũng sẽ đảm nhận vai trò Tổng Giám đốc. \\nCông ty cũng thông báo bổ nhiệm ông David Mansfield làm Giám đốc Tài chính.\\n\\nÔng Phạm Nhật Vượng là Chủ tịch Tập đoàn VinFast, công ty mẹ của VinFast. \\nBà Lê Thị Thu Thủy, hiện đang chuyển sang giữ chức vụ Chủ tịch Hội đồng quản trị. \\nBà gia nhập Tập đoàn VinGroup vào năm 2008 với vai trò Giám đốc Tài chính.\\n\\nhttps://cafef.vn//ong-pham-nhat-vuong-lam-tgd-vinfast-188240106100255167.chn\\n----------\\n'"
      ]
     },
     "execution_count": 15,
     "metadata": {},
     "output_type": "execute_result"
    }
   ],
   "source": [
    "news_db.get_top_news()"
   ]
  }
 ],
 "metadata": {
  "kernelspec": {
   "display_name": "venv",
   "language": "python",
   "name": "python3"
  },
  "language_info": {
   "codemirror_mode": {
    "name": "ipython",
    "version": 3
   },
   "file_extension": ".py",
   "mimetype": "text/x-python",
   "name": "python",
   "nbconvert_exporter": "python",
   "pygments_lexer": "ipython3",
   "version": "3.10.12"
  }
 },
 "nbformat": 4,
 "nbformat_minor": 2
}
