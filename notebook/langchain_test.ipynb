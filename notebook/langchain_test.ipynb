{
 "cells": [
  {
   "cell_type": "code",
   "execution_count": 1,
   "metadata": {},
   "outputs": [
    {
     "name": "stdout",
     "output_type": "stream",
     "text": [
      "/root/code_Bao/stock_price_4_fun/notebook\n"
     ]
    }
   ],
   "source": [
    "import os\n",
    "try:\n",
    "    print(file_path)\n",
    "except:\n",
    "    file_path = os.path.abspath('')\n",
    "    os.chdir(os.path.dirname(file_path))\n",
    "    print(file_path)"
   ]
  },
  {
   "cell_type": "code",
   "execution_count": 2,
   "metadata": {},
   "outputs": [
    {
     "name": "stdout",
     "output_type": "stream",
     "text": [
      "Selected device: cuda\n"
     ]
    }
   ],
   "source": [
    "from langchain.text_splitter import RecursiveCharacterTextSplitter\n",
    "from langchain_community.document_loaders import (\n",
    "    NewsURLLoader,\n",
    "    TrelloLoader,\n",
    ")\n",
    "from unstructured.cleaners.core import clean_extra_whitespace\n",
    "from langchain.text_splitter import TokenTextSplitter\n",
    "from dotenv import load_dotenv\n",
    "load_dotenv()\n",
    "from src.Microsofttodo import *\n",
    "from src.summarize_text import SeperateTaskPrompt"
   ]
  },
  {
   "cell_type": "code",
   "execution_count": 3,
   "metadata": {},
   "outputs": [],
   "source": [
    "OPENAI_API_KEY = os.getenv('OPENAI_API_KEY')"
   ]
  },
  {
   "cell_type": "code",
   "execution_count": 4,
   "metadata": {},
   "outputs": [],
   "source": [
    "import ast\n",
    "\n",
    "from typing import Literal\n",
    "from transformers import pipeline\n",
    "from bs4 import BeautifulSoup\n",
    "from src.Utils.utils import check_path, take_device\n",
    "\n",
    "from langchain.text_splitter import RecursiveCharacterTextSplitter\n",
    "from langchain_community.document_loaders import (\n",
    "    NewsURLLoader,\n",
    ")\n",
    "from unstructured.cleaners.core import clean_extra_whitespace\n",
    "from langchain.text_splitter import TokenTextSplitter\n",
    "\n",
    "from langchain_community.llms import CTransformers\n",
    "from langchain.chains import LLMChain\n",
    "from langchain.prompts import PromptTemplate\n",
    "from ctransformers import AutoModelForCausalLM, AutoTokenizer\n",
    "from langchain_openai import OpenAI\n",
    "from datetime import datetime\n",
    "\n",
    "class SeperateTaskPrompt:\n",
    "    def __init__(self, template_path:str = 'config/seperate_task_template.txt', ):\n",
    "\n",
    "        self.template_path = template_path\n",
    "        with open(self.template_path, 'r') as file:\n",
    "            self.template = file.read()\n",
    "        self.load_llm()\n",
    "        # self.prompt = PromptTemplate(template=self.template, input_variables=['date', 'question'])\n",
    "        # self.llm_chain = LLMChain(prompt=self.prompt, llm=self.llm)\n",
    "\n",
    "    def load_llm(self):\n",
    "        self.llm = OpenAI(openai_api_key=OPENAI_API_KEY, \n",
    "                          max_tokens = 512,\n",
    "                          temperature=0.7,\n",
    "                          \n",
    "                          )\n",
    "        \n",
    "    def get_response(self, text) -> list:\n",
    "\n",
    "        tmp_prompt = f\"{self.template}\\n Now at {datetime.now()}, please break down this text: {text}\"\n",
    "        response = self.llm(tmp_prompt)\n",
    "        # print('raw', response)\n",
    "        response = self.get_tasks_from_string(response)\n",
    "        return response\n",
    "\n",
    "    def get_tasks_from_string(self, text:str) -> list:\n",
    "        # Find the substring between '[' and ']'\n",
    "        start_index = text.find('[')\n",
    "        end_index = text.find(']') + 1\n",
    "        json_string = text[start_index:end_index]\n",
    "        tasks_list = eval(json_string)\n",
    "        return tasks_list"
   ]
  },
  {
   "cell_type": "code",
   "execution_count": 5,
   "metadata": {},
   "outputs": [],
   "source": [
    "seperator = SeperateTaskPrompt(template_path='config/todo_task_create_template.txt')\n"
   ]
  },
  {
   "cell_type": "code",
   "execution_count": 6,
   "metadata": {},
   "outputs": [],
   "source": [
    "text = 'Hi remind me take my laptop in Hoa house after lunch, I have to call friends, ah no my parents at 10 o clock tomorrow. If done, go to the store at 4PM. Uhm I want to learn math tomorrow'"
   ]
  },
  {
   "cell_type": "code",
   "execution_count": 7,
   "metadata": {},
   "outputs": [
    {
     "name": "stderr",
     "output_type": "stream",
     "text": [
      "/root/code_Bao/stock_price_4_fun/venv/lib/python3.10/site-packages/langchain_core/_api/deprecation.py:189: LangChainDeprecationWarning: The function `__call__` was deprecated in LangChain 0.1.7 and will be removed in 0.2.0. Use invoke instead.\n",
      "  warn_deprecated(\n"
     ]
    }
   ],
   "source": [
    "task = seperator.get_response(text)"
   ]
  },
  {
   "cell_type": "code",
   "execution_count": 8,
   "metadata": {},
   "outputs": [
    {
     "data": {
      "text/plain": [
       "[{'title': 'Take laptop to Hoa house after lunch',\n",
       "  'important': False,\n",
       "  'dueDateTime': None},\n",
       " {'title': 'Call friends', 'important': False, 'dueDateTime': None},\n",
       " {'title': 'Call parents at 10 o clock tomorrow',\n",
       "  'important': False,\n",
       "  'dueDateTime': '2024-01-23:10:00:00'},\n",
       " {'title': 'Go to the store at 4 PM',\n",
       "  'important': True,\n",
       "  'dueDateTime': '2024-01-23:16:00:00'},\n",
       " {'title': 'Learn math tomorrow',\n",
       "  'important': True,\n",
       "  'dueDateTime': '2024-01-23:08:00:00'}]"
      ]
     },
     "execution_count": 8,
     "metadata": {},
     "output_type": "execute_result"
    }
   ],
   "source": [
    "task"
   ]
  },
  {
   "cell_type": "code",
   "execution_count": 9,
   "metadata": {},
   "outputs": [
    {
     "name": "stdout",
     "output_type": "stream",
     "text": [
      "[{'title': \"Take laptop to Hoa's house after lunch\", 'important': False, 'dueDateTime': None}, {'title': 'Call friends', 'important': False, 'dueDateTime': None}, {'title': \"Meet with parents at 10 o'clock tomorrow\", 'important': False, 'dueDateTime': '2024-01-19:10:00:00'}, {'title': 'Go to the store at 4 PM', 'important': False, 'dueDateTime': '2024-01-18:16:00:00'}]\n"
     ]
    }
   ],
   "source": [
    "print(task)"
   ]
  },
  {
   "cell_type": "code",
   "execution_count": 9,
   "metadata": {},
   "outputs": [],
   "source": [
    "TRELLO_API_KEY= os.getenv('TRELLO_API_KEY')\n",
    "TRELLO_TOKEN = os.getenv('TRELLO_TOKEN')"
   ]
  },
  {
   "cell_type": "code",
   "execution_count": null,
   "metadata": {},
   "outputs": [],
   "source": [
    "\n",
    "# # Get the open cards from \"Awesome Board\"\n",
    "# loader = TrelloLoader.from_credentials(\n",
    "#     \"SOW data\",\n",
    "#     api_key=TRELLO_API_KEY,\n",
    "#     token=TRELLO_TOKEN,\n",
    "#     card_filter=\"open\",\n",
    "# )\n",
    "# documents = loader.load()\n",
    "\n",
    "# print(documents[0].page_content)\n",
    "# print(documents[0].metadata)"
   ]
  },
  {
   "cell_type": "code",
   "execution_count": null,
   "metadata": {},
   "outputs": [],
   "source": [
    "# # Get all the cards from \"Awesome Board\" but only include the\n",
    "# # card list(column) as extra metadata.\n",
    "# loader = TrelloLoader.from_credentials(\n",
    "#     \"SOW data\",\n",
    "#     api_key=TRELLO_API_KEY,\n",
    "#     token=TRELLO_TOKEN,\n",
    "#     extra_metadata=(\"list\"),\n",
    "# )\n",
    "# documents = loader.load()\n",
    "\n",
    "# print(documents[0].page_content)\n",
    "# print(documents[0].metadata)"
   ]
  },
  {
   "cell_type": "code",
   "execution_count": 14,
   "metadata": {},
   "outputs": [],
   "source": [
    "\n",
    "class MicrosoftToDo:\n",
    "    def __init__(self) -> None:\n",
    "        pass\n",
    "        \n",
    "    def parse_response(self,response):\n",
    "        return json.loads(response.content.decode())[\"value\"]\n",
    "\n",
    "\n",
    "    def get_lists(self):\n",
    "        session = get_oauth_session()\n",
    "        response = session.get(BASE_URL)\n",
    "        response_value = self.parse_response(response)\n",
    "        list = [item['displayName'] for item in response_value]\n",
    "        print('Lists: ', list)\n",
    "        return response_value\n",
    "\n",
    "\n",
    "\n",
    "    def create_list(self, title: str):\n",
    "        request_body = {\"displayName\": title}\n",
    "        session = get_oauth_session()\n",
    "        response = session.post(BASE_URL, json=request_body)\n",
    "        return True if response.ok else response.raise_for_status()\n",
    "\n",
    "\n",
    "    # TODO No associated command\n",
    "    def rename_list(self, old_title: str, new_title: str):\n",
    "        list_id = self.get_list_id_by_name(old_title)\n",
    "        request_body = {\"title\": new_title}\n",
    "        session = get_oauth_session()\n",
    "        response = session.patch(f\"{BASE_URL}/{list_id}\", json=request_body)\n",
    "        return True if response.ok else response.raise_for_status()\n",
    "\n",
    "\n",
    "    def get_tasks(self, list_name: str = None, list_id: str = None, num_tasks: int = 100):\n",
    "        assert (list_name is not None) or (\n",
    "            list_id is not None\n",
    "        ), \"You must provide list_name or list_id\"\n",
    "\n",
    "        # For compatibility with cli\n",
    "        if list_id is None:\n",
    "            list_id = self.get_list_id_by_name(list_name)\n",
    "\n",
    "        endpoint = (\n",
    "            f\"{BASE_URL}/{list_id}/tasks?$filter=status ne 'completed'&$top={num_tasks}\"\n",
    "        )\n",
    "        session = get_oauth_session()\n",
    "        response = session.get(endpoint)\n",
    "        response_value = self.parse_response(response)\n",
    "        return response_value\n",
    "\n",
    "    def get_short_form_tasks(self, list_name: str = None, list_id: str = None, num_tasks: int = 100):\n",
    "        new_response = []\n",
    "        for task in self.get_tasks(list_name, list_id, num_tasks):\n",
    "            new_task = {\n",
    "                'importance': task.get('importance', None),\n",
    "                'isReminderOn': task.get('isReminderOn', None),\n",
    "                'title': task.get('title', None),\n",
    "                'createdDateTime': task.get('createdDateTime', None),\n",
    "                'hasAttachments': task.get('hasAttachments', None),\n",
    "                'checklistItems': task.get('checklistItems', None),\n",
    "                'body': task.get('body', None),\n",
    "            }\n",
    "            new_response.append(new_task)\n",
    "        return new_response\n",
    "\n",
    "\n",
    "    def complete_task(self,\n",
    "                    list_name: str = None,\n",
    "                    task_name: Union[str, int] = None,\n",
    "                    list_id: str = None,\n",
    "                    task_id: str = None,\n",
    "                ):\n",
    "        assert (list_name is not None) or (\n",
    "            list_id is not None\n",
    "        ), \"You must provide list_name or list_id\"\n",
    "        assert (task_name is not None) or (\n",
    "            task_id is not None\n",
    "        ), \"You must provide task_name or task_id\"\n",
    "\n",
    "        # For compatibility with cli\n",
    "        if list_id is None:\n",
    "            list_id = self.get_list_id_by_name(list_name)\n",
    "        if task_id is None:\n",
    "            task_id = self.get_task_id_by_name(list_name, task_name)\n",
    "\n",
    "        endpoint = f\"{BASE_URL}/{list_id}/tasks/{task_id}\"\n",
    "        request_body = {\n",
    "            \"status\": TaskStatus.COMPLETED,\n",
    "            \"completedDateTime\": datetime_to_api_timestamp(datetime.now()),\n",
    "        }\n",
    "        session = get_oauth_session()\n",
    "        response = session.patch(endpoint, json=request_body)\n",
    "        return True if response.ok else response.raise_for_status()\n",
    "\n",
    "\n",
    "    def remove_task(self, list_name: str, task_name: Union[str, int]):\n",
    "        list_id = self.get_list_id_by_name(list_name)\n",
    "        task_id = self.get_task_id_by_name(list_name, task_name)\n",
    "        endpoint = f\"{BASE_URL}/{list_id}/tasks/{task_id}\"\n",
    "        session = get_oauth_session()\n",
    "        response = session.delete(endpoint)\n",
    "        return True if response.ok else response.raise_for_status()\n",
    "\n",
    "\n",
    "    def get_list_id_by_name(self, list_name):\n",
    "        endpoint = f\"{BASE_URL}?$filter=startswith(displayName,'{list_name}')\"\n",
    "        session = get_oauth_session()\n",
    "        response = session.get(endpoint)\n",
    "        response_value = self.parse_response(response)\n",
    "        try:\n",
    "            return response_value[0][\"id\"]\n",
    "        except IndexError:\n",
    "            raise ListNotFound(list_name)\n",
    "\n",
    "\n",
    "    def get_task_id_by_name(self, list_name: str, task_name: str):\n",
    "        if isinstance(task_name, str):\n",
    "            try:\n",
    "                list_id = self.get_list_id_by_name(list_name)\n",
    "                endpoint = f\"{BASE_URL}/{list_id}/tasks?$filter=title eq '{task_name}'\"\n",
    "                session = get_oauth_session()\n",
    "                response = session.get(endpoint)\n",
    "                response_value = self.parse_response(response)\n",
    "                return [Task(x) for x in response_value][0].id\n",
    "            except IndexError:\n",
    "                raise TaskNotFoundByName(task_name, list_name)\n",
    "        # elif isinstance(task_name, int):\n",
    "        #    tasks = get_tasks(list_name, task_list_position + 1)\n",
    "        #    try:\n",
    "        #        return tasks[task_list_position].id\n",
    "        #    except IndexError:\n",
    "        #        raise TaskNotFoundByIndex(task_list_position, list_name)\n",
    "        else:\n",
    "            raise\n",
    "\n",
    "    def create_task(self,\n",
    "                    task_name: str,\n",
    "                    list_name: str = None,\n",
    "                    list_id: str = None,\n",
    "                    importance:bool = False,\n",
    "                    dueDateTime: datetime = None,\n",
    "                    body=None,\n",
    "                    reminder_datetime: datetime = None,\n",
    "                    ):\n",
    "        assert (list_name is not None) or (\n",
    "            list_id is not None\n",
    "        ), \"You must provide list_name or list_id\"\n",
    "\n",
    "        # For compatibility with cli\n",
    "        if list_id is None:\n",
    "            list_id = self.get_list_id_by_name(list_name)\n",
    "        \n",
    "        if dueDateTime is not None:\n",
    "            dueDateTime = datetime.strptime(dueDateTime, '%Y-%m-%d:%H:%M:%S')\n",
    "                # Check if the time part is '00:00'\n",
    "            if dueDateTime.strftime('%H:%M') == '00:00':\n",
    "                # Replace it with the current datetime\n",
    "                dueDateTime = datetime.now()\n",
    "                \n",
    "            if reminder_datetime is None:\n",
    "                reminder_datetime = dueDateTime\n",
    "        \n",
    "        importance = 'high' if importance else 'normal'\n",
    "\n",
    "        if body is None:\n",
    "            body ={\"content\": task_name,\n",
    "                    \"contentType\": \"text\"\n",
    "                    }\n",
    "\n",
    "        endpoint = f\"{BASE_URL}/{list_id}/tasks\"\n",
    "        request_body = {\n",
    "            \"title\": task_name,\n",
    "            \"body\":body,\n",
    "            \"importance\": importance,\n",
    "            \"dueDateTime\": datetime_to_api_timestamp(dueDateTime),\n",
    "            \"reminderDateTime\": datetime_to_api_timestamp(reminder_datetime),\n",
    "        }\n",
    "        session = get_oauth_session()\n",
    "        response = session.post(endpoint, json=request_body)\n",
    "        return True if response.ok else response.raise_for_status()"
   ]
  },
  {
   "cell_type": "code",
   "execution_count": 15,
   "metadata": {},
   "outputs": [],
   "source": [
    "todo = MicrosoftToDo()"
   ]
  },
  {
   "cell_type": "code",
   "execution_count": 16,
   "metadata": {},
   "outputs": [
    {
     "name": "stdout",
     "output_type": "stream",
     "text": [
      "['Mang thêm một hộp kẹp bướm vào ngày mai về nhà', 'lấy tài liệu, chọn nhóm giải thuật nâng cao', 'send meeting file to laptop tomorrow', 'implement code face recognition python', 'reimplement building web service', 'make docker for OCR', 'Check data grip about OPS. What else?', 'Reimplement scaffold prj', 'Lên plan đi đà lạt', 'stock', 'Cloud computing Foundation']\n"
     ]
    }
   ],
   "source": [
    "todo_tasks = todo.get_tasks(list_name='Tasks')\n",
    "todo_tasks[0:2]\n",
    "names = [item['title'] for item in todo_tasks]\n",
    "print (names)\n",
    "              "
   ]
  },
  {
   "cell_type": "code",
   "execution_count": 17,
   "metadata": {},
   "outputs": [],
   "source": [
    "# todo_tasks"
   ]
  },
  {
   "cell_type": "code",
   "execution_count": 18,
   "metadata": {},
   "outputs": [
    {
     "name": "stdout",
     "output_type": "stream",
     "text": [
      "Lists:  ['Tasks', '2022', '2023', '2024', 'Giải quyết với Trân', 'LLM RAG and Notion', 'Mua sách', 'Shopping', 'Telegram bot', 'Thạc sĩ', 'Vietnamese stock forecast', 'Flagged Emails']\n"
     ]
    },
    {
     "data": {
      "text/plain": [
       "{'@odata.etag': 'W/\"wyYSbsYOaUCZPsQATrx1BgAE6UvZcA==\"',\n",
       " 'displayName': 'Tasks',\n",
       " 'isOwner': True,\n",
       " 'isShared': False,\n",
       " 'wellknownListName': 'defaultList',\n",
       " 'id': 'AQMkADAwATMwMAItMTg4AGMtZmRiNC0wMAItMDAKAC4AAAORlXbjKGFLSJiBLf4_KVkjAQDDJhJuxg5pQJk_xABOvHUGAAACARIAAAA='}"
      ]
     },
     "execution_count": 18,
     "metadata": {},
     "output_type": "execute_result"
    }
   ],
   "source": [
    "todo_lists = todo.get_lists()\n",
    "todo_lists[0]"
   ]
  },
  {
   "cell_type": "code",
   "execution_count": 19,
   "metadata": {},
   "outputs": [
    {
     "data": {
      "text/plain": [
       "{'@odata.etag': 'W/\"wyYSbsYOaUCZPsQATrx1BgAE5r7y+w==\"',\n",
       " 'displayName': '2022',\n",
       " 'isOwner': True,\n",
       " 'isShared': False,\n",
       " 'wellknownListName': 'none',\n",
       " 'id': 'AQMkADAwATMwMAItMTg4AGMtZmRiNC0wMAItMDAKAC4AAAORlXbjKGFLSJiBLf4_KVkjAQDDJhJuxg5pQJk_xABOvHUGAAMPg-liAAAA'}"
      ]
     },
     "execution_count": 19,
     "metadata": {},
     "output_type": "execute_result"
    }
   ],
   "source": [
    "todo_lists[1]"
   ]
  },
  {
   "cell_type": "code",
   "execution_count": 20,
   "metadata": {},
   "outputs": [],
   "source": [
    "# create_task(task_name='hello', list_name='Tasks', reminder_datetime=datetime.now())"
   ]
  },
  {
   "cell_type": "code",
   "execution_count": 21,
   "metadata": {},
   "outputs": [
    {
     "data": {
      "text/plain": [
       "[{'importance': 'normal',\n",
       "  'isReminderOn': False,\n",
       "  'title': 'Mang thêm một hộp kẹp bướm vào ngày mai về nhà',\n",
       "  'createdDateTime': '2024-01-17T16:16:02.7843726Z',\n",
       "  'hasAttachments': False,\n",
       "  'checklistItems': None,\n",
       "  'body': {'content': '\\r\\n', 'contentType': 'text'}},\n",
       " {'importance': 'normal',\n",
       "  'isReminderOn': False,\n",
       "  'title': 'lấy tài liệu, chọn nhóm giải thuật nâng cao',\n",
       "  'createdDateTime': '2024-01-17T11:49:14.4019742Z',\n",
       "  'hasAttachments': False,\n",
       "  'checklistItems': None,\n",
       "  'body': {'content': '\\r\\n', 'contentType': 'text'}}]"
      ]
     },
     "execution_count": 21,
     "metadata": {},
     "output_type": "execute_result"
    }
   ],
   "source": [
    "todo_tasks = todo.get_short_form_tasks(list_name='Tasks', )\n",
    "todo_tasks[0:2]\n",
    "# names = [item['title'] for item in todo_tasks]\n",
    "# print (names)\n",
    "              "
   ]
  },
  {
   "cell_type": "code",
   "execution_count": 28,
   "metadata": {},
   "outputs": [
    {
     "data": {
      "text/plain": [
       "[{'title': 'Take laptop in Hoa house after lunch',\n",
       "  'important': True,\n",
       "  'dueDateTime': None},\n",
       " {'title': 'Call friends', 'important': False, 'dueDateTime': None},\n",
       " {'title': 'Call parents at 10 o clock tomorrow',\n",
       "  'important': True,\n",
       "  'dueDateTime': '2024-01-19:10:00:00'},\n",
       " {'title': 'Go to the store at 4PM',\n",
       "  'important': False,\n",
       "  'dueDateTime': '2024-01-18:16:00:00'}]"
      ]
     },
     "execution_count": 28,
     "metadata": {},
     "output_type": "execute_result"
    }
   ],
   "source": [
    "task"
   ]
  },
  {
   "cell_type": "code",
   "execution_count": 24,
   "metadata": {},
   "outputs": [
    {
     "data": {
      "text/plain": [
       "{'title': 'Call parents at 10 o clock tomorrow',\n",
       " 'important': True,\n",
       " 'dueDateTime': '2024-01-19:10:00:00'}"
      ]
     },
     "execution_count": 24,
     "metadata": {},
     "output_type": "execute_result"
    }
   ],
   "source": [
    "tmp = task[2]\n",
    "tmp"
   ]
  },
  {
   "cell_type": "code",
   "execution_count": 27,
   "metadata": {},
   "outputs": [
    {
     "name": "stdout",
     "output_type": "stream",
     "text": [
      "None\n",
      "None\n",
      "{'dateTime': '2024-01-19T03:00:00', 'timeZone': 'UTC'}\n",
      "{'dateTime': '2024-01-18T09:00:00', 'timeZone': 'UTC'}\n"
     ]
    }
   ],
   "source": [
    "from datetime import datetime\n",
    "# formatted_date = \"2024-10-25\"\n",
    "# datetime_object = datetime.strptime(formatted_date, \"%Y-%m-%d\")\n",
    "for tmp in task:\n",
    "    todo.create_task(task_name=tmp[\"title\"], list_name='Tasks', importance=tmp[\"important\"], dueDateTime=tmp[\"dueDateTime\"])"
   ]
  },
  {
   "cell_type": "code",
   "execution_count": null,
   "metadata": {},
   "outputs": [],
   "source": []
  }
 ],
 "metadata": {
  "kernelspec": {
   "display_name": "venv",
   "language": "python",
   "name": "python3"
  },
  "language_info": {
   "codemirror_mode": {
    "name": "ipython",
    "version": 3
   },
   "file_extension": ".py",
   "mimetype": "text/x-python",
   "name": "python",
   "nbconvert_exporter": "python",
   "pygments_lexer": "ipython3",
   "version": "3.10.12"
  }
 },
 "nbformat": 4,
 "nbformat_minor": 2
}
