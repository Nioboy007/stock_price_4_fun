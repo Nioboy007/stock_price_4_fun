{
 "cells": [
  {
   "cell_type": "code",
   "execution_count": 1,
   "metadata": {},
   "outputs": [
    {
     "name": "stdout",
     "output_type": "stream",
     "text": [
      "/root/code_Bao/stock_price_4_fun/notebook\n"
     ]
    }
   ],
   "source": [
    "import os\n",
    "try:\n",
    "    print(file_path)\n",
    "except:\n",
    "    file_path = os.path.abspath('')\n",
    "    os.chdir(os.path.dirname(file_path))\n",
    "    print(file_path)"
   ]
  },
  {
   "cell_type": "code",
   "execution_count": 2,
   "metadata": {},
   "outputs": [
    {
     "data": {
      "text/plain": [
       "True"
      ]
     },
     "execution_count": 2,
     "metadata": {},
     "output_type": "execute_result"
    }
   ],
   "source": [
    "from langchain.text_splitter import RecursiveCharacterTextSplitter\n",
    "from langchain_community.document_loaders import (\n",
    "    NewsURLLoader,\n",
    "    TrelloLoader,\n",
    ")\n",
    "from unstructured.cleaners.core import clean_extra_whitespace\n",
    "from langchain.text_splitter import TokenTextSplitter\n",
    "from dotenv import load_dotenv\n",
    "load_dotenv()\n"
   ]
  },
  {
   "cell_type": "code",
   "execution_count": 3,
   "metadata": {},
   "outputs": [],
   "source": [
    "TRELLO_API_KEY= os.getenv('TRELLO_API_KEY')\n",
    "TRELLO_TOKEN = os.getenv('TRELLO_TOKEN')"
   ]
  },
  {
   "cell_type": "code",
   "execution_count": 5,
   "metadata": {},
   "outputs": [
    {
     "name": "stderr",
     "output_type": "stream",
     "text": [
      "/root/code_Bao/stock_price_4_fun/venv/lib/python3.10/site-packages/langchain_community/document_loaders/trello.py:132: MarkupResemblesLocatorWarning: The input looks more like a filename than markup. You may want to open this file and pass the filehandle into Beautiful Soup.\n",
      "  text_content += BeautifulSoup(card.description, \"lxml\").get_text()\n",
      "/root/code_Bao/stock_price_4_fun/venv/lib/python3.10/site-packages/langchain_community/document_loaders/trello.py:145: MarkupResemblesLocatorWarning: The input looks more like a filename than markup. You may want to open this file and pass the filehandle into Beautiful Soup.\n",
      "  BeautifulSoup(comment[\"data\"][\"text\"], \"lxml\").get_text()\n"
     ]
    },
    {
     "name": "stdout",
     "output_type": "stream",
     "text": [
      "Mục tiêu SOW: Đạt kết quả accu 85% vs số lượng dự đoán = 20% tổng cif\n",
      "Best mode: Tag v1.0: predict\\_rate 27.44%, true\\_rate: 65.62%\n",
      "\n",
      "Tag v2: filter month\\_hoat\\_dong < 3:  predict rate  31.28%, true_rate:73.56%Comments:\n",
      "{'title': 'Mục tiêu SOW: Đạt kết quả accu 85% vs số lượng dự đoán = 20% tổng cif', 'id': '65431aa46b189d70af447eec', 'url': 'https://trello.com/c/3XPgiMZm/77-m%E1%BB%A5c-ti%C3%AAu-sow-%C4%91%E1%BA%A1t-k%E1%BA%BFt-qu%E1%BA%A3-accu-85-vs-s%E1%BB%91-l%C6%B0%E1%BB%A3ng-d%E1%BB%B1-%C4%91o%C3%A1n-20-t%E1%BB%95ng-cif', 'labels': [], 'list': 'Todo', 'closed': False, 'due_date': ''}\n"
     ]
    }
   ],
   "source": [
    "\n",
    "# Get the open cards from \"Awesome Board\"\n",
    "loader = TrelloLoader.from_credentials(\n",
    "    \"SOW data\",\n",
    "    api_key=TRELLO_API_KEY,\n",
    "    token=TRELLO_TOKEN,\n",
    "    card_filter=\"open\",\n",
    ")\n",
    "documents = loader.load()\n",
    "\n",
    "print(documents[0].page_content)\n",
    "print(documents[0].metadata)"
   ]
  },
  {
   "cell_type": "code",
   "execution_count": 6,
   "metadata": {},
   "outputs": [
    {
     "name": "stdout",
     "output_type": "stream",
     "text": [
      "Mục tiêu SOW: Đạt kết quả accu 85% vs số lượng dự đoán = 20% tổng cif\n",
      "Best mode: Tag v1.0: predict\\_rate 27.44%, true\\_rate: 65.62%\n",
      "\n",
      "Tag v2: filter month\\_hoat\\_dong < 3:  predict rate  31.28%, true_rate:73.56%Comments:\n",
      "{'title': 'Mục tiêu SOW: Đạt kết quả accu 85% vs số lượng dự đoán = 20% tổng cif', 'id': '65431aa46b189d70af447eec', 'url': 'https://trello.com/c/3XPgiMZm/77-m%E1%BB%A5c-ti%C3%AAu-sow-%C4%91%E1%BA%A1t-k%E1%BA%BFt-qu%E1%BA%A3-accu-85-vs-s%E1%BB%91-l%C6%B0%E1%BB%A3ng-d%E1%BB%B1-%C4%91o%C3%A1n-20-t%E1%BB%95ng-cif', 'list': 'Todo'}\n"
     ]
    }
   ],
   "source": [
    "# Get all the cards from \"Awesome Board\" but only include the\n",
    "# card list(column) as extra metadata.\n",
    "loader = TrelloLoader.from_credentials(\n",
    "    \"SOW data\",\n",
    "    api_key=TRELLO_API_KEY,\n",
    "    token=TRELLO_TOKEN,\n",
    "    extra_metadata=(\"list\"),\n",
    ")\n",
    "documents = loader.load()\n",
    "\n",
    "print(documents[0].page_content)\n",
    "print(documents[0].metadata)"
   ]
  },
  {
   "cell_type": "code",
   "execution_count": 7,
   "metadata": {},
   "outputs": [
    {
     "data": {
      "text/plain": [
       "[Document(page_content='Mục tiêu SOW: Đạt kết quả accu 85% vs số lượng dự đoán = 20% tổng cif\\nBest mode: Tag v1.0: predict\\\\_rate 27.44%, true\\\\_rate: 65.62%\\n\\nTag v2: filter month\\\\_hoat\\\\_dong < 3:  predict rate  31.28%, true_rate:73.56%Comments:', metadata={'title': 'Mục tiêu SOW: Đạt kết quả accu 85% vs số lượng dự đoán = 20% tổng cif', 'id': '65431aa46b189d70af447eec', 'url': 'https://trello.com/c/3XPgiMZm/77-m%E1%BB%A5c-ti%C3%AAu-sow-%C4%91%E1%BA%A1t-k%E1%BA%BFt-qu%E1%BA%A3-accu-85-vs-s%E1%BB%91-l%C6%B0%E1%BB%A3ng-d%E1%BB%B1-%C4%91o%C3%A1n-20-t%E1%BB%95ng-cif', 'list': 'Todo'}),\n",
       " Document(page_content='Run Inference Cust SOW\\n\\nRun Inference Cust SOW\\nLấy Data Open của tháng này (29/10 lấy backup_date tháng 10):incomplete\\nSet config file for Inference.py:incomplete\\nRun file Inference.py:incomplete\\nVô doc/result_report/2023_10_result.xlsx lấy file:incomplete\\nUpload file lên syno:incomplete\\nGửi mail DBA/ cc anh Xìn, chị Thúy/ thông báo đã up data:incompleteComments:', metadata={'title': 'Run Inference Cust SOW', 'id': '658dd93b3e8cdd1bfd50974f', 'url': 'https://trello.com/c/YpD9SxpX/119-run-inference-cust-sow', 'list': 'Todo'}),\n",
       " Document(page_content='Đặt phòng họp\\n- Nhớ thông báo có sếp Tuyên tham giá (cho nước và ưu tiên phòng 17)\\n- Đặt phòng họp lầu 17/ phòng họp mới số 3:\\n\\nÔng Trần Hoàng Linh\\nDi động:0378 166 193\\nNội bộ:80265\\n[Email:linhth4@namabank.com.vn](mailto:Email:linhth4@namabank.com.vn \"\\u200c\")\\nMail là đk!\\n\\n- Đặt phòng họp 3A VP tổng giám đốc:\\n\\nBà Phạm Thị Mỹ Linh\\nDi động:0982 649 489\\nNội bộ:80466\\n[Email:linhptm1@namabank.com.vn](mailto:Email:linhptm1@namabank.com.vn \"\\u200c\")\\nCall luôn!Comments:', metadata={'title': 'Đặt phòng họp', 'id': '6580ea82b32175cc3d16693e', 'url': 'https://trello.com/c/cMTMu36i/116-%C4%91%E1%BA%B7t-ph%C3%B2ng-h%E1%BB%8Dp', 'list': 'Todo'}),\n",
       " Document(page_content='Giải trình Điểm Danh\\nGiải trình điểm danh mỗi tháng nếu có\\nGiải trình điểm danh\\nGửi mail cho anh Xìn:incomplete\\ncc chị Oanh:incomplete\\nViết giải trình trong file gốc tại cột ghi chú, đính kem ffile:incomplete\\nViết 1 mail riếng cho chị Oanh:incompleteComments:', metadata={'title': 'Giải trình Điểm Danh', 'id': '656fd55eae1117908485b9ca', 'url': 'https://trello.com/c/eltsfpP7/103-gi%E1%BA%A3i-tr%C3%ACnh-%C4%91i%E1%BB%83m-danh', 'list': 'Todo'}),\n",
       " Document(page_content='Viết lại code save Yaml. Save config theo model, feaure của model và tham số\\nComments:', metadata={'title': 'Viết lại code save Yaml. Save config theo model, feaure của model và tham số', 'id': '6477f93ba295286742ee6d82', 'url': 'https://trello.com/c/BsZfwvrx/3-vi%E1%BA%BFt-l%E1%BA%A1i-code-save-yaml-save-config-theo-model-feaure-c%E1%BB%A7a-model-v%C3%A0-tham-s%E1%BB%91', 'list': 'Todo'}),\n",
       " Document(page_content='Add docstring for all def\\nComments:', metadata={'title': 'Add docstring for all def', 'id': '6477fa2eea5b2bc40df5e5f5', 'url': 'https://trello.com/c/xfI9kBMG/10-add-docstring-for-all-def', 'list': 'Todo'}),\n",
       " Document(page_content='Viết file lưu lại các config\\nComments:', metadata={'title': 'Viết file lưu lại các config', 'id': '6477f94c798f202da43eb2c3', 'url': 'https://trello.com/c/hQLeUvB7/4-vi%E1%BA%BFt-file-l%C6%B0u-l%E1%BA%A1i-c%C3%A1c-config', 'list': 'Todo'}),\n",
       " Document(page_content='Viết lại hết code thành py file\\nComments:', metadata={'title': 'Viết lại hết code thành py file', 'id': '6477f97860d328fdd5d29262', 'url': 'https://trello.com/c/Fz7qY5lg/6-vi%E1%BA%BFt-l%E1%BA%A1i-h%E1%BA%BFt-code-th%C3%A0nh-py-file', 'list': 'Todo'}),\n",
       " Document(page_content='Chuyển hết model sang pytorch\\nĐể option tự track GPUComments:', metadata={'title': 'Chuyển hết model sang pytorch', 'id': '6477fa06a4186d1eceb307f7', 'url': 'https://trello.com/c/bh4rB1WW/9-chuy%E1%BB%83n-h%E1%BA%BFt-model-sang-pytorch', 'list': 'Todo'}),\n",
       " Document(page_content='Tìm cách dùng earlystopping với tsai\\nComments:', metadata={'title': 'Tìm cách dùng earlystopping với tsai', 'id': '64b738a2bd5de75263eb3a86', 'url': 'https://trello.com/c/gBalVtzR/39-t%C3%ACm-c%C3%A1ch-d%C3%B9ng-earlystopping-v%E1%BB%9Bi-tsai', 'list': 'Todo'}),\n",
       " Document(page_content='Add more features\\n\\nCode\\nnumber of days to the latest giao dịch:complete\\nThấu chi:incomplete\\nĐầu tư (tháng):incomplete\\nTrung bình phát sinh có và phát sinh giảm (tháng):incomplete\\nLàm việc với chị Thúy\\nTổng hợp thêm các feature cần lấy:incomplete\\nLàm việc với chị Thúy để lấy data:incompleteComments:', metadata={'title': 'Add more features', 'id': '6477fb01fd0638b2a618e205', 'url': 'https://trello.com/c/ltNhvV19/12-add-more-features', 'list': 'Todo'}),\n",
       " Document(page_content='Run Inference Cust SOW\\nComments:', metadata={'title': 'Run Inference Cust SOW', 'id': '6556cfed01979fb56bc20eb7', 'url': 'https://trello.com/c/vpOukSLU/89-run-inference-cust-sow', 'list': 'Doing'}),\n",
       " Document(page_content='hhaa\\nComments:', metadata={'title': 'hhaa', 'id': '6556ce5a42d6272f9ac2594a', 'url': 'https://trello.com/c/ztp9Or0g/88-hhaa', 'list': 'Doing'}),\n",
       " Document(page_content='Run OCR\\nComments:', metadata={'title': 'Run OCR', 'id': '659bb07d7024dc3a7bfe5a77', 'url': 'https://trello.com/c/7XMAAe8g/137-run-ocr', 'list': 'Doing'}),\n",
       " Document(page_content='Run Inference Cust SOW\\n\\nRun Inference Cust SOW\\nLấy Data Open của tháng này (29/10 lấy backup_date tháng 10):incomplete\\nSet config file for Inference.py:incomplete\\nRun file Inference.py:incomplete\\nVô doc/result_report/2023_10_result.xlsx lấy file:incomplete\\nUpload file lên syno:incomplete\\nGửi mail DBA/ cc anh Xìn, chị Thúy/ thông báo đã up data:incompleteComments:', metadata={'title': 'Run Inference Cust SOW', 'id': '6556d169b26995a78f467dc7', 'url': 'https://trello.com/c/9FQgI1Id/92-run-inference-cust-sow', 'list': 'Doing'}),\n",
       " Document(page_content='Làm việc chatbot với thầy Hiên\\n\\nChecklist\\nTìm hiểu quản lí dự án cần gì:incomplete\\nXây dựng các kịch bản để làm chat bot:incompleteComments:', metadata={'title': 'Làm việc chatbot với thầy Hiên', 'id': '65936859936e062cda1e1a5d', 'url': 'https://trello.com/c/NS7aktxD/121-l%C3%A0m-vi%E1%BB%87c-chatbot-v%E1%BB%9Bi-th%E1%BA%A7y-hi%C3%AAn', 'list': 'Doing'}),\n",
       " Document(page_content='List data ops - data 360 degree cần thêm những gì\\nCheck thêm data ops còn gì ko, Đọc kĩ 360 degree customer data\\nChecklist\\nread on reddit:incomplete\\nFind paper or survey:incompleteComments:', metadata={'title': 'List data ops - data 360 degree cần thêm những gì', 'id': '659b63db2b93e726570aa525', 'url': 'https://trello.com/c/P9D7Ypw4/135-list-data-ops-data-360-degree-c%E1%BA%A7n-th%C3%AAm-nh%E1%BB%AFng-g%C3%AC', 'list': 'Doing'}),\n",
       " Document(page_content='Triển khai model mới cho SOW\\nTriển khai thuật toán cho dữ liệu SOW\\n\\n[https://arxiv.org/abs/2106.03253](https://arxiv.org/abs/2106.03253 \"smartCard-inline\")Comments:', metadata={'title': 'Triển khai model mới cho SOW', 'id': '6593692228f6fbde804741e5', 'url': 'https://trello.com/c/eCChth60/122-tri%E1%BB%83n-khai-model-m%E1%BB%9Bi-cho-sow', 'list': 'Doing'}),\n",
       " Document(page_content='grid search trên các model tsai\\nComments:', metadata={'title': 'grid search trên các model tsai', 'id': '64b7388e6d43e9aa37732916', 'url': 'https://trello.com/c/1eqTAf8k/38-grid-search-tr%C3%AAn-c%C3%A1c-model-tsai', 'list': 'Doing'}),\n",
       " Document(page_content='train test with new config\\nModel có vẻ bị ovberfitting, thêm các chế độ\\nChecklist\\nfine tune:complete\\ntrain:complete\\ntest:complete\\nreport:incompleteComments:', metadata={'title': 'train test with new config', 'id': '659e5ab58f99dc5e2974a988', 'url': 'https://trello.com/c/KtUg0445/141-train-test-with-new-config', 'list': 'Done'}),\n",
       " Document(page_content='train test report model f1\\nGit: b55fff6bf9f4988b39c84cd7216b225b8b9742eb\\nChecklist\\nfine tune:complete\\ntrain:complete\\ntest:complete\\nreport:completeComments:', metadata={'title': 'train test report model f1', 'id': '659cc236a5803d0ff4108ced', 'url': 'https://trello.com/c/Bm35D9f1/140-train-test-report-model-f1', 'list': 'Done'}),\n",
       " Document(page_content='write report for mr X\\nComments:', metadata={'title': 'write report for mr X', 'id': '659c9f9331011ac19898bda1', 'url': 'https://trello.com/c/vgZHTPig/139-write-report-for-mr-x', 'list': 'Done'}),\n",
       " Document(page_content='Train, test, report f1 weighted\\n\\nChecklist\\ntrain:complete\\ntest:complete\\nreport:completeComments:Not good', metadata={'title': 'Train, test, report f1 weighted', 'id': '659bb0231cc857735ff0b3c6', 'url': 'https://trello.com/c/nzgmK4WD/136-train-test-report-f1-weighted', 'list': 'Done'}),\n",
       " Document(page_content='Add number of days to latest GD\\nComments:', metadata={'title': 'Add number of days to latest GD', 'id': '64780835200dbc363d4a4421', 'url': 'https://trello.com/c/fP7GjKCi/13-add-number-of-days-to-latest-gd', 'list': 'Done'}),\n",
       " Document(page_content='Xử lý dữ liệu và train\\n\\nList mini task\\nPhân tích dữ liệu cũ mới:complete\\nXử lý dữ liệu bị mất:completeComments:', metadata={'title': 'Xử lý dữ liệu và train', 'id': '6477f5a942ac37d416dc44af', 'url': 'https://trello.com/c/pJKYslwS/1-x%E1%BB%AD-l%C3%BD-d%E1%BB%AF-li%E1%BB%87u-v%C3%A0-train', 'list': 'Done'}),\n",
       " Document(page_content='Create result 1,2\\n\\nChecklist\\nresult1:complete\\nresult2:completeComments:', metadata={'title': 'Create result 1,2', 'id': '648bb62e55e71e2231ca12b8', 'url': 'https://trello.com/c/s7BsvSSw/18-create-result-12', 'list': 'Done'}),\n",
       " Document(page_content='apply dask\\nComments:', metadata={'title': 'apply dask', 'id': '648bb6265080f7c793bbcd50', 'url': 'https://trello.com/c/PvtNVMH1/17-apply-dask', 'list': 'Done'}),\n",
       " Document(page_content='Fine tune models\\nComments:', metadata={'title': 'Fine tune models', 'id': '648bb638c642f758fb3dc1d7', 'url': 'https://trello.com/c/n3FAHo9l/19-fine-tune-models', 'list': 'Done'}),\n",
       " Document(page_content='Filter feature\\nRemove Mien, sex, branch, feature trungfComments:Removed cols thu nhap', metadata={'title': 'Filter feature', 'id': '648bb5c6a5aac9fe1de0afa2', 'url': 'https://trello.com/c/94l0kUSo/16-filter-feature', 'list': 'Done'}),\n",
       " Document(page_content='Refactor code\\n|Chuyển LGBM sang pytorch\\n\\nCode để thêm feature bất kì lúc nào mà mình cần\\n\\nCode để máy có thể chạy khi số class khác nhau\\nList\\nViết lại code save Yaml. Save config theo model, feaure của model và tham số:complete\\nViết file lưu lại các config:complete\\nBổ sung docstring:complete\\nCovert ipynb to .py\\nTạo folder chứa các Model (Sklearn, Pytorch...):completeComments:', metadata={'title': 'Refactor code', 'id': '6477f96687a327be1ed4842a', 'url': 'https://trello.com/c/3BFBJiFc/5-refactor-code', 'list': 'Done'}),\n",
       " Document(page_content='In ra xác suất KH rời bỏ theo từng tháng\\n\\nChecklist\\nIn XS rời bỏ của KH theo tháng trc:complete\\nDùng XS đó làm feature cho tháng sau:completeComments:', metadata={'title': 'In ra xác suất KH rời bỏ theo từng tháng', 'id': '6477f9e98392e383dc2c22fb', 'url': 'https://trello.com/c/veRi6bu3/8-in-ra-x%C3%A1c-su%E1%BA%A5t-kh-r%E1%BB%9Di-b%E1%BB%8F-theo-t%E1%BB%ABng-th%C3%A1ng', 'list': 'Done'}),\n",
       " Document(page_content='Thuyết trình sếp Tuyên và thầy Hiên\\nCác mục thuyết trình:\\n\\n1/ về hthống: Cách team DS lấy data từng tháng, đổi\\n\\nnhãn, gộp data để train, dự đoán trên tập cif\\n\\nopen và xuất KQ cho tổ report. ( Toàn)\\n\\n2/ Phân tích EDA. (các vấn đề gặp phải và 1 số\\n\\nphương án đề xuất dùng để xử lý DL) (Toàn).\\n\\n3/ Phân tích KQ:\\nCác metric, Fi, accu, recall\\n\\n- Quá tình fine tune\\n- Quá trình chọn pp xử lí mất cb dữ liệu\\n- KQ trên tập test → không bị overfit.\\n- Nói về metric mình dùng và hệ quả.\\n- Feature Importance.\\n\\nBảo)\\n\\n4/ Phân tiết KQ dự báo KH:\\n\\n- Model dự đoán là LGBM/GBC.\\n- Thể hiện không bị overfit.\\n\\n5/ Hướng phát triển và những khó khăn cần giải đáp\\nlà phần đã viết trên viber\\n\\n- Mỗi tháng sẽ EDA 1 lần\\n- Retain model vs nhãn TĐ -> thay đổi nhẫn open -> close\\n- Thêm feature về tần suất\\n- Data distribution shift và delay label\\nChecklist\\nslide 1:incomplete\\nslide 2:incomplete\\nslide 3:incomplete\\nslide 4:incompleteComments:', metadata={'title': 'Thuyết trình sếp Tuyên và thầy Hiên', 'id': '649404fd5c77aef440fad31b', 'url': 'https://trello.com/c/LspmeXBF/21-thuy%E1%BA%BFt-tr%C3%ACnh-s%E1%BA%BFp-tuy%C3%AAn-v%C3%A0-th%E1%BA%A7y-hi%C3%AAn', 'list': 'Done'}),\n",
       " Document(page_content='Feature importance\\n\\nChecklist\\nIn ra feature importance của model:complete\\nLý do KH rời bỏ (%):completeComments:', metadata={'title': 'Feature importance', 'id': '6477f9b86e01d999818cde50', 'url': 'https://trello.com/c/zafc2nzN/7-feature-importance', 'list': 'Done'}),\n",
       " Document(page_content='Thử với model sensitive weight\\nThử fine tune và test ra KQ với sensitive weight imbalanceComments:', metadata={'title': 'Thử với model sensitive weight', 'id': '649b8f9cb588c9a85af4b446', 'url': 'https://trello.com/c/8FTajo5f/25-th%E1%BB%AD-v%E1%BB%9Bi-model-sensitive-weight', 'list': 'Done'}),\n",
       " Document(page_content='Đọc tài liệu thầy Hiên về Chi-Square test và P-values\\nComments:', metadata={'title': 'Đọc tài liệu thầy Hiên về Chi-Square test và P-values', 'id': '649bd2ab586804549077c982', 'url': 'https://trello.com/c/9hbNEJcQ/26-%C4%91%E1%BB%8Dc-t%C3%A0i-li%E1%BB%87u-th%E1%BA%A7y-hi%C3%AAn-v%E1%BB%81-chi-square-test-v%C3%A0-p-values', 'list': 'Done'}),\n",
       " Document(page_content='Báo cáo tổng\\n\\nlist task\\nbáo cáo EDA:complete\\nBC fine tune tham số, chọn mô hình:complete\\nBC các phương pháp imbalance:complete\\nBC phương pháp remove duplicate:completeComments:', metadata={'title': 'Báo cáo tổng', 'id': '6477f89970e58d0b86c3c63b', 'url': 'https://trello.com/c/JZVg5xBS/2-b%C3%A1o-c%C3%A1o-t%E1%BB%95ng', 'list': 'Done'}),\n",
       " Document(page_content='MLOPS\\n\\nDanh sách nội dung cần trao đổi\\nThống nhất về việc dữ liệu Input - Output được lưu trữ như thế nào, ở đâu:complete\\nSau bao lâu model dự đoán 1 lần:incomplete\\nSau khi dự đoán thì bao lâu có Feedback:incomplete\\nChiến lược phát triển lâu dài như thế nào:incompleteComments:', metadata={'title': 'MLOPS', 'id': '6477fa58d4f22a408d29187e', 'url': 'https://trello.com/c/DCJUTMTJ/11-mlops', 'list': 'Done'}),\n",
       " Document(page_content='Cần làm gấp trước buổi gặp thầy Hiên\\n# Kiểm tra, làm sạch dữ liệu.\\nChecklist\\nToàn - Tại sao trong features importance lại có trạng thái cif:complete\\nBảo - Condition cho tiền gửi giao dịch NoD:complete\\nToàn - Xoá customer type = Company :incompleteComments:', metadata={'title': 'Cần làm gấp trước buổi gặp thầy Hiên', 'id': '64954df9083c087a37baad7a', 'url': 'https://trello.com/c/vTiaNgwQ/23-c%E1%BA%A7n-l%C3%A0m-g%E1%BA%A5p-tr%C6%B0%E1%BB%9Bc-bu%E1%BB%95i-g%E1%BA%B7p-th%E1%BA%A7y-hi%C3%AAn', 'list': 'Done'}),\n",
       " Document(page_content='Câu hỏi trao đổi thầy Hiên ngày 27/6/2023\\n- Generate Dataset. Kết hợp file Open và Close như nào.\\n- Comments:', metadata={'title': 'Câu hỏi trao đổi thầy Hiên ngày 27/6/2023', 'id': '64927348d827e7e2b6029088', 'url': 'https://trello.com/c/VSRJQKdE/20-c%C3%A2u-h%E1%BB%8Fi-trao-%C4%91%E1%BB%95i-th%E1%BA%A7y-hi%C3%AAn-ng%C3%A0y-27-6-2023', 'list': 'Done'}),\n",
       " Document(page_content='KẾ HOẠCH TỔNG\\n- Làm demo theo data chị Thúy và Microsoft [Retail banking churn prediction | Microsoft Learn](https://learn.microsoft.com/en-us/dynamics365/industry/financial-services/churn-prediction \"\\u200c\") (lấy data close tháng này, thêm vào tháng trước để train model rồi predict the cif open hiện tại)\\n- Xin bên data lấy data của cif close lùi về trước 1 tháng, xin lấy thêm feature\\n\\n![SmartSelect\\\\_20230602\\\\_082858\\\\_Samsung\\\\_Notes.jpg](https://trello.com/1/cards/647943ac999b040a259e7915/attachments/647946e77af90fde5227af9d/download/SmartSelect_20230602_082858_Samsung_Notes.jpg)\\nChecklist\\nLàm demo:completeComments:', metadata={'title': 'KẾ HOẠCH TỔNG', 'id': '647943ac999b040a259e7915', 'url': 'https://trello.com/c/bh8u71FZ/15-k%E1%BA%BF-ho%E1%BA%A1ch-t%E1%BB%95ng', 'list': 'Done'}),\n",
       " Document(page_content='Xin feature\\n\\nChecklist\\nlấy maxdat 30 lùi ngày:completeComments:', metadata={'title': 'Xin feature', 'id': '64a22c5b03966d906d2db401', 'url': 'https://trello.com/c/oNuFju12/33-xin-feature', 'list': 'Done'}),\n",
       " Document(page_content='Refactor code 2\\n\\nChecklist\\nViết worflow tự động vs Metaflow - B:complete\\nLưu model và artifact sau finetune - B:complete\\nRefactor code finetune - T:complete\\nKiểm tra lại việc tràn RAM- T:complete\\nGắn tag cho model và git - B:complete\\ncommand line with argparse - B:complete\\nViết class thay vì def cho các model - T:complete\\nStandardize the environment - T:completeComments:', metadata={'title': 'Refactor code 2', 'id': '64a227d51fc273cd46a3e824', 'url': 'https://trello.com/c/mZxysCZw/27-refactor-code-2', 'list': 'Done'}),\n",
       " Document(page_content='Xoá customer type = Company\\nComments:', metadata={'title': 'Xoá customer type = Company', 'id': '64a2290ec845b3acb01de3d5', 'url': 'https://trello.com/c/6iF4XhjZ/28-xo%C3%A1-customer-type-company', 'list': 'Done'}),\n",
       " Document(page_content='Xin lấy data trc 1 tháng\\nComments:', metadata={'title': 'Xin lấy data trc 1 tháng', 'id': '64a22c577380254bc24c2f1c', 'url': 'https://trello.com/c/rf2w9WUd/32-xin-l%E1%BA%A5y-data-trc-1-th%C3%A1ng', 'list': 'Done'}),\n",
       " Document(page_content='Tạo data demo\\nComments:', metadata={'title': 'Tạo data demo', 'id': '64acdb8fd5a2aaca5424a40d', 'url': 'https://trello.com/c/0aNaGggb/35-t%E1%BA%A1o-data-demo', 'list': 'Done'}),\n",
       " Document(page_content='Add shap to LGBM\\n\\nChecklist\\nAdd SHAP cho lr:incomplete\\nCHo tree based:incomplete\\nCho MLP:incomplete\\nViết riêng 1 file để test SHAP:incompleteComments:Không thể apply đk vì thuật toán\\nĐã làm gần xong còn SHAP cho mlp', metadata={'title': 'Add shap to LGBM', 'id': '647814861f13901b9e99d35c', 'url': 'https://trello.com/c/x1eqArwL/14-add-shap-to-lgbm', 'list': 'Done'}),\n",
       " Document(page_content='Fine tune lại model\\n\\nChecklist\\nFine tune với paramgrid lớn hơn:complete\\nFine tune với estimator tùe 1000 - 10000:complete\\nlàm với max date 30 lùi:complete\\nBỏ SEX, phone, internet, mobile banking:completeComments:', metadata={'title': 'Fine tune lại model', 'id': '64a229e3132c8660c3b31665', 'url': 'https://trello.com/c/iYkfWoGu/30-fine-tune-l%E1%BA%A1i-model', 'list': 'Done'}),\n",
       " Document(page_content='Toong\\nComments:', metadata={'title': 'Toong', 'id': '64b9dbcf8475c4b2ef50138e', 'url': 'https://trello.com/c/RkjaFUyr/40-toong', 'list': 'Done'}),\n",
       " Document(page_content='Nạp data time series vào model tsai\\n\\nChecklist\\nCấu trúc data vào model:incomplete\\ncode data:incompleteComments:', metadata={'title': 'Nạp data time series vào model tsai', 'id': '64b738512ceb20fdffdb97bd', 'url': 'https://trello.com/c/oBQNXnlm/37-n%E1%BA%A1p-data-time-series-v%C3%A0o-model-tsai', 'list': 'Done'}),\n",
       " Document(page_content='Time series data\\n\\nChecklist\\nĐọc lại feature time:incomplete\\nĐọc lại code anh Hảo về time:incomplete\\nChạy lại thử code Time:incompleteComments:', metadata={'title': 'Time series data', 'id': '64a22a13a9d0a74086d5ae8e', 'url': 'https://trello.com/c/ZsGcYwhb/31-time-series-data', 'list': 'Done'}),\n",
       " Document(page_content='Coi lại data time\\n\\nChecklist\\nTại config các cột cần lấy và các cột cần bỏ:incomplete\\nHiểu từng feature dùng làm gì:incompleteComments:', metadata={'title': 'Coi lại data time', 'id': '64b7381bc7dd1a461c4a2083', 'url': 'https://trello.com/c/kdpBH2w3/36-coi-l%E1%BA%A1i-data-time', 'list': 'Done'}),\n",
       " Document(page_content='Lấy data close anh thi\\nComments:', metadata={'title': 'Lấy data close anh thi', 'id': '64dc3ff0db5826b846a7a041', 'url': 'https://trello.com/c/WmTEqUAw/43-l%E1%BA%A5y-data-close-anh-thi', 'list': 'Done'}),\n",
       " Document(page_content='xin data làm báo cáo thử nghiệm\\nComments:', metadata={'title': 'xin data làm báo cáo thử nghiệm', 'id': '64c85e508e5e67a8bad5fc06', 'url': 'https://trello.com/c/Xbak0RtZ/41-xin-data-l%C3%A0m-b%C3%A1o-c%C3%A1o-th%E1%BB%AD-nghi%E1%BB%87m', 'list': 'Done'}),\n",
       " Document(page_content='cái phần mêm\\nComments:', metadata={'title': 'cái phần mêm', 'id': '64ec051c0b6d5eb76857a79d', 'url': 'https://trello.com/c/v5iEEozD/45-c%C3%A1i-ph%E1%BA%A7n-m%C3%AAm', 'list': 'Done'}),\n",
       " Document(page_content='Cài server\\n\\nChecklist\\nChạy thử KQ server:complete\\nCài môi trường:complete\\nCài và lấy data oracle:completeComments:', metadata={'title': 'Cài server', 'id': '64dc3ff4383a82a104f5ead8', 'url': 'https://trello.com/c/fkZxA3nK/44-c%C3%A0i-server', 'list': 'Done'}),\n",
       " Document(page_content='Dùng bayesian CONTINUOUS search thay vì grid search\\nComments:', metadata={'title': 'Dùng bayesian CONTINUOUS search thay vì grid search', 'id': '64d3a9d9bfa9804cb4e72a49', 'url': 'https://trello.com/c/ER6cD8tp/42-d%C3%B9ng-bayesian-continuous-search-thay-v%C3%AC-grid-search', 'list': 'Done'}),\n",
       " Document(page_content='Cài software cho server\\n\\nChecklist\\nVM ware:incomplete\\ndocker:incomplete\\nCuda:incompleteComments:', metadata={'title': 'Cài software cho server', 'id': '64ec052cc84381b2a02a7a7d', 'url': 'https://trello.com/c/GLmX8yaP/46-c%C3%A0i-software-cho-server', 'list': 'Done'}),\n",
       " Document(page_content='Chạy lại model với 2 feature mới\\n\\nChecklist\\ncheck cân bằng dữ liệu:complete\\nEDA feature mới:complete\\nCoi feature importance:complete\\nTạo feature mới nếu có:complete\\nFine tune model:complete\\nRa KQ báo cáo:completeComments:', metadata={'title': 'Chạy lại model với 2 feature mới', 'id': '64ec055faafe7509553a7940', 'url': 'https://trello.com/c/AihkPrHp/47-ch%E1%BA%A1y-l%E1%BA%A1i-model-v%E1%BB%9Bi-2-feature-m%E1%BB%9Bi', 'list': 'Done'}),\n",
       " Document(page_content='Feature selection\\n[How to Choose a Feature Selection Method For Machine Learning - MachineLearningMastery.com](https://machinelearningmastery.com/feature-selection-with-real-and-categorical-data/ \"\\u200c\")\\n\\nThêm các phương pháp filter statistic để lọc ra các pp quan trọng trọng EDA\\nChecklist\\nMutual infor mation (cat cat):complete\\npearson (num num):complete\\nanova (num cat):incompleteComments:ko thể làm Mutual Info vì gặp lỗi Input contains NaN, vì data chưa nhiều Nan quá', metadata={'title': 'Feature selection', 'id': '64ec1310a526317f4dc37883', 'url': 'https://trello.com/c/h0d8ifOD/48-feature-selection', 'list': 'Done'}),\n",
       " Document(page_content='refactor clf_performance\\n\\nChecklist\\nTạo class base:complete\\nconfusion matrix:complete\\nlearning curve:complete\\nsave fig:completeComments:', metadata={'title': 'refactor clf_performance', 'id': '652df70b5564edbe601c3a6e', 'url': 'https://trello.com/c/YeNvi0gS/53-refactor-clfperformance', 'list': 'Done'}),\n",
       " Document(page_content='Cách loại bỏ bớt ROWS thừa khi classify\\n\\nChecklist\\nTRANG THAI ACTIVE = C:complete\\nremove_NGAY_GD_GANNHAT_THAI_CIFACTIVE < 180 days (6 months):completeComments:', metadata={'title': 'Cách loại bỏ bớt ROWS thừa khi classify', 'id': '652df789e7611629a1570936', 'url': 'https://trello.com/c/UbmFDmiQ/54-c%C3%A1ch-lo%E1%BA%A1i-b%E1%BB%8F-b%E1%BB%9Bt-rows-th%E1%BB%ABa-khi-classify', 'list': 'Done'}),\n",
       " Document(page_content='apply cv_results_dict to fine tune\\nComments:', metadata={'title': 'apply cv_results_dict to fine tune', 'id': '652df793724adf89b75ff3fd', 'url': 'https://trello.com/c/pGiKxczq/55-apply-cvresultsdict-to-fine-tune', 'list': 'Done'}),\n",
       " Document(page_content='check lỗi tràn RAM trên server khi search\\nSử dụng daskComments:', metadata={'title': 'check lỗi tràn RAM trên server khi search', 'id': '652df6f9ce740048c62d75f9', 'url': 'https://trello.com/c/Ma20Ve53/52-check-l%E1%BB%97i-tr%C3%A0n-ram-tr%C3%AAn-server-khi-search', 'list': 'Done'}),\n",
       " Document(page_content='refactor finetune\\n\\nChecklist\\nfinetune base:complete\\ngrid search:complete\\nbayesian search:completeComments:', metadata={'title': 'refactor finetune', 'id': '652df69fb3f276580ec7e5ca', 'url': 'https://trello.com/c/jpfweUbt/51-refactor-finetune', 'list': 'Done'}),\n",
       " Document(page_content='Viết lại file test sau khi loại bỏ các KH  bằng heuristic\\nFile test sau khi loại bỏ sẽ bị thiếu, cần mapping lại với customer noComments:', metadata={'title': 'Viết lại file test sau khi loại bỏ các KH  bằng heuristic', 'id': '652f86a8223f1ba2f7c4587a', 'url': 'https://trello.com/c/exowPsTs/56-vi%E1%BA%BFt-l%E1%BA%A1i-file-test-sau-khi-lo%E1%BA%A1i-b%E1%BB%8F-c%C3%A1c-kh-b%E1%BA%B1ng-heuristic', 'list': 'Done'}),\n",
       " Document(page_content='Fine tune bayesian\\nComments:', metadata={'title': 'Fine tune bayesian', 'id': '652df6518dd53746b01a17cb', 'url': 'https://trello.com/c/MQDgwDVN/49-fine-tune-bayesian', 'list': 'Done'}),\n",
       " Document(page_content='fine tune with data converted\\n\\nChecklist\\nrecall:complete\\nf1:completeComments:', metadata={'title': 'fine tune with data converted', 'id': '65321aadfb1a86a7ca266cb0', 'url': 'https://trello.com/c/9RIkrD5H/60-fine-tune-with-data-converted', 'list': 'Done'}),\n",
       " Document(page_content='check data ví điện tử\\n\\nChecklist\\nViết code encode vi dien tu:complete\\nmerge data ops vô:complete\\nLàm lại EDA:completeComments:', metadata={'title': 'check data ví điện tử', 'id': '652f86dba362dd64d3cb08ef', 'url': 'https://trello.com/c/T1Mk0D3Y/57-check-data-v%C3%AD-%C4%91i%E1%BB%87n-t%E1%BB%AD', 'list': 'Done'}),\n",
       " Document(page_content='Xử lý data Data OPS + Ví điện tử\\nComments:', metadata={'title': 'Xử lý data Data OPS + Ví điện tử', 'id': '65387ece266dfec1c8b7ee8c', 'url': 'https://trello.com/c/1wyqnehs/61-x%E1%BB%AD-l%C3%BD-data-data-ops-v%C3%AD-%C4%91i%E1%BB%87n-t%E1%BB%AD', 'list': 'Done'}),\n",
       " Document(page_content='write code to convert open not thoa ddk to close\\nComments:', metadata={'title': 'write code to convert open not thoa ddk to close', 'id': '65321a90b838f54a7816fcb7', 'url': 'https://trello.com/c/ygWQqe6L/58-write-code-to-convert-open-not-thoa-ddk-to-close', 'list': 'Done'}),\n",
       " Document(page_content='fine tune data o2c+ops\\nComments:', metadata={'title': 'fine tune data o2c+ops', 'id': '653c8899b5f1c5fea0968704', 'url': 'https://trello.com/c/XLfp85VE/63-fine-tune-data-o2cops', 'list': 'Done'}),\n",
       " Document(page_content='Train with data converted\\n\\nChecklist\\nrecall:complete\\nf1:incompleteComments:', metadata={'title': 'Train with data converted', 'id': '65321a98f89e002d2710fbcd', 'url': 'https://trello.com/c/HwAQ81ba/59-train-with-data-converted', 'list': 'Done'}),\n",
       " Document(page_content='Coi kĩ hơn data OPS\\n\\nChecklist\\nCoi mising value OPS:complete\\nCoi feature important OPS:complete\\nThử reduce feature OPS xem KQ có ngang hay khả quan hơn ko:completeComments:', metadata={'title': 'Coi kĩ hơn data OPS', 'id': '653f36578d8cdbe8126c6949', 'url': 'https://trello.com/c/XSojuCQJ/64-coi-k%C4%A9-h%C6%A1n-data-ops', 'list': 'Done'}),\n",
       " Document(page_content='Train data o2c+ops\\nComments:Khi train full OPS (đã bỏ DATSAN, MUA SAM) thì kq không khác với klhi không train ops.KQ 83/87\\n\\nKhi train OPS (SLTB, SLLOGIN, COUNT TRANS, AMOUNT) thì ccho kq khác hoàn toàn, phân bố dự đoán đều hơn, KQ 57/87', metadata={'title': 'Train data o2c+ops', 'id': '653c888d03d869eab290dc62', 'url': 'https://trello.com/c/40UjTFCF/62-train-data-o2cops', 'list': 'Done'}),\n",
       " Document(page_content='Refactor Performance code\\n\\nChecklist\\nBase Performance:complete\\nSplit draaw performance ra plot cm, plot ROC, plot AUC:complete\\nInherit TrainPerformance and FineTunePerformance:completeComments:', metadata={'title': 'Refactor Performance code', 'id': '654062b28135419a4bae42e9', 'url': 'https://trello.com/c/d4eZgAVU/67-refactor-performance-code', 'list': 'Done'}),\n",
       " Document(page_content='Finetune data o2o_ops\\nComments:', metadata={'title': 'Finetune data o2o_ops', 'id': '6540d39105bb9b9090b09b8a', 'url': 'https://trello.com/c/x1OAxdtJ/71-finetune-data-o2oops', 'list': 'Done'}),\n",
       " Document(page_content='Train data o2o_ops\\nComments:', metadata={'title': 'Train data o2o_ops', 'id': '6540d39db4c92988b2b1aa91', 'url': 'https://trello.com/c/oyEhsADI/72-train-data-o2oops', 'list': 'Done'}),\n",
       " Document(page_content='Set xtrain to 20000 in SHAP\\nComments:', metadata={'title': 'Set xtrain to 20000 in SHAP', 'id': '6540d32a7b3678fd968d4a98', 'url': 'https://trello.com/c/nJe9YCwV/70-set-xtrain-to-20000-in-shap', 'list': 'Done'}),\n",
       " Document(page_content='Viết code load data để giảm memory\\nVới code load data mới.\\n\\n- Lúc đầu load 93 cột, mem 750Mb, Khi train thì available trên server còn 14.34Gb\\n- Sau khi load 39 cột, mem 300Mb, Khi train thì available trên server còn 17.2Gb\\n\\nTiết kiện 3-4Gb\\nChecklist\\nwrite config:complete\\ntest the memory with decorator:complete\\nCompare:completeComments:', metadata={'title': 'Viết code load data để giảm memory', 'id': '654345f79e7b567d7538c5b3', 'url': 'https://trello.com/c/hYhlsUZZ/78-vi%E1%BA%BFt-code-load-data-%C4%91%E1%BB%83-gi%E1%BA%A3m-memory', 'list': 'Done'}),\n",
       " Document(page_content='Viết lại code test cho month_hoat_dong < 3\\n\\nChecklist\\nViết code convert o2c cho month_hoat_dong<2:completeComments:Khi test kèm với fileter data, thì kết quả dự đoán vẫn như vậy, nhưng số lượng dự đoán cao hơn nhiều (200k cif cho month\\\\_hoat\\\\_dong) - > kq tệ hơn so với việc cứ cho model dự đoán như thường', metadata={'title': 'Viết lại code test cho month_hoat_dong < 3', 'id': '65406561d20de4b1188f681a', 'url': 'https://trello.com/c/lqUWrbth/69-vi%E1%BA%BFt-l%E1%BA%A1i-code-test-cho-monthhoatdong-3', 'list': 'Done'}),\n",
       " Document(page_content='write test class\\ntransformer/model can be str or obj\\n\\noutput csv file with the KL danh gia so bo\\n\\nCó option cho việc filter data\\nChecklist\\ntransformer/model can be str or obj:incomplete\\noutput csv file with the KL danh gia so bo:incomplete\\nCó option cho việc filter data:incomplete\\nNạp vào filter data, nếu ko nạp thì predict trên toàn bộ data ra KQ:incompleteComments:', metadata={'title': 'write test class', 'id': '65435405b92756648ee4ad54', 'url': 'https://trello.com/c/uQfnWZOg/79-write-test-class', 'list': 'Done'}),\n",
       " Document(page_content='Thử OPS without o2c\\no2o OPS\\nChecklist\\nThử reduce feature OPS xem KQ có ngang hay khả quan hơn ko:complete\\nTrain model:complete\\nfine tune model:completeComments:Kết quả reduce OPS khả quan hơn, số lượng dự đoán ít lại', metadata={'title': 'Thử OPS without o2c', 'id': '653f36b73d35aee679a56a78', 'url': 'https://trello.com/c/tVhDr8Y4/65-th%E1%BB%AD-ops-without-o2c', 'list': 'Done'}),\n",
       " Document(page_content='Viết báo cáo các kết quả\\n\\nChecklist\\nso sánh o2o, o2c:incomplete\\nso sánh ops hay không ops:complete\\nso sánh ops full hay không full:incomplete\\nso sánh config tagv1 với config mới:completeComments:', metadata={'title': 'Viết báo cáo các kết quả', 'id': '65421d31dc3a9102aee97fab', 'url': 'https://trello.com/c/64r8AmJG/74-vi%E1%BA%BFt-b%C3%A1o-c%C3%A1o-c%C3%A1c-k%E1%BA%BFt-qu%E1%BA%A3', 'list': 'Done'}),\n",
       " Document(page_content='check data v4 bug\\nComments:', metadata={'title': 'check data v4 bug', 'id': '654af626cf172bcae3eb3e6e', 'url': 'https://trello.com/c/VVP92C2J/80-check-data-v4-bug', 'list': 'Done'}),\n",
       " Document(page_content='Chạy dữ liệu để Golive\\n\\nTask\\nXuất dữ liệu:incomplete\\nvalidate dữ liệu:incomplete\\nHậu xử lý để đưa lên DB:incompleteComments:', metadata={'title': 'Chạy dữ liệu để Golive', 'id': '655583f157a014edf009521a', 'url': 'https://trello.com/c/QcCoxKb4/84-ch%E1%BA%A1y-d%E1%BB%AF-li%E1%BB%87u-%C4%91%E1%BB%83-golive', 'list': 'Done'}),\n",
       " Document(page_content='Viết lại file stat_status\\nComments:', metadata={'title': 'Viết lại file stat_status', 'id': '655583a9d38392aec71c2e4a', 'url': 'https://trello.com/c/faIIfPxF/83-vi%E1%BA%BFt-l%E1%BA%A1i-file-statstatus', 'list': 'Done'}),\n",
       " Document(page_content='Đưa ra kết quả test tháng 8,9,10, 11\\nComments:', metadata={'title': 'Đưa ra kết quả test tháng 8,9,10, 11', 'id': '65558372f36f40007d9c7f64', 'url': 'https://trello.com/c/h8pbh0O4/81-%C4%91%C6%B0a-ra-k%E1%BA%BFt-qu%E1%BA%A3-test-th%C3%A1ng-8910-11', 'list': 'Done'}),\n",
       " Document(page_content='Viết code đưa ra kết quả test cuối cùng\\nComments:', metadata={'title': 'Viết code đưa ra kết quả test cuối cùng', 'id': '6555837eb4d3a331d11f7197', 'url': 'https://trello.com/c/snI04IEK/82-vi%E1%BA%BFt-code-%C4%91%C6%B0a-ra-k%E1%BA%BFt-qu%E1%BA%A3-test-cu%E1%BB%91i-c%C3%B9ng', 'list': 'Done'}),\n",
       " Document(page_content='Refactor file merge data\\n\\nChecklist\\nViết class cho các hàn tiền xử lí:incomplete\\nViết class cho các hàm merge data:incomplete\\nConvert data  type cho phần tiền xử lí:incomplete\\nLưu file với định dạng hdf5 hoặc parquet để đọc đúng định dạng:incompleteComments:', metadata={'title': 'Refactor file merge data', 'id': '654319df96d8562aef2a8916', 'url': 'https://trello.com/c/CRCjQoqO/76-refactor-file-merge-data', 'list': 'Done'}),\n",
       " Document(page_content='fix branch code 3 so\\nComments:', metadata={'title': 'fix branch code 3 so', 'id': '65643ef8337e24c389886da6', 'url': 'https://trello.com/c/CkyVzuyh/93-fix-branch-code-3-so', 'list': 'Done'}),\n",
       " Document(page_content='Viết lại readme file từng file dùng làm gì, cách chạy file từ A-Z\\nComments:', metadata={'title': 'Viết lại readme file từng file dùng làm gì, cách chạy file từ A-Z', 'id': '65643f26ad2488de161c0c20', 'url': 'https://trello.com/c/zRxpsAyz/94-vi%E1%BA%BFt-l%E1%BA%A1i-readme-file-t%E1%BB%ABng-file-d%C3%B9ng-l%C3%A0m-g%C3%AC-c%C3%A1ch-ch%E1%BA%A1y-file-t%E1%BB%AB-a-z', 'list': 'Done'}),\n",
       " Document(page_content='Gắn tag v1.2 cho model mới\\nComments:', metadata={'title': 'Gắn tag v1.2 cho model mới', 'id': '65558413f57199ee796ae73a', 'url': 'https://trello.com/c/ZY4txQHq/85-g%E1%BA%AFn-tag-v12-cho-model-m%E1%BB%9Bi', 'list': 'Done'}),\n",
       " Document(page_content='Train model new feature\\nDùng vs bayes config\\nChecklist\\nChỉ remove các KH có TG_hoat_dong < 3 tháng:complete\\nThêm RFM model:incomplete\\nThêm OPS:complete\\nThêm cả 3 data:incompleteComments:', metadata={'title': 'Train model new feature', 'id': '652df6592654fcec8e4bd0c4', 'url': 'https://trello.com/c/3J6UM1Sh/50-train-model-new-feature', 'list': 'Done'}),\n",
       " Document(page_content='Run Inference Cust SOW\\n\\nRun Inference Cust SOW\\nLấy Data Open của tháng này (29/10 lấy backup_date tháng 10):complete\\nSet config file for Inference.py:complete\\nRun file Inference.py:complete\\nVô doc/result_report/2023_10_result.xlsx lấy file:complete\\nUpload file lên syno:complete\\nGửi mail DBA/ cc anh Xìn, chị Thúy/ thông báo đã up data:completeComments:', metadata={'title': 'Run Inference Cust SOW', 'id': '65664c3ac93bec4a9fc4f5fa', 'url': 'https://trello.com/c/30wqHNuw/95-run-inference-cust-sow', 'list': 'Done'}),\n",
       " Document(page_content='Viết lại code save file csv xlsx\\nComments:', metadata={'title': 'Viết lại code save file csv xlsx', 'id': '656845ab7d28d0c7c811ca3e', 'url': 'https://trello.com/c/KFKKKW2f/101-vi%E1%BA%BFt-l%E1%BA%A1i-code-save-file-csv-xlsx', 'list': 'Done'}),\n",
       " Document(page_content='Viết file check EDA file Open\\nCheck file mà ko cần target col\\nChecklist\\ncheck miền liên tục:incomplete\\nCheck miền rời rạc:incomplete\\ncheck binary eror:completeComments:', metadata={'title': 'Viết file check EDA file Open', 'id': '6567e62fd6d1ec6e50c370e6', 'url': 'https://trello.com/c/FGnRqnwF/96-vi%E1%BA%BFt-file-check-eda-file-open', 'list': 'Done'}),\n",
       " Document(page_content='data drift numerical\\nComments:', metadata={'title': 'data drift numerical', 'id': '6572dd0328c010ebab8a8f26', 'url': 'https://trello.com/c/1Ant3ukh/107-data-drift-numerical', 'list': 'Done'}),\n",
       " Document(page_content='Class tiền xử lí các file\\nComments:', metadata={'title': 'Class tiền xử lí các file', 'id': '6572dc8065699c25e3ae290b', 'url': 'https://trello.com/c/NCYcZaNr/106-class-ti%E1%BB%81n-x%E1%BB%AD-l%C3%AD-c%C3%A1c-file', 'list': 'Done'}),\n",
       " Document(page_content='So sánh số lượng mỗi file\\nComments:', metadata={'title': 'So sánh số lượng mỗi file', 'id': '6572dc78a3689a1ad84af6e7', 'url': 'https://trello.com/c/dyFKIdbh/104-so-s%C3%A1nh-s%E1%BB%91-l%C6%B0%E1%BB%A3ng-m%E1%BB%97i-file', 'list': 'Done'}),\n",
       " Document(page_content='data drift discrete\\nComments:', metadata={'title': 'data drift discrete', 'id': '6572dd06c456e0d498d13cdb', 'url': 'https://trello.com/c/acGps88c/108-data-drift-discrete', 'list': 'Done'}),\n",
       " Document(page_content='data drift covariate shift\\n\\nChecklist\\nnum:incomplete\\ncat cols:incompleteComments:', metadata={'title': 'data drift covariate shift', 'id': '6572dd080d639fa693ef5840', 'url': 'https://trello.com/c/4z8iHt8y/109-data-drift-covariate-shift', 'list': 'Done'}),\n",
       " Document(page_content='inference với data mới tháng 11\\nEDA\\n\\nTrain\\n\\nTrang Thai CIF: A,C: Tiêu chí cũ\\n\\nHoat Dong: A, I: Tiêu Chí mớiComments:', metadata={'title': 'inference với data mới tháng 11', 'id': '657672162590ae92b51e8f32', 'url': 'https://trello.com/c/fUlLHn1U/110-inference-v%E1%BB%9Bi-data-m%E1%BB%9Bi-th%C3%A1ng-11', 'list': 'Done'}),\n",
       " Document(page_content='Check mising value (10% drift)\\nComments:', metadata={'title': 'Check mising value (10% drift)', 'id': '6572dc7da62c25ea86f93c51', 'url': 'https://trello.com/c/YQs8haTx/105-check-mising-value-10-drift', 'list': 'Done'}),\n",
       " Document(page_content='check top 10 cate\\nComments:', metadata={'title': 'check top 10 cate', 'id': '657bf369251b792024236966', 'url': 'https://trello.com/c/Z5yDIYLA/111-check-top-10-cate', 'list': 'Done'}),\n",
       " Document(page_content='Làm ppt mai thuyết trình\\nComments:', metadata={'title': 'Làm ppt mai thuyết trình', 'id': '657fa1189e41862e4e32cdf4', 'url': 'https://trello.com/c/KqgqGQE9/114-l%C3%A0m-ppt-mai-thuy%E1%BA%BFt-tr%C3%ACnh', 'list': 'Done'}),\n",
       " Document(page_content='Lấy lại data tháng 7\\nLấy lại và check xem data tháng 7 còn sai ko và vì sao saiComments:', metadata={'title': 'Lấy lại data tháng 7', 'id': '657fa0d889657879f3cffb2b', 'url': 'https://trello.com/c/2GpyDNPV/113-l%E1%BA%A5y-l%E1%BA%A1i-data-th%C3%A1ng-7', 'list': 'Done'}),\n",
       " Document(page_content='Chỉnh sửa các cột mới\\nComments:', metadata={'title': 'Chỉnh sửa các cột mới', 'id': '6582acdc178ecc9f16da1ef4', 'url': 'https://trello.com/c/vfFnn4nd/117-ch%E1%BB%89nh-s%E1%BB%ADa-c%C3%A1c-c%E1%BB%99t-m%E1%BB%9Bi', 'list': 'Done'}),\n",
       " Document(page_content='set up PL SQL\\n\\nChecklist\\nServer:incomplete\\nPC Bao:incompleteComments:', metadata={'title': 'set up PL SQL', 'id': '657fa09359689d5f94c96ec1', 'url': 'https://trello.com/c/WU0OSsII/112-set-up-pl-sql', 'list': 'Done'}),\n",
       " Document(page_content='Triển khai mô hình theo paper https://arxiv.org/pdf/2106.03253.pdf\\nComments:', metadata={'title': 'Triển khai mô hình theo paper https://arxiv.org/pdf/2106.03253.pdf', 'id': '6583bee1a623b44e3c9f0792', 'url': 'https://trello.com/c/j81TzHjj/118-tri%E1%BB%83n-khai-m%C3%B4-h%C3%ACnh-theo-paper-https-arxivorg-pdf-210603253pdf', 'list': 'Done'}),\n",
       " Document(page_content='Check lại code full luồng inference\\nComments:', metadata={'title': 'Check lại code full luồng inference', 'id': '6567ec77011c708dd4993b94', 'url': 'https://trello.com/c/rH2pVbdV/98-check-l%E1%BA%A1i-code-full-lu%E1%BB%93ng-inference', 'list': 'Done'}),\n",
       " Document(page_content='Tai sao datav5 thang 7 va data v6 o2oops 7 cos cust churn rate lech nhau\\nVì bên OPS có lấy những user cif < 2000. Nguyên tác là không được lấy vì đó là user cì của ngân hàngComments:', metadata={'title': 'Tai sao datav5 thang 7 va data v6 o2oops 7 cos cust churn rate lech nhau', 'id': '658e90327f1f130ddf3cb5b2', 'url': 'https://trello.com/c/b7lW9x00/120-tai-sao-datav5-thang-7-va-data-v6-o2oops-7-cos-cust-churn-rate-lech-nhau', 'list': 'Done'}),\n",
       " Document(page_content='check dataiku vs chị Thúy\\nComments:', metadata={'title': 'check dataiku vs chị Thúy', 'id': '65938840b442e882dafe1521', 'url': 'https://trello.com/c/ia2YYwep/124-check-dataiku-vs-ch%E1%BB%8B-th%C3%BAy', 'list': 'Done'}),\n",
       " Document(page_content='Train lại model ops vs cif > 2000\\nComments:', metadata={'title': 'Train lại model ops vs cif > 2000', 'id': '6593d3324fceffe7211f68a2', 'url': 'https://trello.com/c/P4fpA9OQ/125-train-l%E1%BA%A1i-model-ops-vs-cif-2000', 'list': 'Done'}),\n",
       " Document(page_content='write report model7 recall\\nKết quả train testComments:', metadata={'title': 'write report model7 recall', 'id': '6594c072ffbce072b8c34bca', 'url': 'https://trello.com/c/khF1mYdU/129-write-report-model7-recall', 'list': 'Done'}),\n",
       " Document(page_content='write report for OPS new\\nComments:', metadata={'title': 'write report for OPS new', 'id': '6593d5a1e63d99c8ec94b5e7', 'url': 'https://trello.com/c/dE9dMWgf/126-write-report-for-ops-new', 'list': 'Done'}),\n",
       " Document(page_content='check kết quả dự đoán tháng 12\\nComments:', metadata={'title': 'check kết quả dự đoán tháng 12', 'id': '6594c01287c117a37dd01d67', 'url': 'https://trello.com/c/lflz6Vu0/128-check-k%E1%BA%BFt-qu%E1%BA%A3-d%E1%BB%B1-%C4%91o%C3%A1n-th%C3%A1ng-12', 'list': 'Done'}),\n",
       " Document(page_content='Train/test model 7 f1\\nComments:', metadata={'title': 'Train/test model 7 f1', 'id': '6596065669335a80ca6589cc', 'url': 'https://trello.com/c/7hU4tLPE/131-train-test-model-7-f1', 'list': 'Done'}),\n",
       " Document(page_content='write report model 7 f1\\nComments:', metadata={'title': 'write report model 7 f1', 'id': '65960674df6defc2121ff31e', 'url': 'https://trello.com/c/hZLPYsAd/132-write-report-model-7-f1', 'list': 'Done'}),\n",
       " Document(page_content='Fine tune model on OPS new\\n\\nChecklist\\nweighted f1:complete\\nrecall:completeComments:', metadata={'title': 'Fine tune model on OPS new', 'id': '6593d5a9c69518fe9abf5afe', 'url': 'https://trello.com/c/93V0WvRa/127-fine-tune-model-on-ops-new', 'list': 'Done'}),\n",
       " Document(page_content='Rà soát lại các trường ko cần dùng theo nghị định 13\\nNghị định 13 bảo vệ khách hàng\\nChecklist\\ncheck nghị định 13 có các trường nào:complete\\nRà soát data SOW và time có các feature nào:complete\\nXóa các feature ko cần thiết:completeComments:Hiện chị Thúy  bảo đầu tiên mình đã hiểu NĐ 13 là j chưa, csdl đi kèm gồm những phân hệ j, đã có dữ liệu hay chưa? Chưa j hết thì sao mà làm duoc j giai đoạn này\\nHiện tại 1 số feature kể đến có thể liên quan là\\n\\n- quốc tịch\\n- Miền (cat lại thành 1 2 3)', metadata={'title': 'Rà soát lại các trường ko cần dùng theo nghị định 13', 'id': '6597bdb6137827fe5388c542', 'url': 'https://trello.com/c/xSbg8UuB/134-r%C3%A0-so%C3%A1t-l%E1%BA%A1i-c%C3%A1c-tr%C6%B0%E1%BB%9Dng-ko-c%E1%BA%A7n-d%C3%B9ng-theo-ngh%E1%BB%8B-%C4%91%E1%BB%8Bnh-13', 'list': 'Done'}),\n",
       " Document(page_content='Đọc bài về các hyper param của tree model\\n[XGBoost Hyperparameter Tuning With Optuna (Kaggle Grandmaster Guide) | Forecastegy](https://forecastegy.com/posts/xgboost-hyperparameter-tuning-with-optuna/ \"\\u200c\")\\n\\n[How To Use Optuna to Tune LightGBM Hyperparameters | Forecastegy](https://forecastegy.com/posts/how-to-use-optuna-to-tune-lightgbm-hyperparameters/ \"\\u200c\")\\n\\n[Parameters Tuning — LightGBM 4.2.0.99 documentation](https://lightgbm.readthedocs.io/en/latest/Parameters-Tuning.html \"\\u200c\")\\nChecklist\\nLightGBM:complete\\nXGB:completeComments:', metadata={'title': 'Đọc bài về các hyper param của tree model', 'id': '659c9f006768b268420d065b', 'url': 'https://trello.com/c/rsc1Uk6I/138-%C4%91%E1%BB%8Dc-b%C3%A0i-v%E1%BB%81-c%C3%A1c-hyper-param-c%E1%BB%A7a-tree-model', 'list': 'Note and resources'}),\n",
       " Document(page_content='check for other scoring methods for fine tune\\nwhen I use recall, My number of prediction is too large leads to accuracy high. when I use f1 score, the number of prediction is too small, lead to the low accuracy, what other scoring method shold I use to get small number of predictions but have high precision and accuracy\\nChecklist\\nsklearn co cho modify error ko:complete\\noptuna cos Bayesian search ko:complete\\nerror nen dung la gi:completeComments:We can check Optuna\\nThầy Hiên khuyên ko nên tìm error để finetune, chỉ nên dùng các scoring có sẵn\\nChuyển sang xđ các hyperparam để finetune, và khoảng range của nó', metadata={'title': 'check for other scoring methods for fine tune', 'id': '65961d6117ddbd8ecfdaebdb', 'url': 'https://trello.com/c/RTyDRL6c/133-check-for-other-scoring-methods-for-fine-tune', 'list': 'Note and resources'}),\n",
       " Document(page_content='Viết file check shifting\\n[Data Shift in Machine Learning: what is it and how to detect it – Georgios Sarantitis (wordpress.com)](https://gsarantitis.wordpress.com/2020/04/16/data-shift-in-machine-learning-what-is-it-and-how-to-detect-it/ \"\\u200c\")\\n\\n[Let’s code: Drift and Detect! - OCTO Talks !](https://blog.octo.com/lets-code-drift-and-detect \"\\u200c\")\\n\\n[candice-fraisse/octo\\\\_workshop\\\\_drift (github.com)](https://github.com/candice-fraisse/octo_workshop_drift \"\\u200c\")\\n\\n[Azure/data-model-drift: Managing Data and Model Drift with Azure Machine Learning (github.com)](https://github.com/Azure/data-model-drift \"\\u200c\")\\n\\n\\u200c\\n\\n![image.png](https://trello.com/1/cards/6568290e65b8e60de9bb1d05/attachments/6571791182d70953d401305a/download/image.png)Comments:', metadata={'title': 'Viết file check shifting', 'id': '6568290e65b8e60de9bb1d05', 'url': 'https://trello.com/c/btsKJpmQ/100-vi%E1%BA%BFt-file-check-shifting', 'list': 'Note and resources'}),\n",
       " Document(page_content='Note họp 27/6\\nĐây là những công việc cần làm tiếp theoComments:', metadata={'title': 'Note họp 27/6', 'id': '64a2293985bb2aa030b29d1c', 'url': 'https://trello.com/c/TsbMpyW1/29-note-h%E1%BB%8Dp-27-6', 'list': 'Note and resources'}),\n",
       " Document(page_content='Danh sách bảng đang sử dụng\\n# CUSTOMER\\\\_CHURN\\\\_112023\\n\\n\\u200c\\n\\n# CUSTOMER_CHURN\\n\\n\\u200c\\n\\n# CUSTOMER\\\\_CHURN\\\\_122023Comments:', metadata={'title': 'Danh sách bảng đang sử dụng', 'id': '65938410fcb13a5a9718d710', 'url': 'https://trello.com/c/MR9hPn6Q/123-danh-s%C3%A1ch-b%E1%BA%A3ng-%C4%91ang-s%E1%BB%AD-d%E1%BB%A5ng', 'list': 'Note and resources'}),\n",
       " Document(page_content='Viết code đổi o2o hoặc o2c nếu cần\\nVì khi tạo data có lúc đần filter đổi nhã, có lúc không, thế nên cần viết lại để ko bị lộn, Viết lại class merge data càng tốtComments:', metadata={'title': 'Viết code đổi o2o hoặc o2c nếu cần', 'id': '65431989277acd7d11992ece', 'url': 'https://trello.com/c/5WxAog7m/75-vi%E1%BA%BFt-code-%C4%91%E1%BB%95i-o2o-ho%E1%BA%B7c-o2c-n%E1%BA%BFu-c%E1%BA%A7n', 'list': 'Pause'}),\n",
       " Document(page_content='Xem xét cách đạt kết quả tốt hơn với o2c\\nKết quả khi dùng với o2c có kết quả tốt nma model dự đoán rời bỏ trên 1tr2/1tr5 cif tức là khoãng 80%. → Tìm cách giảm số % đó xuống\\nChecklist\\nTìm nguyên nhân:incomplete\\nthử với các scoring khác recall, f1,...:incompleteComments:Xem lại việc bỏ month hoat dong = 2. Nếu đã bỏ thì phải cho nó là rời bỏ trước', metadata={'title': 'Xem xét cách đạt kết quả tốt hơn với o2c', 'id': '653f373236863b57d9b09173', 'url': 'https://trello.com/c/7xxqXMZu/66-xem-x%C3%A9t-c%C3%A1ch-%C4%91%E1%BA%A1t-k%E1%BA%BFt-qu%E1%BA%A3-t%E1%BB%91t-h%C6%A1n-v%E1%BB%9Bi-o2c', 'list': 'Pause'}),\n",
       " Document(page_content='Vẽ mô tả front end để sử dụng\\nĐể sử dụng SOW thì phải có giao diện người dùng, giờ mình mô tả cái giao diện đó ntn (rồi trỏ API xuống để lấy data), Để anh Xìn nhờ front end viết ra để nội bộ sử dụng\\nChecklist\\nHỏi chị Thúy ng ta dùng ntn:incomplete\\nTham khảo cách ng ta dùng:incomplete\\nMô tả giao diện In và Out (ngày tháng, hiện data ntn):incomplete\\nChốt:incompleteComments:', metadata={'title': 'Vẽ mô tả front end để sử dụng', 'id': '656931062237bd6d42402974', 'url': 'https://trello.com/c/b1y9rwRE/102-v%E1%BA%BD-m%C3%B4-t%E1%BA%A3-front-end-%C4%91%E1%BB%83-s%E1%BB%AD-d%E1%BB%A5ng', 'list': 'Pause'}),\n",
       " Document(page_content='Train lại model với data mới\\nĐây là bản train model khác với data tháng 7\\nChecklist\\nOPS:complete\\nfilter month < 3:complete\\nRFM:incompleteComments:', metadata={'title': 'Train lại model với data mới', 'id': '6567e6da5fea73e66c63b0a2', 'url': 'https://trello.com/c/AKN8nPEU/97-train-l%E1%BA%A1i-model-v%E1%BB%9Bi-data-m%E1%BB%9Bi', 'list': 'Pause'}),\n",
       " Document(page_content='Tổng hợp phản hồi sau Golive:\\n- Bỏ DUNO_CV\\n- Bỏ KHA\\\\_NANG\\\\_ROI_BO\\n- Thêm số lần giao dịch (bảng CIF Active)\\n- Comments:', metadata={'title': 'Tổng hợp phản hồi sau Golive:', 'id': '6567fcd6b24968e3c8762c91', 'url': 'https://trello.com/c/zzcsFURc/99-t%E1%BB%95ng-h%E1%BB%A3p-ph%E1%BA%A3n-h%E1%BB%93i-sau-golive', 'list': 'Pause'}),\n",
       " Document(page_content='Run Inference Customer Churn\\nMail: [XUẤT DỮ LIỆU DỰ ĐOÁN KHÁCH HÀNG RỜI BỎ THÁNG 11]\\n\\nDear anh Xìn!\\n\\nHiện nhóm Data Science đã upload file dự đoán khách hàng rời bỏ tháng 11 (2023\\\\_11\\\\_result.xlsx) lên syno drive ở link [Synology Drive (namabank.com.vn)](https://fs.namabank.com.vn:10003/?launchApp=SYNO.SDS.Drive.Application#file_id=785869695457738117 \"\\u200c\")\\nNhờ anh update lên Database giúp em. Em cám ơn anh.\\nRun Inference Cust SOW\\nLấy Data Open của tháng này (29/10 lấy backup_date tháng 10):incomplete\\nCheck phân phối data open:incomplete\\nSet config file for Inference.py:incomplete\\nRun file Inference.py:incomplete\\nVô doc/final_inference/ lấy file:incomplete\\nCheck phân phối kết quả:incomplete\\nUpload file lên syno:incomplete\\nshare file cho anh huannd:incomplete\\nGửi mail DBA/ cc anh Xìn, chị Thúy/ thông báo đã up data:incompleteComments:', metadata={'title': 'Run Inference Customer Churn', 'id': '6556cad6c749d1861bc8d788', 'url': 'https://trello.com/c/gxRqaCLC/86-run-inference-customer-churn', 'list': 'Pause'}),\n",
       " Document(page_content='Docker Ubuntu\\nComments:', metadata={'title': 'Docker Ubuntu', 'id': '6541d6d53a792dc6b28c4ed8', 'url': 'https://trello.com/c/K2Wh22Ob/73-docker-ubuntu', 'list': 'Pause'}),\n",
       " Document(page_content='Thêm class weight cho MLP\\nComments:', metadata={'title': 'Thêm class weight cho MLP', 'id': '649b8f8be24518e3dbc40281', 'url': 'https://trello.com/c/DDU7hODd/24-th%C3%AAm-class-weight-cho-mlp', 'list': 'Pause'}),\n",
       " Document(page_content='Thử tạo RFM với OPS data\\n\\nChecklist\\nViết code RFM class:incomplete\\nTìm cột R,F,M:incomplete\\nEDA RFM OPS:incomplete\\nTrain với RFM OPS:incompleteComments:', metadata={'title': 'Thử tạo RFM với OPS data', 'id': '654063f68bbf901feb3504b8', 'url': 'https://trello.com/c/FMUaGIXq/68-th%E1%BB%AD-t%E1%BA%A1o-rfm-v%E1%BB%9Bi-ops-data', 'list': 'Pause'}),\n",
       " Document(page_content='Kết quả dự đoán cho tháng 12\\n![Screenshot\\\\_20240103\\\\_112122\\\\_Brave.jpg](https://trello.com/1/cards/6594ddda7ab6ad8309c0f42e/attachments/6594e13366f8384ab3a99212/download/Screenshot_20240103_112122_Brave.jpg)Comments:', metadata={'title': 'Kết quả dự đoán cho tháng 12', 'id': '6594ddda7ab6ad8309c0f42e', 'url': 'https://trello.com/c/VB2t3nrb/130-k%E1%BA%BFt-qu%E1%BA%A3-d%E1%BB%B1-%C4%91o%C3%A1n-cho-th%C3%A1ng-12', 'list': 'Result'})]"
      ]
     },
     "execution_count": 7,
     "metadata": {},
     "output_type": "execute_result"
    }
   ],
   "source": [
    "documents"
   ]
  },
  {
   "cell_type": "code",
   "execution_count": null,
   "metadata": {},
   "outputs": [],
   "source": []
  }
 ],
 "metadata": {
  "kernelspec": {
   "display_name": "venv",
   "language": "python",
   "name": "python3"
  },
  "language_info": {
   "codemirror_mode": {
    "name": "ipython",
    "version": 3
   },
   "file_extension": ".py",
   "mimetype": "text/x-python",
   "name": "python",
   "nbconvert_exporter": "python",
   "pygments_lexer": "ipython3",
   "version": "3.10.12"
  }
 },
 "nbformat": 4,
 "nbformat_minor": 2
}
