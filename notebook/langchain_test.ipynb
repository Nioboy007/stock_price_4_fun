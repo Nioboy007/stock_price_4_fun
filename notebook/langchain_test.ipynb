{
 "cells": [
  {
   "cell_type": "code",
   "execution_count": 17,
   "metadata": {},
   "outputs": [
    {
     "name": "stdout",
     "output_type": "stream",
     "text": [
      "/root/code_Bao/stock_price_4_fun/notebook\n"
     ]
    }
   ],
   "source": [
    "import os\n",
    "try:\n",
    "    print(file_path)\n",
    "except:\n",
    "    file_path = os.path.abspath('')\n",
    "    os.chdir(os.path.dirname(file_path))\n",
    "    print(file_path)"
   ]
  },
  {
   "cell_type": "code",
   "execution_count": 18,
   "metadata": {},
   "outputs": [],
   "source": [
    "from langchain.text_splitter import RecursiveCharacterTextSplitter\n",
    "from langchain_community.document_loaders import (\n",
    "    NewsURLLoader,\n",
    "    TrelloLoader,\n",
    ")\n",
    "from unstructured.cleaners.core import clean_extra_whitespace\n",
    "from langchain.text_splitter import TokenTextSplitter\n",
    "from dotenv import load_dotenv\n",
    "load_dotenv()\n",
    "from src.Microsofttodo import *\n"
   ]
  },
  {
   "cell_type": "code",
   "execution_count": 19,
   "metadata": {},
   "outputs": [],
   "source": [
    "TRELLO_API_KEY= os.getenv('TRELLO_API_KEY')\n",
    "TRELLO_TOKEN = os.getenv('TRELLO_TOKEN')"
   ]
  },
  {
   "cell_type": "code",
   "execution_count": 20,
   "metadata": {},
   "outputs": [],
   "source": [
    "\n",
    "# # Get the open cards from \"Awesome Board\"\n",
    "# loader = TrelloLoader.from_credentials(\n",
    "#     \"SOW data\",\n",
    "#     api_key=TRELLO_API_KEY,\n",
    "#     token=TRELLO_TOKEN,\n",
    "#     card_filter=\"open\",\n",
    "# )\n",
    "# documents = loader.load()\n",
    "\n",
    "# print(documents[0].page_content)\n",
    "# print(documents[0].metadata)"
   ]
  },
  {
   "cell_type": "code",
   "execution_count": 21,
   "metadata": {},
   "outputs": [],
   "source": [
    "# # Get all the cards from \"Awesome Board\" but only include the\n",
    "# # card list(column) as extra metadata.\n",
    "# loader = TrelloLoader.from_credentials(\n",
    "#     \"SOW data\",\n",
    "#     api_key=TRELLO_API_KEY,\n",
    "#     token=TRELLO_TOKEN,\n",
    "#     extra_metadata=(\"list\"),\n",
    "# )\n",
    "# documents = loader.load()\n",
    "\n",
    "# print(documents[0].page_content)\n",
    "# print(documents[0].metadata)"
   ]
  },
  {
   "cell_type": "code",
   "execution_count": 22,
   "metadata": {},
   "outputs": [],
   "source": [
    "todo = MicrosoftToDo()"
   ]
  },
  {
   "cell_type": "code",
   "execution_count": 23,
   "metadata": {},
   "outputs": [
    {
     "name": "stdout",
     "output_type": "stream",
     "text": [
      "['hello2', \"1:  reminds me to do the wash and reminds me to play Pemington at 10 o'clock tomorrow\", '1:  I want to go to shopping tomorrow and go to meet my grandparents yesterday.', 'hello', 'Implement optuna', 'Play badminton', 'make docker for OCR', 'Check data grip about OPS. What else?', 'Reimplement scaffold prj', 'Lên plan đi đà lạt', 'Shopping', 'stock', 'Cloud computing Foundation']\n"
     ]
    }
   ],
   "source": [
    "todo_tasks = todo.get_tasks(list_name='Tasks')\n",
    "todo_tasks[0:2]\n",
    "names = [item['title'] for item in todo_tasks]\n",
    "print (names)\n",
    "              "
   ]
  },
  {
   "cell_type": "code",
   "execution_count": 24,
   "metadata": {},
   "outputs": [],
   "source": [
    "# todo_tasks"
   ]
  },
  {
   "cell_type": "code",
   "execution_count": 25,
   "metadata": {},
   "outputs": [
    {
     "name": "stdout",
     "output_type": "stream",
     "text": [
      "Lists:  ['Tasks', '2022', '2023', '2024', 'Giải quyết với Trân', 'LLM RAG and Notion', 'Mua sách', 'Telegram bot', 'Vietnamese stock forecast', 'Flagged Emails']\n"
     ]
    },
    {
     "data": {
      "text/plain": [
       "{'@odata.etag': 'W/\"wyYSbsYOaUCZPsQATrx1BgAE5B9mMQ==\"',\n",
       " 'displayName': 'Tasks',\n",
       " 'isOwner': True,\n",
       " 'isShared': False,\n",
       " 'wellknownListName': 'defaultList',\n",
       " 'id': 'AQMkADAwATMwMAItMTg4AGMtZmRiNC0wMAItMDAKAC4AAAORlXbjKGFLSJiBLf4_KVkjAQDDJhJuxg5pQJk_xABOvHUGAAACARIAAAA='}"
      ]
     },
     "execution_count": 25,
     "metadata": {},
     "output_type": "execute_result"
    }
   ],
   "source": [
    "todo_lists = todo.get_lists()\n",
    "todo_lists[0]"
   ]
  },
  {
   "cell_type": "code",
   "execution_count": 26,
   "metadata": {},
   "outputs": [
    {
     "data": {
      "text/plain": [
       "{'@odata.etag': 'W/\"wyYSbsYOaUCZPsQATrx1BgAE4T+1bQ==\"',\n",
       " 'displayName': '2022',\n",
       " 'isOwner': True,\n",
       " 'isShared': False,\n",
       " 'wellknownListName': 'none',\n",
       " 'id': 'AQMkADAwATMwMAItMTg4AGMtZmRiNC0wMAItMDAKAC4AAAORlXbjKGFLSJiBLf4_KVkjAQDDJhJuxg5pQJk_xABOvHUGAAMPg-liAAAA'}"
      ]
     },
     "execution_count": 26,
     "metadata": {},
     "output_type": "execute_result"
    }
   ],
   "source": [
    "todo_lists[1]"
   ]
  },
  {
   "cell_type": "code",
   "execution_count": 27,
   "metadata": {},
   "outputs": [],
   "source": [
    "# create_task(task_name='hello', list_name='Tasks', reminder_datetime=datetime.now())"
   ]
  },
  {
   "cell_type": "code",
   "execution_count": 28,
   "metadata": {},
   "outputs": [
    {
     "data": {
      "text/plain": [
       "[{'importance': 'normal',\n",
       "  'isReminderOn': False,\n",
       "  'title': 'hello2',\n",
       "  'createdDateTime': '2024-01-13T02:53:20.424567Z',\n",
       "  'hasAttachments': False,\n",
       "  'checklistItems': None,\n",
       "  'body': {'content': '', 'contentType': 'text'}},\n",
       " {'importance': 'normal',\n",
       "  'isReminderOn': False,\n",
       "  'title': \"1:  reminds me to do the wash and reminds me to play Pemington at 10 o'clock tomorrow\",\n",
       "  'createdDateTime': '2024-01-13T02:52:21.5462781Z',\n",
       "  'hasAttachments': False,\n",
       "  'checklistItems': None,\n",
       "  'body': {'content': '', 'contentType': 'text'}}]"
      ]
     },
     "execution_count": 28,
     "metadata": {},
     "output_type": "execute_result"
    }
   ],
   "source": [
    "todo_tasks = todo.get_short_form_tasks(list_name='Tasks', )\n",
    "todo_tasks[0:2]\n",
    "# names = [item['title'] for item in todo_tasks]\n",
    "# print (names)\n",
    "              "
   ]
  },
  {
   "cell_type": "code",
   "execution_count": 32,
   "metadata": {},
   "outputs": [
    {
     "data": {
      "text/plain": [
       "True"
      ]
     },
     "execution_count": 32,
     "metadata": {},
     "output_type": "execute_result"
    }
   ],
   "source": [
    "# todo.create_task(task_name='hello2', list_name='Tasks')"
   ]
  },
  {
   "cell_type": "code",
   "execution_count": 38,
   "metadata": {},
   "outputs": [],
   "source": [
    "text = \"I have to check out a Gemini bro. I have to go to shopping. I have to play Pemington tomorrow at 8 o'clock.\""
   ]
  },
  {
   "cell_type": "code",
   "execution_count": 39,
   "metadata": {},
   "outputs": [],
   "source": [
    "from langchain_experimental.text_splitter import SemanticChunker\n",
    "from langchain_openai.embeddings import OpenAIEmbeddings"
   ]
  },
  {
   "cell_type": "code",
   "execution_count": 40,
   "metadata": {},
   "outputs": [],
   "source": [
    "from langchain.text_splitter import RecursiveCharacterTextSplitter"
   ]
  },
  {
   "cell_type": "code",
   "execution_count": 41,
   "metadata": {},
   "outputs": [],
   "source": [
    "text_splitter = RecursiveCharacterTextSplitter(\n",
    "    # Set a really small chunk size, just to show.\n",
    "    chunk_size=100,\n",
    "    chunk_overlap=0,\n",
    "    length_function=len,\n",
    "    is_separator_regex=False,\n",
    ")"
   ]
  },
  {
   "cell_type": "code",
   "execution_count": 42,
   "metadata": {},
   "outputs": [
    {
     "name": "stdout",
     "output_type": "stream",
     "text": [
      "page_content='I have to check out a Gemini bro. I have to go to shopping. I have to play Pemington tomorrow at 8'\n",
      "page_content=\"o'clock.\"\n"
     ]
    }
   ],
   "source": [
    "texts = text_splitter.create_documents([text])\n",
    "print(texts[0])\n",
    "print(texts[1])"
   ]
  },
  {
   "cell_type": "code",
   "execution_count": 43,
   "metadata": {},
   "outputs": [],
   "source": [
    "# docs = text_splitter.create_documents([text])\n",
    "# print(docs[0].page_content)"
   ]
  }
 ],
 "metadata": {
  "kernelspec": {
   "display_name": "venv",
   "language": "python",
   "name": "python3"
  },
  "language_info": {
   "codemirror_mode": {
    "name": "ipython",
    "version": 3
   },
   "file_extension": ".py",
   "mimetype": "text/x-python",
   "name": "python",
   "nbconvert_exporter": "python",
   "pygments_lexer": "ipython3",
   "version": "3.10.12"
  }
 },
 "nbformat": 4,
 "nbformat_minor": 2
}
