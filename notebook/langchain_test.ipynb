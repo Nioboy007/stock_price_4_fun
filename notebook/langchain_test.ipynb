{
 "cells": [
  {
   "cell_type": "code",
   "execution_count": 1,
   "metadata": {},
   "outputs": [
    {
     "name": "stdout",
     "output_type": "stream",
     "text": [
      "/root/code_Bao/stock_price_4_fun/notebook\n"
     ]
    }
   ],
   "source": [
    "import os\n",
    "try:\n",
    "    print(file_path)\n",
    "except:\n",
    "    file_path = os.path.abspath('')\n",
    "    os.chdir(os.path.dirname(file_path))\n",
    "    print(file_path)"
   ]
  },
  {
   "cell_type": "code",
   "execution_count": 2,
   "metadata": {},
   "outputs": [
    {
     "data": {
      "application/vnd.jupyter.widget-view+json": {
       "model_id": "1d99374b337e45c9ad37062692c32595",
       "version_major": 2,
       "version_minor": 0
      },
      "text/plain": [
       "Fetching 1 files:   0%|          | 0/1 [00:00<?, ?it/s]"
      ]
     },
     "metadata": {},
     "output_type": "display_data"
    },
    {
     "data": {
      "application/vnd.jupyter.widget-view+json": {
       "model_id": "6742dd1210e04354ac028b3bc5eed036",
       "version_major": 2,
       "version_minor": 0
      },
      "text/plain": [
       "Fetching 1 files:   0%|          | 0/1 [00:00<?, ?it/s]"
      ]
     },
     "metadata": {},
     "output_type": "display_data"
    },
    {
     "name": "stdout",
     "output_type": "stream",
     "text": [
      "Selected device: cuda\n"
     ]
    }
   ],
   "source": [
    "from langchain.text_splitter import RecursiveCharacterTextSplitter\n",
    "from langchain_community.document_loaders import (\n",
    "    NewsURLLoader,\n",
    "    TrelloLoader,\n",
    ")\n",
    "from unstructured.cleaners.core import clean_extra_whitespace\n",
    "from langchain.text_splitter import TokenTextSplitter\n",
    "from dotenv import load_dotenv\n",
    "load_dotenv()\n",
    "from src.Microsofttodo import *\n",
    "from src.summarize_text import SeperateTaskPrompt"
   ]
  },
  {
   "cell_type": "code",
   "execution_count": 3,
   "metadata": {},
   "outputs": [],
   "source": [
    "import ast\n",
    "\n",
    "from typing import Literal\n",
    "from transformers import pipeline\n",
    "from bs4 import BeautifulSoup\n",
    "from src.Utils.utils import check_path, take_device\n",
    "\n",
    "from langchain.text_splitter import RecursiveCharacterTextSplitter\n",
    "from langchain_community.document_loaders import (\n",
    "    NewsURLLoader,\n",
    ")\n",
    "from unstructured.cleaners.core import clean_extra_whitespace\n",
    "from langchain.text_splitter import TokenTextSplitter\n",
    "\n",
    "from langchain_community.llms import CTransformers\n",
    "from langchain.chains import LLMChain\n",
    "from langchain.prompts import PromptTemplate\n",
    "from ctransformers import AutoModelForCausalLM, AutoTokenizer\n",
    "\n",
    "\n",
    "\n",
    "class SeperateTaskPrompt:\n",
    "    def __init__(self, template_path:str = 'config/seperate_task_template.txt', ):\n",
    "\n",
    "        self.template_path = template_path\n",
    "        with open(self.template_path, 'r') as file:\n",
    "            self.template = file.read()\n",
    "        self.load_llm()\n",
    "        # self.prompt = PromptTemplate(template=self.template, input_variables=['question'])\n",
    "        # self.llm_chain = LLMChain(prompt=self.prompt, llm=self.llm)\n",
    "\n",
    "    def load_llm(self):\n",
    "        \n",
    "        self.llm = AutoModelForCausalLM.from_pretrained(model_path_or_repo_id='TheBloke/Llama-2-7B-Chat-GGML', \n",
    "            model_file='llama-2-7b-chat.ggmlv3.q4_1.bin',\n",
    "            max_new_tokens=512,\n",
    "            temperature=0.5,\n",
    "            reset = True,\n",
    "            seed = 42, \n",
    "            gpu_layers=50)\n",
    "        \n",
    "\n",
    "    def get_response(self, text) -> list:\n",
    "        # response = self.llm_chain(text) #return dict of question and answer text\n",
    "        # response = self.get_tasks_from_string(text = response['text'])\n",
    "        response = self.llm(f\"{self.template}: {text}\")\n",
    "        # print('raw', response)\n",
    "        response = self.get_tasks_from_string(response)\n",
    "        return response\n",
    "\n",
    "    def get_tasks_from_string(self, text:str) -> list:\n",
    "        # Find the substring between '[' and ']'\n",
    "        start_index = text.find('[')\n",
    "        end_index = text.find(']') + 1\n",
    "        list_string = text[start_index:end_index]\n",
    "        task_list = ast.literal_eval(list_string)\n",
    "        return task_list"
   ]
  },
  {
   "cell_type": "code",
   "execution_count": 4,
   "metadata": {},
   "outputs": [
    {
     "data": {
      "application/vnd.jupyter.widget-view+json": {
       "model_id": "a67bb4ba7ef64d10abb05c50d9994b1a",
       "version_major": 2,
       "version_minor": 0
      },
      "text/plain": [
       "Fetching 1 files:   0%|          | 0/1 [00:00<?, ?it/s]"
      ]
     },
     "metadata": {},
     "output_type": "display_data"
    },
    {
     "data": {
      "application/vnd.jupyter.widget-view+json": {
       "model_id": "b07822200f0646deb62311c15dca20ed",
       "version_major": 2,
       "version_minor": 0
      },
      "text/plain": [
       "Fetching 1 files:   0%|          | 0/1 [00:00<?, ?it/s]"
      ]
     },
     "metadata": {},
     "output_type": "display_data"
    }
   ],
   "source": [
    "seperator = SeperateTaskPrompt()"
   ]
  },
  {
   "cell_type": "code",
   "execution_count": 5,
   "metadata": {},
   "outputs": [],
   "source": [
    "text = 'I go shopping at 8am and do homework at 6, call parents tomorrow'"
   ]
  },
  {
   "cell_type": "code",
   "execution_count": 6,
   "metadata": {},
   "outputs": [
    {
     "name": "stdout",
     "output_type": "stream",
     "text": [
      "raw .\"\n",
      "Output: [\"go shopping at 8am\", \"do homework at 6pm\", \"call parents tomorrow\"]\n",
      "Note: Time is not necessary. You can just output the tasks as a list.\n"
     ]
    }
   ],
   "source": [
    "task = seperator.get_response(text)"
   ]
  },
  {
   "cell_type": "code",
   "execution_count": 7,
   "metadata": {},
   "outputs": [
    {
     "data": {
      "text/plain": [
       "['go shopping at 8am', 'do homework at 6pm', 'call parents tomorrow']"
      ]
     },
     "execution_count": 7,
     "metadata": {},
     "output_type": "execute_result"
    }
   ],
   "source": [
    "task"
   ]
  },
  {
   "cell_type": "code",
   "execution_count": null,
   "metadata": {},
   "outputs": [],
   "source": []
  },
  {
   "cell_type": "code",
   "execution_count": null,
   "metadata": {},
   "outputs": [],
   "source": [
    "TRELLO_API_KEY= os.getenv('TRELLO_API_KEY')\n",
    "TRELLO_TOKEN = os.getenv('TRELLO_TOKEN')"
   ]
  },
  {
   "cell_type": "code",
   "execution_count": null,
   "metadata": {},
   "outputs": [],
   "source": [
    "\n",
    "# # Get the open cards from \"Awesome Board\"\n",
    "# loader = TrelloLoader.from_credentials(\n",
    "#     \"SOW data\",\n",
    "#     api_key=TRELLO_API_KEY,\n",
    "#     token=TRELLO_TOKEN,\n",
    "#     card_filter=\"open\",\n",
    "# )\n",
    "# documents = loader.load()\n",
    "\n",
    "# print(documents[0].page_content)\n",
    "# print(documents[0].metadata)"
   ]
  },
  {
   "cell_type": "code",
   "execution_count": null,
   "metadata": {},
   "outputs": [],
   "source": [
    "# # Get all the cards from \"Awesome Board\" but only include the\n",
    "# # card list(column) as extra metadata.\n",
    "# loader = TrelloLoader.from_credentials(\n",
    "#     \"SOW data\",\n",
    "#     api_key=TRELLO_API_KEY,\n",
    "#     token=TRELLO_TOKEN,\n",
    "#     extra_metadata=(\"list\"),\n",
    "# )\n",
    "# documents = loader.load()\n",
    "\n",
    "# print(documents[0].page_content)\n",
    "# print(documents[0].metadata)"
   ]
  },
  {
   "cell_type": "code",
   "execution_count": null,
   "metadata": {},
   "outputs": [],
   "source": [
    "todo = MicrosoftToDo()"
   ]
  },
  {
   "cell_type": "code",
   "execution_count": null,
   "metadata": {},
   "outputs": [],
   "source": [
    "todo_tasks = todo.get_tasks(list_name='Tasks')\n",
    "todo_tasks[0:2]\n",
    "names = [item['title'] for item in todo_tasks]\n",
    "print (names)\n",
    "              "
   ]
  },
  {
   "cell_type": "code",
   "execution_count": null,
   "metadata": {},
   "outputs": [],
   "source": [
    "# todo_tasks"
   ]
  },
  {
   "cell_type": "code",
   "execution_count": null,
   "metadata": {},
   "outputs": [],
   "source": [
    "todo_lists = todo.get_lists()\n",
    "todo_lists[0]"
   ]
  },
  {
   "cell_type": "code",
   "execution_count": null,
   "metadata": {},
   "outputs": [],
   "source": [
    "todo_lists[1]"
   ]
  },
  {
   "cell_type": "code",
   "execution_count": null,
   "metadata": {},
   "outputs": [],
   "source": [
    "# create_task(task_name='hello', list_name='Tasks', reminder_datetime=datetime.now())"
   ]
  },
  {
   "cell_type": "code",
   "execution_count": null,
   "metadata": {},
   "outputs": [],
   "source": [
    "todo_tasks = todo.get_short_form_tasks(list_name='Tasks', )\n",
    "todo_tasks[0:2]\n",
    "# names = [item['title'] for item in todo_tasks]\n",
    "# print (names)\n",
    "              "
   ]
  },
  {
   "cell_type": "code",
   "execution_count": null,
   "metadata": {},
   "outputs": [],
   "source": [
    "# todo.create_task(task_name='hello2', list_name='Tasks')"
   ]
  },
  {
   "cell_type": "code",
   "execution_count": null,
   "metadata": {},
   "outputs": [],
   "source": [
    "text = \"I have to go to the gym at 9, and figure out the power of 2, I have to call my parent at 6 in my house, and do my homework with james\""
   ]
  },
  {
   "cell_type": "code",
   "execution_count": null,
   "metadata": {},
   "outputs": [],
   "source": [
    "seperator = SeperateTaskPrompt()"
   ]
  },
  {
   "cell_type": "code",
   "execution_count": null,
   "metadata": {},
   "outputs": [],
   "source": [
    "list1 = seperator.get_response(text)\n",
    "print(list1)"
   ]
  }
 ],
 "metadata": {
  "kernelspec": {
   "display_name": "venv",
   "language": "python",
   "name": "python3"
  },
  "language_info": {
   "codemirror_mode": {
    "name": "ipython",
    "version": 3
   },
   "file_extension": ".py",
   "mimetype": "text/x-python",
   "name": "python",
   "nbconvert_exporter": "python",
   "pygments_lexer": "ipython3",
   "version": "3.10.12"
  }
 },
 "nbformat": 4,
 "nbformat_minor": 2
}
