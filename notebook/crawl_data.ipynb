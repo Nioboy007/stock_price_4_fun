{
 "cells": [
  {
   "cell_type": "code",
   "execution_count": 1,
   "metadata": {},
   "outputs": [
    {
     "name": "stdout",
     "output_type": "stream",
     "text": [
      "/root/code_Bao/stock_price_4_fun/notebook\n"
     ]
    }
   ],
   "source": [
    "import os\n",
    "try:\n",
    "    print(file_path)\n",
    "except:\n",
    "    file_path = os.path.abspath('')\n",
    "    os.chdir(os.path.dirname(file_path))\n",
    "    print(file_path)"
   ]
  },
  {
   "cell_type": "code",
   "execution_count": 2,
   "metadata": {},
   "outputs": [],
   "source": [
    "import numpy as np # linear algebra\n",
    "import pandas as pd # data processing, CSV file I/O (e.g. pd.read_csv)\n",
    "pd.set_option('display.max_columns', None)\n",
    "from src.trading_record import BuySellAnalyzer, WinLossAnalyzer, TradeScraper"
   ]
  },
  {
   "cell_type": "code",
   "execution_count": 3,
   "metadata": {},
   "outputs": [],
   "source": [
    "# import selenium \n",
    "# import shutil\n",
    "# import time\n",
    "\n",
    "# from datetime import datetime,timedelta\n",
    "# from typing import Literal, Optional\n",
    "\n",
    "\n",
    "# from selenium import webdriver\n",
    "# from selenium.webdriver.common.keys import Keys\n",
    "# from selenium.webdriver.common.by import By\n",
    "# from selenium.webdriver.chrome.options import Options\n",
    "# from selenium.webdriver.chrome.service import Service\n",
    "# from selenium.webdriver.support.ui import WebDriverWait\n",
    "# from selenium.webdriver.support import expected_conditions as EC"
   ]
  },
  {
   "cell_type": "code",
   "execution_count": 4,
   "metadata": {},
   "outputs": [
    {
     "name": "stdout",
     "output_type": "stream",
     "text": [
      "Create new path: scarpe\n",
      "File moved successfully.\n"
     ]
    }
   ],
   "source": [
    "TRADE_USER= os.getenv('TRADE_USER')\n",
    "TRADE_PASS= os.getenv('TRADE_PASS')\n",
    "scraper = TradeScraper(TRADE_USER, TRADE_PASS)\n",
    "scraper.scrape_fpts_trading_log(report_type='TradeLog')\n",
    "scraper.scrape_fpts_trading_log(report_type='reportprofitloss')\n",
    "scraper.scrape_fpts_trading_log(report_type='AssetReport2')\n",
    "scraper.close_broser()"
   ]
  },
  {
   "cell_type": "code",
   "execution_count": 5,
   "metadata": {},
   "outputs": [],
   "source": [
    "buysell_analyzer = BuySellAnalyzer(buy_sell_df_path='data/LichSuKhopLenh_058C647873.csv')"
   ]
  },
  {
   "cell_type": "code",
   "execution_count": 6,
   "metadata": {},
   "outputs": [
    {
     "data": {
      "text/html": [
       "<div>\n",
       "<style scoped>\n",
       "    .dataframe tbody tr th:only-of-type {\n",
       "        vertical-align: middle;\n",
       "    }\n",
       "\n",
       "    .dataframe tbody tr th {\n",
       "        vertical-align: top;\n",
       "    }\n",
       "\n",
       "    .dataframe thead th {\n",
       "        text-align: right;\n",
       "    }\n",
       "</style>\n",
       "<table border=\"1\" class=\"dataframe\">\n",
       "  <thead>\n",
       "    <tr style=\"text-align: right;\">\n",
       "      <th></th>\n",
       "      <th>time</th>\n",
       "      <th>action</th>\n",
       "      <th>ticker</th>\n",
       "      <th>vol</th>\n",
       "      <th>price</th>\n",
       "      <th>value</th>\n",
       "      <th>tax_from_transfer</th>\n",
       "      <th>tax_from_capital</th>\n",
       "      <th>platform_fee</th>\n",
       "      <th>total_fee</th>\n",
       "    </tr>\n",
       "  </thead>\n",
       "  <tbody>\n",
       "    <tr>\n",
       "      <th>560</th>\n",
       "      <td>2023-11-27</td>\n",
       "      <td>sell</td>\n",
       "      <td>HHV</td>\n",
       "      <td>200.0</td>\n",
       "      <td>15000.0</td>\n",
       "      <td>3000000.0</td>\n",
       "      <td>3000.0</td>\n",
       "      <td>0.0</td>\n",
       "      <td>2640.0</td>\n",
       "      <td>5640.0</td>\n",
       "    </tr>\n",
       "    <tr>\n",
       "      <th>562</th>\n",
       "      <td>2023-11-28</td>\n",
       "      <td>buy</td>\n",
       "      <td>PDR</td>\n",
       "      <td>200.0</td>\n",
       "      <td>26000.0</td>\n",
       "      <td>5200000.0</td>\n",
       "      <td>0.0</td>\n",
       "      <td>0.0</td>\n",
       "      <td>4576.0</td>\n",
       "      <td>4576.0</td>\n",
       "    </tr>\n",
       "    <tr>\n",
       "      <th>563</th>\n",
       "      <td>2023-11-28</td>\n",
       "      <td>buy</td>\n",
       "      <td>VIX</td>\n",
       "      <td>400.0</td>\n",
       "      <td>15800.0</td>\n",
       "      <td>6320000.0</td>\n",
       "      <td>0.0</td>\n",
       "      <td>0.0</td>\n",
       "      <td>5561.0</td>\n",
       "      <td>5561.0</td>\n",
       "    </tr>\n",
       "    <tr>\n",
       "      <th>565</th>\n",
       "      <td>2023-11-29</td>\n",
       "      <td>sell</td>\n",
       "      <td>SHS</td>\n",
       "      <td>500.0</td>\n",
       "      <td>17800.0</td>\n",
       "      <td>8900000.0</td>\n",
       "      <td>8900.0</td>\n",
       "      <td>0.0</td>\n",
       "      <td>7832.0</td>\n",
       "      <td>16732.0</td>\n",
       "    </tr>\n",
       "    <tr>\n",
       "      <th>567</th>\n",
       "      <td>2023-12-01</td>\n",
       "      <td>sell</td>\n",
       "      <td>SHS</td>\n",
       "      <td>500.0</td>\n",
       "      <td>18400.0</td>\n",
       "      <td>9200000.0</td>\n",
       "      <td>9200.0</td>\n",
       "      <td>0.0</td>\n",
       "      <td>8096.0</td>\n",
       "      <td>17296.0</td>\n",
       "    </tr>\n",
       "  </tbody>\n",
       "</table>\n",
       "</div>"
      ],
      "text/plain": [
       "          time action ticker    vol    price      value  tax_from_transfer  \\\n",
       "560 2023-11-27   sell    HHV  200.0  15000.0  3000000.0             3000.0   \n",
       "562 2023-11-28    buy    PDR  200.0  26000.0  5200000.0                0.0   \n",
       "563 2023-11-28    buy    VIX  400.0  15800.0  6320000.0                0.0   \n",
       "565 2023-11-29   sell    SHS  500.0  17800.0  8900000.0             8900.0   \n",
       "567 2023-12-01   sell    SHS  500.0  18400.0  9200000.0             9200.0   \n",
       "\n",
       "     tax_from_capital  platform_fee  total_fee  \n",
       "560               0.0        2640.0     5640.0  \n",
       "562               0.0        4576.0     4576.0  \n",
       "563               0.0        5561.0     5561.0  \n",
       "565               0.0        7832.0    16732.0  \n",
       "567               0.0        8096.0    17296.0  "
      ]
     },
     "execution_count": 6,
     "metadata": {},
     "output_type": "execute_result"
    }
   ],
   "source": [
    "buysell_analyzer.df.tail()"
   ]
  },
  {
   "cell_type": "code",
   "execution_count": 7,
   "metadata": {},
   "outputs": [],
   "source": [
    "symbol ='VIX'"
   ]
  },
  {
   "cell_type": "code",
   "execution_count": 8,
   "metadata": {},
   "outputs": [
    {
     "ename": "TypeError",
     "evalue": "BuySellAnalyzer._plot_candlestick_with_actions() missing 1 required positional argument: 'save_path'",
     "output_type": "error",
     "traceback": [
      "\u001b[0;31m---------------------------------------------------------------------------\u001b[0m",
      "\u001b[0;31mTypeError\u001b[0m                                 Traceback (most recent call last)",
      "\u001b[1;32m/root/code_Bao/stock_price_4_fun/notebook/crawl_data.ipynb Cell 8\u001b[0m line \u001b[0;36m1\n\u001b[0;32m----> <a href='vscode-notebook-cell://wsl%2Bubuntu/root/code_Bao/stock_price_4_fun/notebook/crawl_data.ipynb#X10sdnNjb2RlLXJlbW90ZQ%3D%3D?line=0'>1</a>\u001b[0m buysell_analyzer\u001b[39m.\u001b[39;49mplot_buy_sell_of_stock(symbol)\n",
      "File \u001b[0;32m~/code_Bao/stock_price_4_fun/src/trading_record.py:330\u001b[0m, in \u001b[0;36mBuySellAnalyzer.plot_buy_sell_of_stock\u001b[0;34m(self, symbol)\u001b[0m\n\u001b[1;32m    328\u001b[0m \u001b[39mdef\u001b[39;00m \u001b[39mplot_buy_sell_of_stock\u001b[39m(\u001b[39mself\u001b[39m, symbol:\u001b[39mstr\u001b[39m \u001b[39m=\u001b[39m \u001b[39m'\u001b[39m\u001b[39mSSI\u001b[39m\u001b[39m'\u001b[39m):\n\u001b[1;32m    329\u001b[0m     df_merge \u001b[39m=\u001b[39m \u001b[39mself\u001b[39m\u001b[39m.\u001b[39m_create_plot_dataset(symbol)\n\u001b[0;32m--> 330\u001b[0m     \u001b[39mself\u001b[39;49m\u001b[39m.\u001b[39;49m_plot_candlestick_with_actions(df_merge)\n",
      "\u001b[0;31mTypeError\u001b[0m: BuySellAnalyzer._plot_candlestick_with_actions() missing 1 required positional argument: 'save_path'"
     ]
    }
   ],
   "source": [
    "buysell_analyzer.plot_buy_sell_of_stock(symbol)"
   ]
  },
  {
   "cell_type": "code",
   "execution_count": null,
   "metadata": {},
   "outputs": [
    {
     "data": {
      "text/html": [
       "<div>\n",
       "<style scoped>\n",
       "    .dataframe tbody tr th:only-of-type {\n",
       "        vertical-align: middle;\n",
       "    }\n",
       "\n",
       "    .dataframe tbody tr th {\n",
       "        vertical-align: top;\n",
       "    }\n",
       "\n",
       "    .dataframe thead th {\n",
       "        text-align: right;\n",
       "    }\n",
       "</style>\n",
       "<table border=\"1\" class=\"dataframe\">\n",
       "  <thead>\n",
       "    <tr style=\"text-align: right;\">\n",
       "      <th></th>\n",
       "      <th>time</th>\n",
       "      <th>sell_vol</th>\n",
       "      <th>sell_price</th>\n",
       "      <th>sell_value</th>\n",
       "      <th>capital_price</th>\n",
       "      <th>capital_value</th>\n",
       "      <th>win_loss_value</th>\n",
       "      <th>win_loss_percent</th>\n",
       "      <th>ticker</th>\n",
       "    </tr>\n",
       "  </thead>\n",
       "  <tbody>\n",
       "    <tr>\n",
       "      <th>1</th>\n",
       "      <td>2023-06-23</td>\n",
       "      <td>600.0</td>\n",
       "      <td>9950.0</td>\n",
       "      <td>5970000.0</td>\n",
       "      <td>10150.0</td>\n",
       "      <td>6090000.0</td>\n",
       "      <td>-120000.0</td>\n",
       "      <td>-1.97</td>\n",
       "      <td>BCG</td>\n",
       "    </tr>\n",
       "    <tr>\n",
       "      <th>2</th>\n",
       "      <td>2023-06-26</td>\n",
       "      <td>600.0</td>\n",
       "      <td>9610.0</td>\n",
       "      <td>5766000.0</td>\n",
       "      <td>10150.0</td>\n",
       "      <td>6090000.0</td>\n",
       "      <td>-324000.0</td>\n",
       "      <td>-5.32</td>\n",
       "      <td>BCG</td>\n",
       "    </tr>\n",
       "    <tr>\n",
       "      <th>4</th>\n",
       "      <td>2023-08-16</td>\n",
       "      <td>200.0</td>\n",
       "      <td>20500.0</td>\n",
       "      <td>4100000.0</td>\n",
       "      <td>20388.0</td>\n",
       "      <td>4077500.0</td>\n",
       "      <td>22500.0</td>\n",
       "      <td>0.55</td>\n",
       "      <td>BSR</td>\n",
       "    </tr>\n",
       "    <tr>\n",
       "      <th>5</th>\n",
       "      <td>2023-08-16</td>\n",
       "      <td>100.0</td>\n",
       "      <td>20500.0</td>\n",
       "      <td>2050000.0</td>\n",
       "      <td>20388.0</td>\n",
       "      <td>2038750.0</td>\n",
       "      <td>11250.0</td>\n",
       "      <td>0.55</td>\n",
       "      <td>BSR</td>\n",
       "    </tr>\n",
       "    <tr>\n",
       "      <th>6</th>\n",
       "      <td>2023-08-16</td>\n",
       "      <td>100.0</td>\n",
       "      <td>20500.0</td>\n",
       "      <td>2050000.0</td>\n",
       "      <td>20388.0</td>\n",
       "      <td>2038750.0</td>\n",
       "      <td>11250.0</td>\n",
       "      <td>0.55</td>\n",
       "      <td>BSR</td>\n",
       "    </tr>\n",
       "  </tbody>\n",
       "</table>\n",
       "</div>"
      ],
      "text/plain": [
       "        time  sell_vol  sell_price  sell_value  capital_price  capital_value  \\\n",
       "1 2023-06-23     600.0      9950.0   5970000.0        10150.0      6090000.0   \n",
       "2 2023-06-26     600.0      9610.0   5766000.0        10150.0      6090000.0   \n",
       "4 2023-08-16     200.0     20500.0   4100000.0        20388.0      4077500.0   \n",
       "5 2023-08-16     100.0     20500.0   2050000.0        20388.0      2038750.0   \n",
       "6 2023-08-16     100.0     20500.0   2050000.0        20388.0      2038750.0   \n",
       "\n",
       "   win_loss_value  win_loss_percent ticker  \n",
       "1       -120000.0             -1.97    BCG  \n",
       "2       -324000.0             -5.32    BCG  \n",
       "4         22500.0              0.55    BSR  \n",
       "5         11250.0              0.55    BSR  \n",
       "6         11250.0              0.55    BSR  "
      ]
     },
     "execution_count": 8,
     "metadata": {},
     "output_type": "execute_result"
    }
   ],
   "source": [
    "winloss_analyzer = WinLossAnalyzer(win_loss_df_path='data/BaoCaoLaiLo_058C647873.csv')\n",
    "winloss_analyzer.df.head()"
   ]
  },
  {
   "cell_type": "code",
   "execution_count": null,
   "metadata": {},
   "outputs": [
    {
     "name": "stdout",
     "output_type": "stream",
     "text": [
      "Strategy Analysis Report:\n",
      "--------------------------------------------------\n",
      "Win Ratio: 63.68\n",
      "Payoff Ratio: 1.11\n",
      "Largest Winning Trade: 2057498.00\n",
      "Largest Losing Trade: -1906250.00\n",
      "Largest Winning Trade percent: 2113.00\n",
      "Largest Losing Trade percent: -1694.00\n",
      "Average Winning Trade: 360093.99\n",
      "Average Losing Trade: -323215.28\n",
      "Largest % Drawdown: -58.62\n",
      "Average % Drawdown: -15.97\n",
      "Total Days: 170\n",
      "total_sell_value: 1786855000.00\n",
      "total_capital: 1762058300.00\n",
      "delta_sell_capital: 24796700.00\n",
      "delta_sell_capital_percent: 1.41\n",
      "Average Trading Frequency per Month: 32.67\n",
      "Top Best Stock: [('FRT', 9352000.0)]\n",
      "Top Worst Stock: [('ORS', -3005000.0)]\n"
     ]
    }
   ],
   "source": [
    "winloss_analyzer.get_report()"
   ]
  }
 ],
 "metadata": {
  "kernelspec": {
   "display_name": "venv",
   "language": "python",
   "name": "python3"
  },
  "language_info": {
   "codemirror_mode": {
    "name": "ipython",
    "version": 3
   },
   "file_extension": ".py",
   "mimetype": "text/x-python",
   "name": "python",
   "nbconvert_exporter": "python",
   "pygments_lexer": "ipython3",
   "version": "3.10.12"
  }
 },
 "nbformat": 4,
 "nbformat_minor": 2
}
