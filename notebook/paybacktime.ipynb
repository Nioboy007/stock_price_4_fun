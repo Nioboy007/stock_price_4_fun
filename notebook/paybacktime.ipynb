{
 "cells": [
  {
   "cell_type": "code",
   "execution_count": 1,
   "metadata": {},
   "outputs": [
    {
     "name": "stdout",
     "output_type": "stream",
     "text": [
      "/root/code_Bao/stock_price_4_fun/notebook\n"
     ]
    }
   ],
   "source": [
    "import os\n",
    "try:\n",
    "    print(file_path)\n",
    "except:\n",
    "    file_path = os.path.abspath('')\n",
    "    os.chdir(os.path.dirname(file_path))\n",
    "    print(file_path)"
   ]
  },
  {
   "cell_type": "code",
   "execution_count": 2,
   "metadata": {},
   "outputs": [],
   "source": [
    "import pandas as pd\n",
    "pd.set_option('display.max_columns', None)\n",
    "import numpy as np\n",
    "import matplotlib as plt\n",
    "from vnstock import *\n",
    "from src.PayBackTime import PayBackTime, find_PBT_stocks"
   ]
  },
  {
   "cell_type": "markdown",
   "metadata": {},
   "source": [
    "Theo payback time. Để định giá một cổ phiếu thì cần các chỉ số tài chính sau có mức tăng trưởng trên 10%\n",
    "- Lợi nhuận sau thuế\n",
    "- EPS: earningPerShare\n",
    "- PE < 10: priceToEarning\n",
    "- BVPS: bookValuePerShare\n",
    "- ROE: roe\n",
    "- Cash hoạt động kinh doanh > 0\n",
    "- Tổng Nợ < 3 Sum (Lợi nhuận 3 năm)"
   ]
  },
  {
   "cell_type": "code",
   "execution_count": 3,
   "metadata": {},
   "outputs": [],
   "source": [
    "pbt_generator = PayBackTime(symbol='ACB', report_range='yearly', window_size=10)"
   ]
  },
  {
   "cell_type": "code",
   "execution_count": 4,
   "metadata": {},
   "outputs": [],
   "source": [
    "# pbt_generator.check_debt()"
   ]
  },
  {
   "cell_type": "code",
   "execution_count": 5,
   "metadata": {},
   "outputs": [],
   "source": [
    "# pbt_generator.get_dataframe_by_column(column_name='grossProfit').grossProfit"
   ]
  },
  {
   "cell_type": "code",
   "execution_count": 6,
   "metadata": {},
   "outputs": [
    {
     "name": "stdout",
     "output_type": "stream",
     "text": [
      "\n",
      "Current EPS: 3838\n",
      "Future PE: 10.60\n",
      "Future Growth Rate: 17.33%\n",
      "Debt: 549437 - Profit: 0\n",
      "Debt is more than profit.\n",
      "\n",
      "              Feature   Interest   Status  Time Length\n",
      "0                roe  14.913273     Good           10\n",
      "1    earningPerShare  27.724322     Good           10\n",
      "2  bookValuePerShare  12.514701     Good           10\n",
      "3            revenue  17.819177     Good           10\n",
      "4        grossProfit        NaN  Neutral            0\n",
      "5            capital  13.671570     Good           10 \n",
      "\n",
      "ACB - Sticker price: 49.71 - MOS price: 24.86 (nghìn VND)\n",
      "Current price: 22.20\n",
      "The payback time for ACB is 4 years.\n",
      "-------------------------\n"
     ]
    }
   ],
   "source": [
    "pbt_generator.get_report()"
   ]
  },
  {
   "cell_type": "markdown",
   "metadata": {},
   "source": [
    "## Filter Pay back time stocks"
   ]
  },
  {
   "cell_type": "code",
   "execution_count": 7,
   "metadata": {},
   "outputs": [],
   "source": [
    "def filter_stocks(param):\n",
    "    df = stock_screening_insights (param, size=1700, drop_lang='vi')\n",
    "    if len(df)!= 0:\n",
    "        print(df.ticker.unique())\n",
    "    return df"
   ]
  },
  {
   "cell_type": "code",
   "execution_count": 8,
   "metadata": {},
   "outputs": [
    {
     "name": "stdout",
     "output_type": "stream",
     "text": [
      "['ACB' 'AGG' 'CNG' 'HCM' 'HDB' 'HHV' 'LGC' 'MBB' 'PAN' 'STB' 'TDM' 'VCI'\n",
      " 'VPG']\n"
     ]
    },
    {
     "name": "stderr",
     "output_type": "stream",
     "text": [
      "/root/code_Bao/stock_price_4_fun/src/PayBackTime.py:54: RuntimeWarning: invalid value encountered in scalar power\n",
      "  interest =  ((current_value / initial_value) ** (1 / time_length) - 1) * 100\n"
     ]
    },
    {
     "name": "stdout",
     "output_type": "stream",
     "text": [
      "PBT stocks: ['ACB', 'HDB', 'HHV', 'MBB', 'PAN']\n"
     ]
    }
   ],
   "source": [
    "result = find_PBT_stocks()"
   ]
  },
  {
   "cell_type": "code",
   "execution_count": 9,
   "metadata": {},
   "outputs": [
    {
     "data": {
      "text/plain": [
       "['ACB', 'HDB', 'HHV', 'MBB', 'PAN']"
      ]
     },
     "execution_count": 9,
     "metadata": {},
     "output_type": "execute_result"
    }
   ],
   "source": [
    "result"
   ]
  }
 ],
 "metadata": {
  "kernelspec": {
   "display_name": "stock4fun",
   "language": "python",
   "name": "python3"
  },
  "language_info": {
   "codemirror_mode": {
    "name": "ipython",
    "version": 3
   },
   "file_extension": ".py",
   "mimetype": "text/x-python",
   "name": "python",
   "nbconvert_exporter": "python",
   "pygments_lexer": "ipython3",
   "version": "3.10.6"
  }
 },
 "nbformat": 4,
 "nbformat_minor": 2
}
